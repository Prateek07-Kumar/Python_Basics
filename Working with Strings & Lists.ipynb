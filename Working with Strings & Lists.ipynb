{
 "cells": [
  {
   "cell_type": "code",
   "execution_count": 2,
   "id": "3fcf67cf",
   "metadata": {},
   "outputs": [],
   "source": [
    "a = \"prateek\""
   ]
  },
  {
   "cell_type": "code",
   "execution_count": 7,
   "id": "140cbe91",
   "metadata": {},
   "outputs": [],
   "source": [
    "b = \"subham\""
   ]
  },
  {
   "cell_type": "code",
   "execution_count": 4,
   "id": "07a47087",
   "metadata": {},
   "outputs": [
    {
     "data": {
      "text/plain": [
       "'prateek'"
      ]
     },
     "execution_count": 4,
     "metadata": {},
     "output_type": "execute_result"
    }
   ],
   "source": [
    "a"
   ]
  },
  {
   "cell_type": "code",
   "execution_count": 8,
   "id": "f37d24d7",
   "metadata": {},
   "outputs": [
    {
     "data": {
      "text/plain": [
       "'subham'"
      ]
     },
     "execution_count": 8,
     "metadata": {},
     "output_type": "execute_result"
    }
   ],
   "source": [
    "b"
   ]
  },
  {
   "cell_type": "code",
   "execution_count": 13,
   "id": "8631b59d",
   "metadata": {},
   "outputs": [],
   "source": [
    "c = \"this is my first class in data science, that's why i have joined this class\""
   ]
  },
  {
   "cell_type": "code",
   "execution_count": 14,
   "id": "344d3f2e",
   "metadata": {},
   "outputs": [
    {
     "data": {
      "text/plain": [
       "\"this is my first class in data science, that's why i have joined this class\""
      ]
     },
     "execution_count": 14,
     "metadata": {},
     "output_type": "execute_result"
    }
   ],
   "source": [
    "c"
   ]
  },
  {
   "cell_type": "code",
   "execution_count": 2,
   "id": "cad6c129",
   "metadata": {},
   "outputs": [],
   "source": [
    "s = \"this is my first class in data science\""
   ]
  },
  {
   "cell_type": "code",
   "execution_count": 3,
   "id": "33025a2d",
   "metadata": {},
   "outputs": [
    {
     "data": {
      "text/plain": [
       "'t'"
      ]
     },
     "execution_count": 3,
     "metadata": {},
     "output_type": "execute_result"
    }
   ],
   "source": [
    "s [0]"
   ]
  },
  {
   "cell_type": "code",
   "execution_count": 4,
   "id": "f249faa0",
   "metadata": {},
   "outputs": [
    {
     "data": {
      "text/plain": [
       "'e'"
      ]
     },
     "execution_count": 4,
     "metadata": {},
     "output_type": "execute_result"
    }
   ],
   "source": [
    "s [-1]"
   ]
  },
  {
   "cell_type": "code",
   "execution_count": 5,
   "id": "83ae5860",
   "metadata": {},
   "outputs": [
    {
     "data": {
      "text/plain": [
       "38"
      ]
     },
     "execution_count": 5,
     "metadata": {},
     "output_type": "execute_result"
    }
   ],
   "source": [
    "len(s)"
   ]
  },
  {
   "cell_type": "code",
   "execution_count": 256,
   "id": "5aa28f9c",
   "metadata": {},
   "outputs": [
    {
     "data": {
      "text/plain": [
       "' is my'"
      ]
     },
     "execution_count": 256,
     "metadata": {},
     "output_type": "execute_result"
    }
   ],
   "source": [
    "s[4:10:1]"
   ]
  },
  {
   "cell_type": "code",
   "execution_count": 31,
   "id": "08205ca9",
   "metadata": {},
   "outputs": [
    {
     "data": {
      "text/plain": [
       "'ecneics a'"
      ]
     },
     "execution_count": 31,
     "metadata": {},
     "output_type": "execute_result"
    }
   ],
   "source": [
    "s[-1:-10:-1]"
   ]
  },
  {
   "cell_type": "code",
   "execution_count": 33,
   "id": "c335d7f4",
   "metadata": {},
   "outputs": [
    {
     "data": {
      "text/plain": [
       "'this is my first class in data science'"
      ]
     },
     "execution_count": 33,
     "metadata": {},
     "output_type": "execute_result"
    }
   ],
   "source": [
    "s"
   ]
  },
  {
   "cell_type": "code",
   "execution_count": 34,
   "id": "e1873fee",
   "metadata": {},
   "outputs": [
    {
     "name": "stdout",
     "output_type": "stream",
     "text": [
      "t\n",
      "h\n",
      "i\n",
      "s\n",
      " \n",
      "i\n",
      "s\n",
      " \n",
      "m\n",
      "y\n",
      " \n",
      "f\n",
      "i\n",
      "r\n",
      "s\n",
      "t\n",
      " \n",
      "c\n",
      "l\n",
      "a\n",
      "s\n",
      "s\n",
      " \n",
      "i\n",
      "n\n",
      " \n",
      "d\n",
      "a\n",
      "t\n",
      "a\n",
      " \n",
      "s\n",
      "c\n",
      "i\n",
      "e\n",
      "n\n",
      "c\n",
      "e\n"
     ]
    }
   ],
   "source": [
    "for i in s:\n",
    "    print(i)"
   ]
  },
  {
   "cell_type": "code",
   "execution_count": 17,
   "id": "9344cbc8",
   "metadata": {},
   "outputs": [
    {
     "name": "stdout",
     "output_type": "stream",
     "text": [
      "t\n",
      "h\n",
      "i\n",
      "s\n",
      " \n",
      "i\n",
      "s\n",
      " \n",
      "m\n",
      "y\n",
      " \n",
      "f\n",
      "i\n",
      "r\n",
      "s\n",
      "t\n",
      " \n",
      "c\n",
      "l\n",
      "a\n",
      "s\n",
      "s\n",
      " \n",
      "i\n",
      "n\n",
      " \n",
      "d\n",
      "a\n",
      "t\n",
      "a\n",
      " \n",
      "s\n",
      "c\n",
      "i\n",
      "e\n",
      "n\n",
      "c\n",
      "e\n"
     ]
    }
   ],
   "source": [
    "for i in range(len(s)):\n",
    "    print(s[i])"
   ]
  },
  {
   "cell_type": "code",
   "execution_count": 56,
   "id": "f1bf81a7",
   "metadata": {},
   "outputs": [
    {
     "data": {
      "text/plain": [
       "'enisaa isactrfy ish'"
      ]
     },
     "execution_count": 56,
     "metadata": {},
     "output_type": "execute_result"
    }
   ],
   "source": [
    "s[::-2]"
   ]
  },
  {
   "cell_type": "code",
   "execution_count": 53,
   "id": "6a9e9414",
   "metadata": {},
   "outputs": [
    {
     "data": {
      "text/plain": [
       "'this is my first class in data science'"
      ]
     },
     "execution_count": 53,
     "metadata": {},
     "output_type": "execute_result"
    }
   ],
   "source": [
    "s"
   ]
  },
  {
   "cell_type": "code",
   "execution_count": 54,
   "id": "f6a1ceea",
   "metadata": {},
   "outputs": [
    {
     "data": {
      "text/plain": [
       "'enisaa isactrfy ish'"
      ]
     },
     "execution_count": 54,
     "metadata": {},
     "output_type": "execute_result"
    }
   ],
   "source": [
    "s[::-2]"
   ]
  },
  {
   "cell_type": "code",
   "execution_count": null,
   "id": "e631aa7e",
   "metadata": {},
   "outputs": [],
   "source": [
    "# "
   ]
  },
  {
   "cell_type": "code",
   "execution_count": 40,
   "id": "1c2aec93",
   "metadata": {},
   "outputs": [],
   "source": [
    "l = [\"sdfs\",234,225,335,245,True]"
   ]
  },
  {
   "cell_type": "code",
   "execution_count": 41,
   "id": "0f0114dd",
   "metadata": {},
   "outputs": [
    {
     "data": {
      "text/plain": [
       "'sdfs'"
      ]
     },
     "execution_count": 41,
     "metadata": {},
     "output_type": "execute_result"
    }
   ],
   "source": [
    "l[0]"
   ]
  },
  {
   "cell_type": "code",
   "execution_count": 42,
   "id": "0c5215dc",
   "metadata": {},
   "outputs": [],
   "source": [
    "l[0] = \"prateek\"      #replace the value "
   ]
  },
  {
   "cell_type": "code",
   "execution_count": 57,
   "id": "189dde3f",
   "metadata": {},
   "outputs": [
    {
     "data": {
      "text/plain": [
       "['prateek', 234, 225, 335, 245, True]"
      ]
     },
     "execution_count": 57,
     "metadata": {},
     "output_type": "execute_result"
    }
   ],
   "source": [
    "l"
   ]
  },
  {
   "cell_type": "code",
   "execution_count": 44,
   "id": "d1fae8f7",
   "metadata": {},
   "outputs": [
    {
     "data": {
      "text/plain": [
       "['prateek', 234, 225, 335, 245, True]"
      ]
     },
     "execution_count": 44,
     "metadata": {},
     "output_type": "execute_result"
    }
   ],
   "source": [
    "l"
   ]
  },
  {
   "cell_type": "markdown",
   "id": "bc44ee47",
   "metadata": {},
   "source": [
    "# type casting"
   ]
  },
  {
   "cell_type": "code",
   "execution_count": 68,
   "id": "d6863fac",
   "metadata": {},
   "outputs": [
    {
     "data": {
      "text/plain": [
       "'prateek Kumar'"
      ]
     },
     "execution_count": 68,
     "metadata": {},
     "output_type": "execute_result"
    }
   ],
   "source": [
    "\"prateek\"  + \" Kumar\""
   ]
  },
  {
   "cell_type": "code",
   "execution_count": 69,
   "id": "084f8251",
   "metadata": {},
   "outputs": [
    {
     "data": {
      "text/plain": [
       "'prateek3'"
      ]
     },
     "execution_count": 69,
     "metadata": {},
     "output_type": "execute_result"
    }
   ],
   "source": [
    "\"prateek\" + str(3)"
   ]
  },
  {
   "cell_type": "code",
   "execution_count": 7,
   "id": "97efa2bc",
   "metadata": {},
   "outputs": [
    {
     "data": {
      "text/plain": [
       "('prateekKumar', 3, 4, 5, 6)"
      ]
     },
     "execution_count": 7,
     "metadata": {},
     "output_type": "execute_result"
    }
   ],
   "source": [
    "\"prateek\" + \"Kumar\", 3,4,5,6"
   ]
  },
  {
   "cell_type": "code",
   "execution_count": 72,
   "id": "2e2bfe79",
   "metadata": {},
   "outputs": [
    {
     "data": {
      "text/plain": [
       "'prateek prateek prateek prateek prateek prateek '"
      ]
     },
     "execution_count": 72,
     "metadata": {},
     "output_type": "execute_result"
    }
   ],
   "source": [
    "\"prateek \" * 6"
   ]
  },
  {
   "cell_type": "code",
   "execution_count": 73,
   "id": "7f464b56",
   "metadata": {},
   "outputs": [],
   "source": [
    "s =\"my name is  \" "
   ]
  },
  {
   "cell_type": "code",
   "execution_count": 74,
   "id": "1b85c50f",
   "metadata": {},
   "outputs": [
    {
     "data": {
      "text/plain": [
       "'my name is  '"
      ]
     },
     "execution_count": 74,
     "metadata": {},
     "output_type": "execute_result"
    }
   ],
   "source": [
    "s"
   ]
  },
  {
   "cell_type": "code",
   "execution_count": 77,
   "id": "d0a909e2",
   "metadata": {},
   "outputs": [
    {
     "data": {
      "text/plain": [
       "-1"
      ]
     },
     "execution_count": 77,
     "metadata": {},
     "output_type": "execute_result"
    }
   ],
   "source": [
    "s.find(\"dfgf\")"
   ]
  },
  {
   "cell_type": "code",
   "execution_count": 78,
   "id": "0e99c301",
   "metadata": {},
   "outputs": [
    {
     "data": {
      "text/plain": [
       "0"
      ]
     },
     "execution_count": 78,
     "metadata": {},
     "output_type": "execute_result"
    }
   ],
   "source": [
    "s.find(\"my\")"
   ]
  },
  {
   "cell_type": "code",
   "execution_count": 79,
   "id": "920bb0ae",
   "metadata": {},
   "outputs": [
    {
     "data": {
      "text/plain": [
       "3"
      ]
     },
     "execution_count": 79,
     "metadata": {},
     "output_type": "execute_result"
    }
   ],
   "source": [
    "s.find(\"name\")"
   ]
  },
  {
   "cell_type": "code",
   "execution_count": 120,
   "id": "4de2f97d",
   "metadata": {},
   "outputs": [],
   "source": [
    "s = \"my name is prateek Kumar , Name of org is ineuron\""
   ]
  },
  {
   "cell_type": "code",
   "execution_count": 90,
   "id": "844cd977",
   "metadata": {},
   "outputs": [
    {
     "data": {
      "text/plain": [
       "11"
      ]
     },
     "execution_count": 90,
     "metadata": {},
     "output_type": "execute_result"
    }
   ],
   "source": [
    "s.find(\"prateek\")"
   ]
  },
  {
   "cell_type": "code",
   "execution_count": 93,
   "id": "e644ee72",
   "metadata": {},
   "outputs": [
    {
     "name": "stdout",
     "output_type": "stream",
     "text": [
      "3\n",
      "4\n",
      "5\n",
      "6\n"
     ]
    }
   ],
   "source": [
    "a = s.find(\"name\")\n",
    "for i in range(len(\"name\")):\n",
    "    print(a + i)\n"
   ]
  },
  {
   "cell_type": "code",
   "execution_count": 102,
   "id": "8f4987dd",
   "metadata": {},
   "outputs": [
    {
     "data": {
      "text/plain": [
       "'my name is prateek Kumar , name of org is ineuron'"
      ]
     },
     "execution_count": 102,
     "metadata": {},
     "output_type": "execute_result"
    }
   ],
   "source": [
    "s"
   ]
  },
  {
   "cell_type": "code",
   "execution_count": 109,
   "id": "26cefea2",
   "metadata": {},
   "outputs": [
    {
     "data": {
      "text/plain": [
       "2"
      ]
     },
     "execution_count": 109,
     "metadata": {},
     "output_type": "execute_result"
    }
   ],
   "source": [
    "s.count(\"name\")"
   ]
  },
  {
   "cell_type": "code",
   "execution_count": 106,
   "id": "3b1c383c",
   "metadata": {},
   "outputs": [
    {
     "data": {
      "text/plain": [
       "'my name is prateek Kumar , of org is ineuron'"
      ]
     },
     "execution_count": 106,
     "metadata": {},
     "output_type": "execute_result"
    }
   ],
   "source": [
    "s"
   ]
  },
  {
   "cell_type": "code",
   "execution_count": 110,
   "id": "1cd7cee4",
   "metadata": {},
   "outputs": [
    {
     "data": {
      "text/plain": [
       "['my',\n",
       " 'name',\n",
       " 'is',\n",
       " 'prateek',\n",
       " 'Kumar',\n",
       " ',',\n",
       " 'name',\n",
       " 'of',\n",
       " 'org',\n",
       " 'is',\n",
       " 'ineuron']"
      ]
     },
     "execution_count": 110,
     "metadata": {},
     "output_type": "execute_result"
    }
   ],
   "source": [
    "s.split()"
   ]
  },
  {
   "cell_type": "code",
   "execution_count": 113,
   "id": "ff4c7356",
   "metadata": {},
   "outputs": [
    {
     "data": {
      "text/plain": [
       "['my name is prateek Kumar ', ' name of org is ineuron']"
      ]
     },
     "execution_count": 113,
     "metadata": {},
     "output_type": "execute_result"
    }
   ],
   "source": [
    "s.split(',')"
   ]
  },
  {
   "cell_type": "code",
   "execution_count": 112,
   "id": "0eb8d725",
   "metadata": {},
   "outputs": [
    {
     "data": {
      "text/plain": [
       "['my ', 'ame is prateek Kumar , ', 'ame of org is i', 'euro', '']"
      ]
     },
     "execution_count": 112,
     "metadata": {},
     "output_type": "execute_result"
    }
   ],
   "source": [
    "s.split('n')"
   ]
  },
  {
   "cell_type": "code",
   "execution_count": 114,
   "id": "6639289d",
   "metadata": {},
   "outputs": [
    {
     "data": {
      "text/plain": [
       "['my ', 'me is prateek Kumar , ', 'me of org is ineuron']"
      ]
     },
     "execution_count": 114,
     "metadata": {},
     "output_type": "execute_result"
    }
   ],
   "source": [
    "s.split('na')"
   ]
  },
  {
   "cell_type": "code",
   "execution_count": 115,
   "id": "bc4cdefd",
   "metadata": {},
   "outputs": [
    {
     "data": {
      "text/plain": [
       "list"
      ]
     },
     "execution_count": 115,
     "metadata": {},
     "output_type": "execute_result"
    }
   ],
   "source": [
    "type(s.split('n'))"
   ]
  },
  {
   "cell_type": "code",
   "execution_count": 124,
   "id": "9e549c33",
   "metadata": {},
   "outputs": [
    {
     "data": {
      "text/plain": [
       "'my name is prateek Kumar , Name of org is ineuron'"
      ]
     },
     "execution_count": 124,
     "metadata": {},
     "output_type": "execute_result"
    }
   ],
   "source": [
    "s"
   ]
  },
  {
   "cell_type": "code",
   "execution_count": 123,
   "id": "a0f5efc4",
   "metadata": {},
   "outputs": [
    {
     "data": {
      "text/plain": [
       "'MY NAME IS PRATEEK KUMAR , NAME OF ORG IS INEURON'"
      ]
     },
     "execution_count": 123,
     "metadata": {},
     "output_type": "execute_result"
    }
   ],
   "source": [
    "s.upper()"
   ]
  },
  {
   "cell_type": "code",
   "execution_count": 125,
   "id": "f3e5822c",
   "metadata": {},
   "outputs": [
    {
     "data": {
      "text/plain": [
       "'my name is prateek kumar , name of org is ineuron'"
      ]
     },
     "execution_count": 125,
     "metadata": {},
     "output_type": "execute_result"
    }
   ],
   "source": [
    "s.lower()"
   ]
  },
  {
   "cell_type": "code",
   "execution_count": 121,
   "id": "aae6595e",
   "metadata": {},
   "outputs": [
    {
     "data": {
      "text/plain": [
       "'MY NAME IS PRATEEK kUMAR , nAME OF ORG IS INEURON'"
      ]
     },
     "execution_count": 121,
     "metadata": {},
     "output_type": "execute_result"
    }
   ],
   "source": [
    "s.swapcase()"
   ]
  },
  {
   "cell_type": "code",
   "execution_count": 258,
   "id": "e7e60c93",
   "metadata": {},
   "outputs": [
    {
     "data": {
      "text/plain": [
       "'t h i s   i s   m y   f i r s t   c l a s s   i n   d a t a   s c i e n c e'"
      ]
     },
     "execution_count": 258,
     "metadata": {},
     "output_type": "execute_result"
    }
   ],
   "source": [
    "\" \" . join(s)"
   ]
  },
  {
   "cell_type": "code",
   "execution_count": 130,
   "id": "5f5c724b",
   "metadata": {},
   "outputs": [
    {
     "data": {
      "text/plain": [
       "<reversed at 0x1c0da3ac6a0>"
      ]
     },
     "execution_count": 130,
     "metadata": {},
     "output_type": "execute_result"
    }
   ],
   "source": [
    "reversed(s)"
   ]
  },
  {
   "cell_type": "code",
   "execution_count": 132,
   "id": "7b3e543e",
   "metadata": {},
   "outputs": [
    {
     "data": {
      "text/plain": [
       "['n',\n",
       " 'o',\n",
       " 'r',\n",
       " 'u',\n",
       " 'e',\n",
       " 'n',\n",
       " 'i',\n",
       " ' ',\n",
       " 's',\n",
       " 'i',\n",
       " ' ',\n",
       " 'g',\n",
       " 'r',\n",
       " 'o',\n",
       " ' ',\n",
       " 'f',\n",
       " 'o',\n",
       " ' ',\n",
       " 'e',\n",
       " 'm',\n",
       " 'a',\n",
       " 'N',\n",
       " ' ',\n",
       " ',',\n",
       " ' ',\n",
       " 'r',\n",
       " 'a',\n",
       " 'm',\n",
       " 'u',\n",
       " 'K',\n",
       " ' ',\n",
       " 'k',\n",
       " 'e',\n",
       " 'e',\n",
       " 't',\n",
       " 'a',\n",
       " 'r',\n",
       " 'p',\n",
       " ' ',\n",
       " 's',\n",
       " 'i',\n",
       " ' ',\n",
       " 'e',\n",
       " 'm',\n",
       " 'a',\n",
       " 'n',\n",
       " ' ',\n",
       " 'y',\n",
       " 'm']"
      ]
     },
     "execution_count": 132,
     "metadata": {},
     "output_type": "execute_result"
    }
   ],
   "source": [
    "list(reversed(s))"
   ]
  },
  {
   "cell_type": "code",
   "execution_count": 133,
   "id": "d9026245",
   "metadata": {},
   "outputs": [
    {
     "name": "stdout",
     "output_type": "stream",
     "text": [
      "n\n",
      "o\n",
      "r\n",
      "u\n",
      "e\n",
      "n\n",
      "i\n",
      " \n",
      "s\n",
      "i\n",
      " \n",
      "g\n",
      "r\n",
      "o\n",
      " \n",
      "f\n",
      "o\n",
      " \n",
      "e\n",
      "m\n",
      "a\n",
      "N\n",
      " \n",
      ",\n",
      " \n",
      "r\n",
      "a\n",
      "m\n",
      "u\n",
      "K\n",
      " \n",
      "k\n",
      "e\n",
      "e\n",
      "t\n",
      "a\n",
      "r\n",
      "p\n",
      " \n",
      "s\n",
      "i\n",
      " \n",
      "e\n",
      "m\n",
      "a\n",
      "n\n",
      " \n",
      "y\n",
      "m\n"
     ]
    }
   ],
   "source": [
    "for i in reversed(s):\n",
    "    print(i)"
   ]
  },
  {
   "cell_type": "code",
   "execution_count": 143,
   "id": "ecf50f3c",
   "metadata": {},
   "outputs": [],
   "source": [
    "s = \"            prat eek    \""
   ]
  },
  {
   "cell_type": "code",
   "execution_count": 144,
   "id": "dc3677d7",
   "metadata": {},
   "outputs": [
    {
     "data": {
      "text/plain": [
       "'            prat eek    '"
      ]
     },
     "execution_count": 144,
     "metadata": {},
     "output_type": "execute_result"
    }
   ],
   "source": [
    "s"
   ]
  },
  {
   "cell_type": "code",
   "execution_count": 145,
   "id": "71da21db",
   "metadata": {},
   "outputs": [
    {
     "data": {
      "text/plain": [
       "'prat eek'"
      ]
     },
     "execution_count": 145,
     "metadata": {},
     "output_type": "execute_result"
    }
   ],
   "source": [
    "s.strip()"
   ]
  },
  {
   "cell_type": "code",
   "execution_count": 146,
   "id": "878f496a",
   "metadata": {},
   "outputs": [
    {
     "data": {
      "text/plain": [
       "'prat eek    '"
      ]
     },
     "execution_count": 146,
     "metadata": {},
     "output_type": "execute_result"
    }
   ],
   "source": [
    "s.lstrip()"
   ]
  },
  {
   "cell_type": "code",
   "execution_count": 147,
   "id": "f08d14ca",
   "metadata": {},
   "outputs": [
    {
     "data": {
      "text/plain": [
       "'            prat eek'"
      ]
     },
     "execution_count": 147,
     "metadata": {},
     "output_type": "execute_result"
    }
   ],
   "source": [
    "s.rstrip()"
   ]
  },
  {
   "cell_type": "code",
   "execution_count": 263,
   "id": "92022ca8",
   "metadata": {},
   "outputs": [],
   "source": [
    "s = \"greeting for ineuron\""
   ]
  },
  {
   "cell_type": "code",
   "execution_count": 264,
   "id": "50f29a82",
   "metadata": {},
   "outputs": [
    {
     "data": {
      "text/plain": [
       "'sreetins for ineuron'"
      ]
     },
     "execution_count": 264,
     "metadata": {},
     "output_type": "execute_result"
    }
   ],
   "source": [
    "s.replace(\"g\" , \"s\")  #replace g in s"
   ]
  },
  {
   "cell_type": "code",
   "execution_count": 265,
   "id": "c46f225c",
   "metadata": {},
   "outputs": [
    {
     "data": {
      "text/plain": [
       "'swearreetinswear for ineuron'"
      ]
     },
     "execution_count": 265,
     "metadata": {},
     "output_type": "execute_result"
    }
   ],
   "source": [
    "s.replace(\"g\" , \"swear\")  #add the multiple corrector in s"
   ]
  },
  {
   "cell_type": "code",
   "execution_count": 266,
   "id": "65e7e3a8",
   "metadata": {},
   "outputs": [
    {
     "data": {
      "text/plain": [
       "'seeting for ineuron'"
      ]
     },
     "execution_count": 266,
     "metadata": {},
     "output_type": "execute_result"
    }
   ],
   "source": [
    "s.replace(\"gr\" , \"s\")  #remove the gr "
   ]
  },
  {
   "cell_type": "code",
   "execution_count": 261,
   "id": "6c608575",
   "metadata": {},
   "outputs": [
    {
     "data": {
      "text/plain": [
       "'this is my first class in data science'"
      ]
     },
     "execution_count": 261,
     "metadata": {},
     "output_type": "execute_result"
    }
   ],
   "source": [
    "s"
   ]
  },
  {
   "cell_type": "code",
   "execution_count": 156,
   "id": "0aeaed29",
   "metadata": {},
   "outputs": [],
   "source": [
    "s = s.replace(\"g\" , \"s\")"
   ]
  },
  {
   "cell_type": "code",
   "execution_count": 157,
   "id": "29540812",
   "metadata": {},
   "outputs": [
    {
     "data": {
      "text/plain": [
       "'sreetins for ineuron'"
      ]
     },
     "execution_count": 157,
     "metadata": {},
     "output_type": "execute_result"
    }
   ],
   "source": [
    "s"
   ]
  },
  {
   "cell_type": "code",
   "execution_count": 11,
   "id": "c7c8dc98",
   "metadata": {},
   "outputs": [],
   "source": [
    "s = \"prateek\""
   ]
  },
  {
   "cell_type": "code",
   "execution_count": 12,
   "id": "1c288d86",
   "metadata": {},
   "outputs": [],
   "source": [
    "s = s.replace(\"t\" , \"kumar\")"
   ]
  },
  {
   "cell_type": "code",
   "execution_count": 13,
   "id": "bec28943",
   "metadata": {},
   "outputs": [
    {
     "data": {
      "text/plain": [
       "'prakumareek'"
      ]
     },
     "execution_count": 13,
     "metadata": {},
     "output_type": "execute_result"
    }
   ],
   "source": [
    "s"
   ]
  },
  {
   "cell_type": "code",
   "execution_count": 1,
   "id": "38e6f344",
   "metadata": {},
   "outputs": [
    {
     "ename": "NameError",
     "evalue": "name 's' is not defined",
     "output_type": "error",
     "traceback": [
      "\u001b[1;31m---------------------------------------------------------------------------\u001b[0m",
      "\u001b[1;31mNameError\u001b[0m                                 Traceback (most recent call last)",
      "\u001b[1;32mC:\\Users\\Public\\Documents\\iSkysoft\\CreatorTemp/ipykernel_10876/1825413704.py\u001b[0m in \u001b[0;36m<module>\u001b[1;34m\u001b[0m\n\u001b[1;32m----> 1\u001b[1;33m \u001b[0ms\u001b[0m\u001b[1;33m[\u001b[0m\u001b[0ml\u001b[0m\u001b[1;33m]\u001b[0m \u001b[1;33m=\u001b[0m \u001b[1;34m\"kumar\"\u001b[0m\u001b[1;33m\u001b[0m\u001b[1;33m\u001b[0m\u001b[0m\n\u001b[0m",
      "\u001b[1;31mNameError\u001b[0m: name 's' is not defined"
     ]
    }
   ],
   "source": [
    "s[l] = \"kumar\""
   ]
  },
  {
   "cell_type": "code",
   "execution_count": 10,
   "id": "498aef2a",
   "metadata": {},
   "outputs": [],
   "source": [
    "s = \"prateek\""
   ]
  },
  {
   "cell_type": "code",
   "execution_count": 25,
   "id": "0399fb5e",
   "metadata": {},
   "outputs": [
    {
     "data": {
      "text/plain": [
       "'@@@@@@prateek@@@@@@@'"
      ]
     },
     "execution_count": 25,
     "metadata": {},
     "output_type": "execute_result"
    }
   ],
   "source": [
    "s.center (20, '@')       #s.center (20, '#') "
   ]
  },
  {
   "cell_type": "code",
   "execution_count": 26,
   "id": "26e5d037",
   "metadata": {},
   "outputs": [
    {
     "data": {
      "text/plain": [
       "'@@@@@@@@prateek@@@@@@@@'"
      ]
     },
     "execution_count": 26,
     "metadata": {},
     "output_type": "execute_result"
    }
   ],
   "source": [
    "s.center (23, '@') "
   ]
  },
  {
   "cell_type": "code",
   "execution_count": 27,
   "id": "7e95221f",
   "metadata": {},
   "outputs": [],
   "source": [
    "s = \"prateek\\tkumar\" "
   ]
  },
  {
   "cell_type": "code",
   "execution_count": 28,
   "id": "28b879f5",
   "metadata": {},
   "outputs": [
    {
     "data": {
      "text/plain": [
       "'prateek\\tkumar'"
      ]
     },
     "execution_count": 28,
     "metadata": {},
     "output_type": "execute_result"
    }
   ],
   "source": [
    "s"
   ]
  },
  {
   "cell_type": "code",
   "execution_count": 29,
   "id": "92c07b98",
   "metadata": {},
   "outputs": [
    {
     "data": {
      "text/plain": [
       "'prateek kumar'"
      ]
     },
     "execution_count": 29,
     "metadata": {},
     "output_type": "execute_result"
    }
   ],
   "source": [
    "s.expandtabs()"
   ]
  },
  {
   "cell_type": "code",
   "execution_count": 131,
   "id": "33ce277a",
   "metadata": {},
   "outputs": [],
   "source": [
    "s = \"Prateek\""
   ]
  },
  {
   "cell_type": "code",
   "execution_count": 97,
   "id": "b0a6cc3f",
   "metadata": {},
   "outputs": [
    {
     "data": {
      "text/plain": [
       "True"
      ]
     },
     "execution_count": 97,
     "metadata": {},
     "output_type": "execute_result"
    }
   ],
   "source": [
    "s.isupper()        #if all character are capital letter give you \"True\" or if one character is capital letter all are small give you \"Flase\" "
   ]
  },
  {
   "cell_type": "code",
   "execution_count": 100,
   "id": "31790b07",
   "metadata": {},
   "outputs": [
    {
     "data": {
      "text/plain": [
       "True"
      ]
     },
     "execution_count": 100,
     "metadata": {},
     "output_type": "execute_result"
    }
   ],
   "source": [
    "s.islower()       #if all character are small letter then \"True\" if one character is capital letter all are small give you \"False\" "
   ]
  },
  {
   "cell_type": "code",
   "execution_count": 105,
   "id": "fb025b7e",
   "metadata": {},
   "outputs": [
    {
     "data": {
      "text/plain": [
       "True"
      ]
     },
     "execution_count": 105,
     "metadata": {},
     "output_type": "execute_result"
    }
   ],
   "source": [
    "s.isspace()      # s = \"     \"  True / #if s = \"prateek\" false"
   ]
  },
  {
   "cell_type": "code",
   "execution_count": 112,
   "id": "44da1ca0",
   "metadata": {},
   "outputs": [
    {
     "data": {
      "text/plain": [
       "True"
      ]
     },
     "execution_count": 112,
     "metadata": {},
     "output_type": "execute_result"
    }
   ],
   "source": [
    "s.isdigit()       #if all are digit \"True\" or if character with digit it is \"False\""
   ]
  },
  {
   "cell_type": "code",
   "execution_count": 118,
   "id": "2cd3beba",
   "metadata": {},
   "outputs": [
    {
     "data": {
      "text/plain": [
       "True"
      ]
     },
     "execution_count": 118,
     "metadata": {},
     "output_type": "execute_result"
    }
   ],
   "source": [
    "s.endswith('k')     #last character is depent on code "
   ]
  },
  {
   "cell_type": "code",
   "execution_count": 119,
   "id": "75b3b84e",
   "metadata": {},
   "outputs": [
    {
     "data": {
      "text/plain": [
       "False"
      ]
     },
     "execution_count": 119,
     "metadata": {},
     "output_type": "execute_result"
    }
   ],
   "source": [
    "s.endswith('t') "
   ]
  },
  {
   "cell_type": "code",
   "execution_count": 124,
   "id": "428a53e2",
   "metadata": {},
   "outputs": [
    {
     "data": {
      "text/plain": [
       "True"
      ]
     },
     "execution_count": 124,
     "metadata": {},
     "output_type": "execute_result"
    }
   ],
   "source": [
    "s.isalnum()    #character and numeric they give you\"True\""
   ]
  },
  {
   "cell_type": "code",
   "execution_count": 129,
   "id": "c7aeeae3",
   "metadata": {},
   "outputs": [
    {
     "data": {
      "text/plain": [
       "True"
      ]
     },
     "execution_count": 129,
     "metadata": {},
     "output_type": "execute_result"
    }
   ],
   "source": [
    "s.isalpha()    "
   ]
  },
  {
   "cell_type": "code",
   "execution_count": 133,
   "id": "3aed857f",
   "metadata": {},
   "outputs": [
    {
     "data": {
      "text/plain": [
       "True"
      ]
     },
     "execution_count": 133,
     "metadata": {},
     "output_type": "execute_result"
    }
   ],
   "source": [
    "s.istitle()     #starting first letter is capital \"True\" otherwise give you false "
   ]
  },
  {
   "cell_type": "code",
   "execution_count": 3,
   "id": "f9b63122",
   "metadata": {},
   "outputs": [],
   "source": [
    "s = \"this is a full stack batch\""
   ]
  },
  {
   "cell_type": "code",
   "execution_count": 4,
   "id": "0b0f45d1",
   "metadata": {},
   "outputs": [
    {
     "name": "stdout",
     "output_type": "stream",
     "text": [
      "26\n"
     ]
    }
   ],
   "source": [
    "count = 0\n",
    "for i in s:\n",
    "    count = count + 1\n",
    "print(count)\n",
    "    \n",
    "    "
   ]
  },
  {
   "cell_type": "code",
   "execution_count": 5,
   "id": "8463aaf4",
   "metadata": {},
   "outputs": [
    {
     "data": {
      "text/plain": [
       "26"
      ]
     },
     "execution_count": 5,
     "metadata": {},
     "output_type": "execute_result"
    }
   ],
   "source": [
    "len(s)"
   ]
  },
  {
   "cell_type": "code",
   "execution_count": 6,
   "id": "94482454",
   "metadata": {},
   "outputs": [
    {
     "name": "stdout",
     "output_type": "stream",
     "text": [
      "h\n",
      "c\n",
      "t\n",
      "a\n",
      "b\n",
      " \n",
      "k\n",
      "c\n",
      "a\n",
      "t\n",
      "s\n",
      " \n",
      "l\n",
      "l\n",
      "u\n",
      "f\n",
      " \n",
      "a\n",
      " \n",
      "s\n",
      "i\n",
      " \n",
      "s\n",
      "i\n",
      "h\n"
     ]
    }
   ],
   "source": [
    "for i in range(1, len(s)) :\n",
    "    print(s[-i])"
   ]
  },
  {
   "cell_type": "markdown",
   "id": "a6d6bc2b",
   "metadata": {},
   "source": [
    "# Format conditions"
   ]
  },
  {
   "cell_type": "code",
   "execution_count": 4,
   "id": "da8fe9ba",
   "metadata": {},
   "outputs": [
    {
     "name": "stdout",
     "output_type": "stream",
     "text": [
      "k\n",
      "e\n",
      "e\n",
      "t\n",
      "a\n",
      "r\n",
      "p\n"
     ]
    }
   ],
   "source": [
    "s = \"prateek\"\n",
    "ch = len(s) -1\n",
    "while ch >= 0:\n",
    "    print(s[ch])\n",
    "    ch = ch -1"
   ]
  },
  {
   "cell_type": "code",
   "execution_count": 12,
   "id": "6d8eb61c",
   "metadata": {},
   "outputs": [
    {
     "name": "stdout",
     "output_type": "stream",
     "text": [
      "i this is a vowel\n",
      "n is not a vowel\n",
      "e this is a vowel\n",
      "u this is a vowel\n",
      "r is not a vowel\n",
      "o this is a vowel\n",
      "n is not a vowel\n"
     ]
    }
   ],
   "source": [
    "name = \"ineuron\"\n",
    "vowels = \"AaEeIiOoUu\"\n",
    "\n",
    "for i in name :\n",
    "    if i in vowels:\n",
    "        print(\"{} this is a vowel\".format(i))\n",
    "    else :\n",
    "        print(\"{} is not a vowel\".format(i))"
   ]
  },
  {
   "cell_type": "code",
   "execution_count": null,
   "id": "674af4d7",
   "metadata": {},
   "outputs": [],
   "source": []
  },
  {
   "cell_type": "code",
   "execution_count": 160,
   "id": "f0f32531",
   "metadata": {},
   "outputs": [
    {
     "data": {
      "text/plain": [
       "'my name is prateek'"
      ]
     },
     "execution_count": 160,
     "metadata": {},
     "output_type": "execute_result"
    }
   ],
   "source": [
    "\"{} name is prateek\".format(\"my\")"
   ]
  },
  {
   "cell_type": "code",
   "execution_count": 234,
   "id": "8fd46a8d",
   "metadata": {},
   "outputs": [
    {
     "name": "stdout",
     "output_type": "stream",
     "text": [
      "fgfgf\n",
      "fgfg\n"
     ]
    }
   ],
   "source": [
    "a = input()\n",
    "b = input()"
   ]
  },
  {
   "cell_type": "code",
   "execution_count": 183,
   "id": "65bd4148",
   "metadata": {},
   "outputs": [
    {
     "data": {
      "text/plain": [
       "(<function str.format>, ('dgdg', 'dhdh', 'dgdgdhdh'))"
      ]
     },
     "execution_count": 183,
     "metadata": {},
     "output_type": "execute_result"
    }
   ],
   "source": [
    "\"{} name {} prateek {} \".format,(a, b, \"dgdgdhdh\")"
   ]
  },
  {
   "cell_type": "code",
   "execution_count": 18,
   "id": "11a87571",
   "metadata": {},
   "outputs": [],
   "source": [
    "a = \"xyx\"\n",
    "b = 2002\n",
    "c = \"eye\"\n",
    "d = \"nitin\""
   ]
  },
  {
   "cell_type": "code",
   "execution_count": 2,
   "id": "4fe7aabb",
   "metadata": {},
   "outputs": [
    {
     "name": "stdout",
     "output_type": "stream",
     "text": [
      "enter a data for which you would like to check pelindrom 1\n",
      "its a same \n"
     ]
    }
   ],
   "source": [
    "s = input(\"enter a data for which you would like to check pelindrom \" )\n",
    "s1 = s[::-1]\n",
    "if s ==s1:\n",
    "    print(\"its a same \")\n",
    "    \n",
    "else :\n",
    "    print(\"its not a same \")"
   ]
  },
  {
   "cell_type": "code",
   "execution_count": 15,
   "id": "e6e30bba",
   "metadata": {},
   "outputs": [],
   "source": [
    "l = [\"prateek\" , 34,35,45,[34,45]]"
   ]
  },
  {
   "cell_type": "code",
   "execution_count": 16,
   "id": "a29c0208",
   "metadata": {},
   "outputs": [
    {
     "data": {
      "text/plain": [
       "35"
      ]
     },
     "execution_count": 16,
     "metadata": {},
     "output_type": "execute_result"
    }
   ],
   "source": [
    "l [2]"
   ]
  },
  {
   "cell_type": "code",
   "execution_count": 202,
   "id": "9f0abc0f",
   "metadata": {},
   "outputs": [
    {
     "data": {
      "text/plain": [
       "['prateek', 34, 35]"
      ]
     },
     "execution_count": 202,
     "metadata": {},
     "output_type": "execute_result"
    }
   ],
   "source": [
    "l[0:3]"
   ]
  },
  {
   "cell_type": "code",
   "execution_count": 203,
   "id": "e1ddb777",
   "metadata": {},
   "outputs": [
    {
     "data": {
      "text/plain": [
       "[]"
      ]
     },
     "execution_count": 203,
     "metadata": {},
     "output_type": "execute_result"
    }
   ],
   "source": [
    "l[0:3:-1]"
   ]
  },
  {
   "cell_type": "code",
   "execution_count": 204,
   "id": "30601ddc",
   "metadata": {},
   "outputs": [
    {
     "data": {
      "text/plain": [
       "[45, 35, 34]"
      ]
     },
     "execution_count": 204,
     "metadata": {},
     "output_type": "execute_result"
    }
   ],
   "source": [
    "l[3:0:-1]"
   ]
  },
  {
   "cell_type": "code",
   "execution_count": 271,
   "id": "6037e478",
   "metadata": {},
   "outputs": [
    {
     "data": {
      "text/plain": [
       "[[34, 45], 45, 35, 34, 'prateek']"
      ]
     },
     "execution_count": 271,
     "metadata": {},
     "output_type": "execute_result"
    }
   ],
   "source": [
    "l[::-1]"
   ]
  },
  {
   "cell_type": "code",
   "execution_count": 206,
   "id": "32b6b9c6",
   "metadata": {},
   "outputs": [
    {
     "data": {
      "text/plain": [
       "['prateek', 34, 35, 45, [34, 45]]"
      ]
     },
     "execution_count": 206,
     "metadata": {},
     "output_type": "execute_result"
    }
   ],
   "source": [
    "l"
   ]
  },
  {
   "cell_type": "code",
   "execution_count": 274,
   "id": "039ff976",
   "metadata": {},
   "outputs": [
    {
     "data": {
      "text/plain": [
       "['p', 'r', 'a', 't', 'e', 'e', 'k']"
      ]
     },
     "execution_count": 274,
     "metadata": {},
     "output_type": "execute_result"
    }
   ],
   "source": [
    "s = \"prateek\"\n",
    "s = list(s)\n",
    "s "
   ]
  },
  {
   "cell_type": "code",
   "execution_count": 276,
   "id": "81305385",
   "metadata": {},
   "outputs": [],
   "source": [
    "s = [\"prateek\"]"
   ]
  },
  {
   "cell_type": "code",
   "execution_count": 277,
   "id": "2d8b6b57",
   "metadata": {},
   "outputs": [
    {
     "data": {
      "text/plain": [
       "['prateek', 34, 35, 45, [34, 45], 'prateek']"
      ]
     },
     "execution_count": 277,
     "metadata": {},
     "output_type": "execute_result"
    }
   ],
   "source": [
    "l + s"
   ]
  },
  {
   "cell_type": "code",
   "execution_count": null,
   "id": "604bd9d1",
   "metadata": {},
   "outputs": [],
   "source": []
  },
  {
   "cell_type": "code",
   "execution_count": 214,
   "id": "0bdb88ca",
   "metadata": {},
   "outputs": [
    {
     "data": {
      "text/plain": [
       "['prateek', 34, 35, 45, [34, 45], 'prateek', 34, 35, 45, [34, 45]]"
      ]
     },
     "execution_count": 214,
     "metadata": {},
     "output_type": "execute_result"
    }
   ],
   "source": [
    "l * 2"
   ]
  },
  {
   "cell_type": "code",
   "execution_count": 215,
   "id": "24c1c083",
   "metadata": {},
   "outputs": [
    {
     "data": {
      "text/plain": [
       "5"
      ]
     },
     "execution_count": 215,
     "metadata": {},
     "output_type": "execute_result"
    }
   ],
   "source": [
    "len(l)"
   ]
  },
  {
   "cell_type": "code",
   "execution_count": 216,
   "id": "74f68476",
   "metadata": {},
   "outputs": [
    {
     "data": {
      "text/plain": [
       "True"
      ]
     },
     "execution_count": 216,
     "metadata": {},
     "output_type": "execute_result"
    }
   ],
   "source": [
    "\"prateek\" in l"
   ]
  },
  {
   "cell_type": "code",
   "execution_count": 217,
   "id": "b70706db",
   "metadata": {},
   "outputs": [
    {
     "data": {
      "text/plain": [
       "True"
      ]
     },
     "execution_count": 217,
     "metadata": {},
     "output_type": "execute_result"
    }
   ],
   "source": [
    "34 in l "
   ]
  },
  {
   "cell_type": "code",
   "execution_count": 218,
   "id": "72960ba9",
   "metadata": {},
   "outputs": [
    {
     "data": {
      "text/plain": [
       "False"
      ]
     },
     "execution_count": 218,
     "metadata": {},
     "output_type": "execute_result"
    }
   ],
   "source": [
    "50 in l"
   ]
  },
  {
   "cell_type": "code",
   "execution_count": null,
   "id": "d31ad6bd",
   "metadata": {},
   "outputs": [],
   "source": []
  }
 ],
 "metadata": {
  "kernelspec": {
   "display_name": "Python 3 (ipykernel)",
   "language": "python",
   "name": "python3"
  },
  "language_info": {
   "codemirror_mode": {
    "name": "ipython",
    "version": 3
   },
   "file_extension": ".py",
   "mimetype": "text/x-python",
   "name": "python",
   "nbconvert_exporter": "python",
   "pygments_lexer": "ipython3",
   "version": "3.9.7"
  }
 },
 "nbformat": 4,
 "nbformat_minor": 5
}
