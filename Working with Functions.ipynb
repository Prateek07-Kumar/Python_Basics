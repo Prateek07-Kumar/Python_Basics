{
 "cells": [
  {
   "cell_type": "code",
   "execution_count": 1,
   "id": "3c15fe43",
   "metadata": {},
   "outputs": [
    {
     "data": {
      "text/plain": [
       "30"
      ]
     },
     "execution_count": 1,
     "metadata": {},
     "output_type": "execute_result"
    }
   ],
   "source": [
    "a = 10\n",
    "b = 20\n",
    "a+b"
   ]
  },
  {
   "cell_type": "code",
   "execution_count": 2,
   "id": "dad25759",
   "metadata": {},
   "outputs": [],
   "source": [
    "def test(x,y):\n",
    "    print(x+y)"
   ]
  },
  {
   "cell_type": "code",
   "execution_count": 3,
   "id": "adb61885",
   "metadata": {},
   "outputs": [
    {
     "name": "stdout",
     "output_type": "stream",
     "text": [
      "68\n"
     ]
    },
    {
     "ename": "TypeError",
     "evalue": "unsupported operand type(s) for +: 'NoneType' and 'int'",
     "output_type": "error",
     "traceback": [
      "\u001b[1;31m---------------------------------------------------------------------------\u001b[0m",
      "\u001b[1;31mTypeError\u001b[0m                                 Traceback (most recent call last)",
      "\u001b[1;32mC:\\Users\\Public\\Documents\\iSkysoft\\CreatorTemp/ipykernel_7816/3073534494.py\u001b[0m in \u001b[0;36m<module>\u001b[1;34m\u001b[0m\n\u001b[1;32m----> 1\u001b[1;33m \u001b[0mtest\u001b[0m\u001b[1;33m(\u001b[0m\u001b[1;36m23\u001b[0m\u001b[1;33m,\u001b[0m\u001b[1;36m45\u001b[0m\u001b[1;33m)\u001b[0m \u001b[1;33m+\u001b[0m \u001b[1;36m6\u001b[0m                  \u001b[1;31m#\u001b[0m\u001b[1;33m\u001b[0m\u001b[1;33m\u001b[0m\u001b[0m\n\u001b[0m",
      "\u001b[1;31mTypeError\u001b[0m: unsupported operand type(s) for +: 'NoneType' and 'int'"
     ]
    }
   ],
   "source": [
    "test(23,45) + 6                  # "
   ]
  },
  {
   "cell_type": "code",
   "execution_count": 4,
   "id": "58962dd0",
   "metadata": {},
   "outputs": [
    {
     "name": "stdout",
     "output_type": "stream",
     "text": [
      "68\n"
     ]
    },
    {
     "data": {
      "text/plain": [
       "NoneType"
      ]
     },
     "execution_count": 4,
     "metadata": {},
     "output_type": "execute_result"
    }
   ],
   "source": [
    "type(test(23,45))              "
   ]
  },
  {
   "cell_type": "code",
   "execution_count": 5,
   "id": "05981462",
   "metadata": {},
   "outputs": [
    {
     "name": "stdout",
     "output_type": "stream",
     "text": [
      "90\n"
     ]
    }
   ],
   "source": [
    "b = test(34,56)             "
   ]
  },
  {
   "cell_type": "code",
   "execution_count": 6,
   "id": "c76ba861",
   "metadata": {},
   "outputs": [
    {
     "name": "stdout",
     "output_type": "stream",
     "text": [
      "12\n"
     ]
    }
   ],
   "source": [
    "test(4,8)"
   ]
  },
  {
   "cell_type": "code",
   "execution_count": 7,
   "id": "fade4e7e",
   "metadata": {},
   "outputs": [],
   "source": [
    "def test1(b,m):                        \n",
    "    return b * m                    "
   ]
  },
  {
   "cell_type": "code",
   "execution_count": 8,
   "id": "31d592c5",
   "metadata": {},
   "outputs": [
    {
     "data": {
      "text/plain": [
       "451"
      ]
     },
     "execution_count": 8,
     "metadata": {},
     "output_type": "execute_result"
    }
   ],
   "source": [
    "test1(5,89) + 6                       # In function we will used this operation"
   ]
  },
  {
   "cell_type": "code",
   "execution_count": 9,
   "id": "3c18b403",
   "metadata": {},
   "outputs": [
    {
     "data": {
      "text/plain": [
       "int"
      ]
     },
     "execution_count": 9,
     "metadata": {},
     "output_type": "execute_result"
    }
   ],
   "source": [
    "type(test1(8,89))"
   ]
  },
  {
   "cell_type": "code",
   "execution_count": 10,
   "id": "e2b6899b",
   "metadata": {},
   "outputs": [],
   "source": [
    "a = test1(5,89)      # stored your data "
   ]
  },
  {
   "cell_type": "code",
   "execution_count": 11,
   "id": "e14d43d9",
   "metadata": {},
   "outputs": [
    {
     "data": {
      "text/plain": [
       "445"
      ]
     },
     "execution_count": 11,
     "metadata": {},
     "output_type": "execute_result"
    }
   ],
   "source": [
    "a"
   ]
  },
  {
   "cell_type": "code",
   "execution_count": 12,
   "id": "bfece103",
   "metadata": {},
   "outputs": [
    {
     "data": {
      "text/plain": [
       "int"
      ]
     },
     "execution_count": 12,
     "metadata": {},
     "output_type": "execute_result"
    }
   ],
   "source": [
    "type(a)"
   ]
  },
  {
   "cell_type": "code",
   "execution_count": 13,
   "id": "15b0e8b2",
   "metadata": {},
   "outputs": [],
   "source": [
    "def test2(t,n,m):\n",
    "    return t + n"
   ]
  },
  {
   "cell_type": "code",
   "execution_count": 14,
   "id": "ff746c58",
   "metadata": {},
   "outputs": [
    {
     "data": {
      "text/plain": [
       "5"
      ]
     },
     "execution_count": 14,
     "metadata": {},
     "output_type": "execute_result"
    }
   ],
   "source": [
    "test2(2,3,0)                        #  if you show only two number can't give you the total number"
   ]
  },
  {
   "cell_type": "code",
   "execution_count": 15,
   "id": "ec4fc313",
   "metadata": {},
   "outputs": [],
   "source": [
    "def test3(n, m):\n",
    "    return n * 10 , m*40  , m + n "
   ]
  },
  {
   "cell_type": "code",
   "execution_count": 16,
   "id": "5c110dcb",
   "metadata": {},
   "outputs": [
    {
     "data": {
      "text/plain": [
       "(20, 280, 9)"
      ]
     },
     "execution_count": 16,
     "metadata": {},
     "output_type": "execute_result"
    }
   ],
   "source": [
    "test3(2,7)"
   ]
  },
  {
   "cell_type": "code",
   "execution_count": 17,
   "id": "dbd16ff1",
   "metadata": {},
   "outputs": [
    {
     "data": {
      "text/plain": [
       "tuple"
      ]
     },
     "execution_count": 17,
     "metadata": {},
     "output_type": "execute_result"
    }
   ],
   "source": [
    "type(test3(2,7))"
   ]
  },
  {
   "cell_type": "code",
   "execution_count": 18,
   "id": "9d398727",
   "metadata": {},
   "outputs": [],
   "source": [
    "c,x,v = test3(2,7)"
   ]
  },
  {
   "cell_type": "code",
   "execution_count": 19,
   "id": "4885d1a3",
   "metadata": {},
   "outputs": [
    {
     "data": {
      "text/plain": [
       "20"
      ]
     },
     "execution_count": 19,
     "metadata": {},
     "output_type": "execute_result"
    }
   ],
   "source": [
    "c"
   ]
  },
  {
   "cell_type": "code",
   "execution_count": 20,
   "id": "67464e02",
   "metadata": {},
   "outputs": [
    {
     "data": {
      "text/plain": [
       "280"
      ]
     },
     "execution_count": 20,
     "metadata": {},
     "output_type": "execute_result"
    }
   ],
   "source": [
    "x"
   ]
  },
  {
   "cell_type": "code",
   "execution_count": 21,
   "id": "59338e7b",
   "metadata": {},
   "outputs": [
    {
     "data": {
      "text/plain": [
       "9"
      ]
     },
     "execution_count": 21,
     "metadata": {},
     "output_type": "execute_result"
    }
   ],
   "source": [
    "v"
   ]
  },
  {
   "cell_type": "code",
   "execution_count": 22,
   "id": "7b1f593f",
   "metadata": {},
   "outputs": [],
   "source": [
    "c , x , _=test3(2,7)"
   ]
  },
  {
   "cell_type": "code",
   "execution_count": 23,
   "id": "4c6b240a",
   "metadata": {},
   "outputs": [
    {
     "data": {
      "text/plain": [
       "20"
      ]
     },
     "execution_count": 23,
     "metadata": {},
     "output_type": "execute_result"
    }
   ],
   "source": [
    "c"
   ]
  },
  {
   "cell_type": "code",
   "execution_count": 24,
   "id": "3b4b914d",
   "metadata": {},
   "outputs": [
    {
     "data": {
      "text/plain": [
       "280"
      ]
     },
     "execution_count": 24,
     "metadata": {},
     "output_type": "execute_result"
    }
   ],
   "source": [
    "x"
   ]
  },
  {
   "cell_type": "code",
   "execution_count": 25,
   "id": "a693c0ff",
   "metadata": {},
   "outputs": [
    {
     "data": {
      "text/plain": [
       "280"
      ]
     },
     "execution_count": 25,
     "metadata": {},
     "output_type": "execute_result"
    }
   ],
   "source": [
    "_"
   ]
  },
  {
   "cell_type": "code",
   "execution_count": 26,
   "id": "898f8edd",
   "metadata": {},
   "outputs": [],
   "source": [
    "c,_, m = test3(2,7)"
   ]
  },
  {
   "cell_type": "code",
   "execution_count": 27,
   "id": "7726b0bc",
   "metadata": {},
   "outputs": [
    {
     "data": {
      "text/plain": [
       "20"
      ]
     },
     "execution_count": 27,
     "metadata": {},
     "output_type": "execute_result"
    }
   ],
   "source": [
    "c"
   ]
  },
  {
   "cell_type": "code",
   "execution_count": 28,
   "id": "9a42e4a9",
   "metadata": {},
   "outputs": [
    {
     "data": {
      "text/plain": [
       "280"
      ]
     },
     "execution_count": 28,
     "metadata": {},
     "output_type": "execute_result"
    }
   ],
   "source": [
    "_"
   ]
  },
  {
   "cell_type": "code",
   "execution_count": 29,
   "id": "241a811e",
   "metadata": {},
   "outputs": [
    {
     "data": {
      "text/plain": [
       "9"
      ]
     },
     "execution_count": 29,
     "metadata": {},
     "output_type": "execute_result"
    }
   ],
   "source": [
    "m"
   ]
  },
  {
   "cell_type": "code",
   "execution_count": 30,
   "id": "3c102e6d",
   "metadata": {},
   "outputs": [],
   "source": [
    "def test():\n",
    "    print('this is my first function')"
   ]
  },
  {
   "cell_type": "code",
   "execution_count": 31,
   "id": "48c77e38",
   "metadata": {},
   "outputs": [
    {
     "name": "stdout",
     "output_type": "stream",
     "text": [
      "this is my first function\n"
     ]
    }
   ],
   "source": [
    "test()"
   ]
  },
  {
   "cell_type": "code",
   "execution_count": 32,
   "id": "554112e6",
   "metadata": {},
   "outputs": [],
   "source": [
    "def test7():\n",
    "    return 'this is my first class'"
   ]
  },
  {
   "cell_type": "code",
   "execution_count": 33,
   "id": "9c5b813e",
   "metadata": {},
   "outputs": [
    {
     "data": {
      "text/plain": [
       "'this is my first class'"
      ]
     },
     "execution_count": 33,
     "metadata": {},
     "output_type": "execute_result"
    }
   ],
   "source": [
    "test7()"
   ]
  },
  {
   "cell_type": "code",
   "execution_count": 34,
   "id": "6b6e74c2",
   "metadata": {},
   "outputs": [],
   "source": [
    "n = test7()"
   ]
  },
  {
   "cell_type": "code",
   "execution_count": 35,
   "id": "18ed5801",
   "metadata": {},
   "outputs": [
    {
     "data": {
      "text/plain": [
       "'this is my first classfdffdfd'"
      ]
     },
     "execution_count": 35,
     "metadata": {},
     "output_type": "execute_result"
    }
   ],
   "source": [
    "n + \"fdffdfd\""
   ]
  },
  {
   "cell_type": "code",
   "execution_count": 36,
   "id": "9313c71a",
   "metadata": {},
   "outputs": [],
   "source": [
    "def test8(n):\n",
    "    return n * 3"
   ]
  },
  {
   "cell_type": "code",
   "execution_count": 37,
   "id": "117fe525",
   "metadata": {},
   "outputs": [
    {
     "data": {
      "text/plain": [
       "[3, 4, 5, 6, 7, 3, 4, 5, 6, 7, 3, 4, 5, 6, 7]"
      ]
     },
     "execution_count": 37,
     "metadata": {},
     "output_type": "execute_result"
    }
   ],
   "source": [
    "test8([3,4,5,6,7])                        # repeate the number as per tuple digit"
   ]
  },
  {
   "cell_type": "code",
   "execution_count": 38,
   "id": "cf9eb2d8",
   "metadata": {},
   "outputs": [
    {
     "data": {
      "text/plain": [
       "201"
      ]
     },
     "execution_count": 38,
     "metadata": {},
     "output_type": "execute_result"
    }
   ],
   "source": [
    "test8(67)"
   ]
  },
  {
   "cell_type": "code",
   "execution_count": 39,
   "id": "6e7f3c73",
   "metadata": {},
   "outputs": [],
   "source": [
    "def test9(n):\n",
    "    return n,n*7"
   ]
  },
  {
   "cell_type": "code",
   "execution_count": 40,
   "id": "2cea1e11",
   "metadata": {},
   "outputs": [
    {
     "data": {
      "text/plain": [
       "([4, 5, 6, 6, 7],\n",
       " [4,\n",
       "  5,\n",
       "  6,\n",
       "  6,\n",
       "  7,\n",
       "  4,\n",
       "  5,\n",
       "  6,\n",
       "  6,\n",
       "  7,\n",
       "  4,\n",
       "  5,\n",
       "  6,\n",
       "  6,\n",
       "  7,\n",
       "  4,\n",
       "  5,\n",
       "  6,\n",
       "  6,\n",
       "  7,\n",
       "  4,\n",
       "  5,\n",
       "  6,\n",
       "  6,\n",
       "  7,\n",
       "  4,\n",
       "  5,\n",
       "  6,\n",
       "  6,\n",
       "  7,\n",
       "  4,\n",
       "  5,\n",
       "  6,\n",
       "  6,\n",
       "  7])"
      ]
     },
     "execution_count": 40,
     "metadata": {},
     "output_type": "execute_result"
    }
   ],
   "source": [
    "test9([4,5,6,6,7])               #  repeate the number as per tuple digit"
   ]
  },
  {
   "cell_type": "code",
   "execution_count": 41,
   "id": "dc9a0902",
   "metadata": {},
   "outputs": [],
   "source": [
    "def test9(n):\n",
    "    return n,n*2  "
   ]
  },
  {
   "cell_type": "code",
   "execution_count": 42,
   "id": "69b11f30",
   "metadata": {},
   "outputs": [
    {
     "data": {
      "text/plain": [
       "([4, 5, 6, 6, 7], [4, 5, 6, 6, 7, 4, 5, 6, 6, 7])"
      ]
     },
     "execution_count": 42,
     "metadata": {},
     "output_type": "execute_result"
    }
   ],
   "source": [
    "test9([4,5,6,6,7]) "
   ]
  },
  {
   "cell_type": "code",
   "execution_count": 43,
   "id": "625b47b3",
   "metadata": {},
   "outputs": [],
   "source": [
    "b = test9([4,5,6,6,7])     "
   ]
  },
  {
   "cell_type": "code",
   "execution_count": 44,
   "id": "c07db0d7",
   "metadata": {},
   "outputs": [
    {
     "data": {
      "text/plain": [
       "([4, 5, 6, 6, 7], [4, 5, 6, 6, 7, 4, 5, 6, 6, 7])"
      ]
     },
     "execution_count": 44,
     "metadata": {},
     "output_type": "execute_result"
    }
   ],
   "source": [
    "b"
   ]
  },
  {
   "cell_type": "code",
   "execution_count": 45,
   "id": "4bbcf3da",
   "metadata": {},
   "outputs": [
    {
     "data": {
      "text/plain": [
       "[4, 5, 6, 6, 7]"
      ]
     },
     "execution_count": 45,
     "metadata": {},
     "output_type": "execute_result"
    }
   ],
   "source": [
    "b[0]"
   ]
  },
  {
   "cell_type": "code",
   "execution_count": 46,
   "id": "8033333d",
   "metadata": {},
   "outputs": [
    {
     "data": {
      "text/plain": [
       "[4, 5, 6, 6, 7, 4, 5, 6, 6, 7]"
      ]
     },
     "execution_count": 46,
     "metadata": {},
     "output_type": "execute_result"
    }
   ],
   "source": [
    "b[1]"
   ]
  },
  {
   "cell_type": "code",
   "execution_count": 51,
   "id": "1f0c00df",
   "metadata": {},
   "outputs": [],
   "source": [
    "def test10(n , m = 90 ):\n",
    "    return n + m"
   ]
  },
  {
   "cell_type": "code",
   "execution_count": 52,
   "id": "ac9ae090",
   "metadata": {},
   "outputs": [
    {
     "data": {
      "text/plain": [
       "150"
      ]
     },
     "execution_count": 52,
     "metadata": {},
     "output_type": "execute_result"
    }
   ],
   "source": [
    "test10(60)"
   ]
  },
  {
   "cell_type": "code",
   "execution_count": 53,
   "id": "02360e95",
   "metadata": {},
   "outputs": [
    {
     "data": {
      "text/plain": [
       "90"
      ]
     },
     "execution_count": 53,
     "metadata": {},
     "output_type": "execute_result"
    }
   ],
   "source": [
    "test10(60, 30)"
   ]
  },
  {
   "cell_type": "code",
   "execution_count": null,
   "id": "018df9a3",
   "metadata": {},
   "outputs": [],
   "source": [
    "print()"
   ]
  },
  {
   "cell_type": "code",
   "execution_count": 54,
   "id": "1206adf7",
   "metadata": {},
   "outputs": [],
   "source": [
    "def boolx (x = True , y = False):\n",
    "    return x + y "
   ]
  },
  {
   "cell_type": "code",
   "execution_count": 55,
   "id": "0c5e81b4",
   "metadata": {},
   "outputs": [
    {
     "data": {
      "text/plain": [
       "1"
      ]
     },
     "execution_count": 55,
     "metadata": {},
     "output_type": "execute_result"
    }
   ],
   "source": [
    "boolx()"
   ]
  },
  {
   "cell_type": "code",
   "execution_count": 56,
   "id": "22298d14",
   "metadata": {},
   "outputs": [
    {
     "data": {
      "text/plain": [
       "0"
      ]
     },
     "execution_count": 56,
     "metadata": {},
     "output_type": "execute_result"
    }
   ],
   "source": [
    "boolx(False)"
   ]
  },
  {
   "cell_type": "code",
   "execution_count": 57,
   "id": "505f1d5f",
   "metadata": {},
   "outputs": [
    {
     "data": {
      "text/plain": [
       "0"
      ]
     },
     "execution_count": 57,
     "metadata": {},
     "output_type": "execute_result"
    }
   ],
   "source": [
    "boolx(False, 0)"
   ]
  },
  {
   "cell_type": "code",
   "execution_count": 59,
   "id": "4b921888",
   "metadata": {},
   "outputs": [
    {
     "data": {
      "text/plain": [
       "8"
      ]
     },
     "execution_count": 59,
     "metadata": {},
     "output_type": "execute_result"
    }
   ],
   "source": [
    "boolx(False , 8)                       # it's a value creation like 'True' or 'False' formate "
   ]
  },
  {
   "cell_type": "code",
   "execution_count": 60,
   "id": "3fbde004",
   "metadata": {},
   "outputs": [
    {
     "data": {
      "text/plain": [
       "1"
      ]
     },
     "execution_count": 60,
     "metadata": {},
     "output_type": "execute_result"
    }
   ],
   "source": [
    "True + False"
   ]
  },
  {
   "cell_type": "code",
   "execution_count": 63,
   "id": "2e6cb48d",
   "metadata": {},
   "outputs": [],
   "source": [
    "def travel(bike = True , car = False):\n",
    "    plan_travel = bike or car\n",
    "    return bike , car, plan_travel"
   ]
  },
  {
   "cell_type": "code",
   "execution_count": 64,
   "id": "252f4c45",
   "metadata": {},
   "outputs": [
    {
     "data": {
      "text/plain": [
       "(True, False, True)"
      ]
     },
     "execution_count": 64,
     "metadata": {},
     "output_type": "execute_result"
    }
   ],
   "source": [
    "travel()"
   ]
  },
  {
   "cell_type": "code",
   "execution_count": 66,
   "id": "85b44113",
   "metadata": {},
   "outputs": [
    {
     "data": {
      "text/plain": [
       "(False, False, False)"
      ]
     },
     "execution_count": 66,
     "metadata": {},
     "output_type": "execute_result"
    }
   ],
   "source": [
    "travel(False)"
   ]
  },
  {
   "cell_type": "code",
   "execution_count": 68,
   "id": "7c2dab38",
   "metadata": {},
   "outputs": [
    {
     "data": {
      "text/plain": [
       "(True, False, True)"
      ]
     },
     "execution_count": 68,
     "metadata": {},
     "output_type": "execute_result"
    }
   ],
   "source": [
    "travel(True)"
   ]
  },
  {
   "cell_type": "code",
   "execution_count": 69,
   "id": "93988e25",
   "metadata": {},
   "outputs": [
    {
     "data": {
      "text/plain": [
       "(True, True, True)"
      ]
     },
     "execution_count": 69,
     "metadata": {},
     "output_type": "execute_result"
    }
   ],
   "source": [
    "travel(car = True)"
   ]
  },
  {
   "cell_type": "code",
   "execution_count": 70,
   "id": "c41d2335",
   "metadata": {},
   "outputs": [
    {
     "data": {
      "text/plain": [
       "(280, True, 280)"
      ]
     },
     "execution_count": 70,
     "metadata": {},
     "output_type": "execute_result"
    }
   ],
   "source": [
    "travel(_, True)"
   ]
  },
  {
   "cell_type": "code",
   "execution_count": 71,
   "id": "eca72002",
   "metadata": {},
   "outputs": [
    {
     "data": {
      "text/plain": [
       "280"
      ]
     },
     "execution_count": 71,
     "metadata": {},
     "output_type": "execute_result"
    }
   ],
   "source": [
    "_"
   ]
  },
  {
   "cell_type": "code",
   "execution_count": 74,
   "id": "bfbbc280",
   "metadata": {},
   "outputs": [],
   "source": [
    "def test11(*args):                        # \n",
    "    return args"
   ]
  },
  {
   "cell_type": "code",
   "execution_count": 75,
   "id": "ea97dc07",
   "metadata": {},
   "outputs": [
    {
     "data": {
      "text/plain": [
       "('prateek', 'kumar', 34, [34, 4, 4, 5, 454, 54])"
      ]
     },
     "execution_count": 75,
     "metadata": {},
     "output_type": "execute_result"
    }
   ],
   "source": [
    "test11('prateek' , 'kumar' , 34,[34,4,4,5,454,54])                # multiple variety of the data "
   ]
  },
  {
   "cell_type": "code",
   "execution_count": 82,
   "id": "2ef4a0b8",
   "metadata": {},
   "outputs": [],
   "source": [
    "def test12(a , b , c):\n",
    "    return a + b + c"
   ]
  },
  {
   "cell_type": "code",
   "execution_count": 84,
   "id": "9af4be5c",
   "metadata": {},
   "outputs": [
    {
     "data": {
      "text/plain": [
       "[1, 2, 3, 4, 4, 5, 6, 4, 5, 6, 7, 8]"
      ]
     },
     "execution_count": 84,
     "metadata": {},
     "output_type": "execute_result"
    }
   ],
   "source": [
    "test12([1,2,3,4] , [4,5,6] ,[4,5,6,7,8])"
   ]
  },
  {
   "cell_type": "code",
   "execution_count": 88,
   "id": "3dd82fae",
   "metadata": {},
   "outputs": [],
   "source": [
    "def test13(*args):\n",
    "    l = []\n",
    "    for i in args:\n",
    "        l.append(i)\n",
    "    return l "
   ]
  },
  {
   "cell_type": "code",
   "execution_count": 89,
   "id": "d71f81f2",
   "metadata": {},
   "outputs": [
    {
     "data": {
      "text/plain": [
       "[[3, 4, 5, 6], [3, 4, 5, 6, 7], [3, 4, 5, 6]]"
      ]
     },
     "execution_count": 89,
     "metadata": {},
     "output_type": "execute_result"
    }
   ],
   "source": [
    "test13([3,4,5,6] , [3,4,5,6,7] , [3,4,5,6])"
   ]
  },
  {
   "cell_type": "code",
   "execution_count": 90,
   "id": "4d1134c7",
   "metadata": {},
   "outputs": [],
   "source": [
    "def test13(*args):\n",
    "    l = []\n",
    "    for i in args:\n",
    "        l = l + i\n",
    "    return l "
   ]
  },
  {
   "cell_type": "code",
   "execution_count": 91,
   "id": "7f43b28e",
   "metadata": {},
   "outputs": [
    {
     "data": {
      "text/plain": [
       "[3, 4, 5, 6, 3, 4, 5, 6, 7, 3, 4, 5, 6]"
      ]
     },
     "execution_count": 91,
     "metadata": {},
     "output_type": "execute_result"
    }
   ],
   "source": [
    "test13([3,4,5,6] , [3,4,5,6,7] , [3,4,5,6])"
   ]
  },
  {
   "cell_type": "code",
   "execution_count": 92,
   "id": "ebd5c873",
   "metadata": {},
   "outputs": [
    {
     "data": {
      "text/plain": [
       "[4, 5, 6, 6, 4, 5, 6, 7]"
      ]
     },
     "execution_count": 92,
     "metadata": {},
     "output_type": "execute_result"
    }
   ],
   "source": [
    "test13([4,5,6,6],[4,5,6,7])"
   ]
  },
  {
   "cell_type": "code",
   "execution_count": 99,
   "id": "42466158",
   "metadata": {},
   "outputs": [],
   "source": [
    "def test14(*args):\n",
    "    return [i for i in args]"
   ]
  },
  {
   "cell_type": "code",
   "execution_count": 100,
   "id": "df3795fa",
   "metadata": {},
   "outputs": [
    {
     "data": {
      "text/plain": [
       "[[4, 5, 6, 6], [4, 5, 6, 7]]"
      ]
     },
     "execution_count": 100,
     "metadata": {},
     "output_type": "execute_result"
    }
   ],
   "source": [
    "test14([4,5,6,6],[4,5,6,7])"
   ]
  },
  {
   "cell_type": "code",
   "execution_count": 101,
   "id": "c75fd8e2",
   "metadata": {},
   "outputs": [],
   "source": [
    "def test15(*args):\n",
    "    l = []\n",
    "    for i in args:\n",
    "        if type(i) == list:\n",
    "            l = l + i\n",
    "    return l "
   ]
  },
  {
   "cell_type": "code",
   "execution_count": 102,
   "id": "a21b87bd",
   "metadata": {},
   "outputs": [
    {
     "data": {
      "text/plain": [
       "[324, 25, 42, 15, 6, 5, 8, 5]"
      ]
     },
     "execution_count": 102,
     "metadata": {},
     "output_type": "execute_result"
    }
   ],
   "source": [
    "test15('fdffddf' , 234,[324,25,42,15],[6,5,8,5])"
   ]
  },
  {
   "cell_type": "code",
   "execution_count": 103,
   "id": "311b9a3c",
   "metadata": {},
   "outputs": [],
   "source": [
    "def test16(**kwargs):\n",
    "    return kwargs"
   ]
  },
  {
   "cell_type": "code",
   "execution_count": 104,
   "id": "27e4d3df",
   "metadata": {},
   "outputs": [
    {
     "ename": "TypeError",
     "evalue": "test16() takes 0 positional arguments but 3 were given",
     "output_type": "error",
     "traceback": [
      "\u001b[1;31m---------------------------------------------------------------------------\u001b[0m",
      "\u001b[1;31mTypeError\u001b[0m                                 Traceback (most recent call last)",
      "\u001b[1;32mC:\\Users\\Public\\Documents\\iSkysoft\\CreatorTemp/ipykernel_3440/3175278173.py\u001b[0m in \u001b[0;36m<module>\u001b[1;34m\u001b[0m\n\u001b[1;32m----> 1\u001b[1;33m \u001b[0mtest16\u001b[0m\u001b[1;33m(\u001b[0m\u001b[1;36m4\u001b[0m\u001b[1;33m,\u001b[0m\u001b[1;36m56\u001b[0m\u001b[1;33m,\u001b[0m\u001b[1;36m56\u001b[0m\u001b[1;33m)\u001b[0m\u001b[1;33m\u001b[0m\u001b[1;33m\u001b[0m\u001b[0m\n\u001b[0m",
      "\u001b[1;31mTypeError\u001b[0m: test16() takes 0 positional arguments but 3 were given"
     ]
    }
   ],
   "source": [
    "test16(4,56,56)                     # it is not working in kwargs"
   ]
  },
  {
   "cell_type": "code",
   "execution_count": 105,
   "id": "65b8d58e",
   "metadata": {},
   "outputs": [
    {
     "data": {
      "text/plain": [
       "{'a': 8, 'b': 8, 'c': 7, 'd': 78}"
      ]
     },
     "execution_count": 105,
     "metadata": {},
     "output_type": "execute_result"
    }
   ],
   "source": [
    "test16(a = 8 , b = 8 , c = 7 , d = 78)         # they accept only such kind of aurgament key value pair formate like dictionay"
   ]
  },
  {
   "cell_type": "code",
   "execution_count": 106,
   "id": "fe33fb37",
   "metadata": {},
   "outputs": [
    {
     "data": {
      "text/plain": [
       "{}"
      ]
     },
     "execution_count": 106,
     "metadata": {},
     "output_type": "execute_result"
    }
   ],
   "source": [
    "test16()"
   ]
  },
  {
   "cell_type": "code",
   "execution_count": 108,
   "id": "4b7574df",
   "metadata": {},
   "outputs": [
    {
     "data": {
      "text/plain": [
       "{'a': 8, 'b': True, 'c': [4, 5, 6, 7, 'prateek'], 'd': 'kumar'}"
      ]
     },
     "execution_count": 108,
     "metadata": {},
     "output_type": "execute_result"
    }
   ],
   "source": [
    "test16(a = 8 , b = True , c = [4,5,6,7,'prateek'], d = 'kumar')      # only key and vale pass"
   ]
  },
  {
   "cell_type": "code",
   "execution_count": 110,
   "id": "8e2ab6d5",
   "metadata": {},
   "outputs": [],
   "source": [
    "def test17(*args):\n",
    "    return args"
   ]
  },
  {
   "cell_type": "code",
   "execution_count": 112,
   "id": "5e162548",
   "metadata": {},
   "outputs": [
    {
     "data": {
      "text/plain": [
       "(4, 5, 6, 7, 'prateek', [4, 5, 6, 7, 8])"
      ]
     },
     "execution_count": 112,
     "metadata": {},
     "output_type": "execute_result"
    }
   ],
   "source": [
    "test17(4,5,6,7,'prateek',[4,5,6,7,8])              # it is return me tuples"
   ]
  },
  {
   "cell_type": "code",
   "execution_count": null,
   "id": "cde7162d",
   "metadata": {},
   "outputs": [],
   "source": [
    "# create a function number of a mixed data and try to create a list of seperate data based on datatype and return multiple result\n",
    "# create a function which will be able to use args and kwargs and it will be able to do all this list value concatination and return a list."
   ]
  },
  {
   "cell_type": "code",
   "execution_count": null,
   "id": "87ae8743",
   "metadata": {},
   "outputs": [],
   "source": []
  },
  {
   "cell_type": "code",
   "execution_count": 117,
   "id": "a3da7e2a",
   "metadata": {},
   "outputs": [],
   "source": [
    "def test18(a , b , c , d , e):\n",
    "    return a + b + c + d + e"
   ]
  },
  {
   "cell_type": "code",
   "execution_count": 118,
   "id": "fd957266",
   "metadata": {},
   "outputs": [
    {
     "data": {
      "text/plain": [
       "[4, 2, 4, (6+5j), 'prateek', 'fdfdfd', 6.42, True]"
      ]
     },
     "execution_count": 118,
     "metadata": {},
     "output_type": "execute_result"
    }
   ],
   "source": [
    "test18([4,2,4,],[6+5j],['prateek','fdfdfd'],[6.42],[True])"
   ]
  },
  {
   "cell_type": "code",
   "execution_count": 119,
   "id": "af89f185",
   "metadata": {},
   "outputs": [
    {
     "ename": "TypeError",
     "evalue": "'function' object is not subscriptable",
     "output_type": "error",
     "traceback": [
      "\u001b[1;31m---------------------------------------------------------------------------\u001b[0m",
      "\u001b[1;31mTypeError\u001b[0m                                 Traceback (most recent call last)",
      "\u001b[1;32mC:\\Users\\Public\\Documents\\iSkysoft\\CreatorTemp/ipykernel_3440/2118927784.py\u001b[0m in \u001b[0;36m<module>\u001b[1;34m\u001b[0m\n\u001b[1;32m----> 1\u001b[1;33m \u001b[0mtest\u001b[0m\u001b[1;33m[\u001b[0m\u001b[1;36m0\u001b[0m\u001b[1;33m]\u001b[0m\u001b[1;33m\u001b[0m\u001b[1;33m\u001b[0m\u001b[0m\n\u001b[0m",
      "\u001b[1;31mTypeError\u001b[0m: 'function' object is not subscriptable"
     ]
    }
   ],
   "source": [
    "test[0]"
   ]
  },
  {
   "cell_type": "code",
   "execution_count": 142,
   "id": "21e052cf",
   "metadata": {},
   "outputs": [],
   "source": [
    "def fun1(*args):\n",
    "    a=[]\n",
    "    b=[]\n",
    "    c=[]\n",
    "    d=[]\n",
    "    e=[]\n",
    "    f=[]\n",
    "    g=[]\n",
    "    h=[]\n",
    "    \n",
    "    for i in args:\n",
    "        if type(i)==int:\n",
    "            a.append(i)\n",
    "        if type(i)==str:\n",
    "            b.append(i)\n",
    "        if type(i)==list:\n",
    "            c.append(i)\n",
    "        if type(i)==bool:\n",
    "            d.append(i)\n",
    "        if type(i)==complex:\n",
    "            e.append(i)\n",
    "        if type(i)==float:\n",
    "            f.append(i)\n",
    "        if type(i)==tuple:\n",
    "            g.append(i)\n",
    "        if type(i)==dict:\n",
    "            h.append(i)\n",
    "        return a,b,c,d,e,f,g,h"
   ]
  },
  {
   "cell_type": "code",
   "execution_count": 145,
   "id": "aa103f9a",
   "metadata": {},
   "outputs": [
    {
     "data": {
      "text/plain": [
       "([3], [], [], [], [], [], [], [])"
      ]
     },
     "execution_count": 145,
     "metadata": {},
     "output_type": "execute_result"
    }
   ],
   "source": [
    "fun1(3,3,4,5,7.54,True,False , 'prateek',[4,5,8,7,8],6+5j)"
   ]
  },
  {
   "cell_type": "code",
   "execution_count": 147,
   "id": "acb030e8",
   "metadata": {},
   "outputs": [],
   "source": [
    "def fun2(*args,**kwargs):\n",
    "    i=[i for i in args if type(i) == list ]\n",
    "    d=[i[1] for i in kwargs.items() if type(i[1]) == list]\n",
    "    return i,d"
   ]
  },
  {
   "cell_type": "code",
   "execution_count": 149,
   "id": "77f53d0c",
   "metadata": {},
   "outputs": [
    {
     "data": {
      "text/plain": [
       "([[4, 5, 6, 7], [5, 6, 6, 6, 7]], [[4, 5, 6, 7]])"
      ]
     },
     "execution_count": 149,
     "metadata": {},
     "output_type": "execute_result"
    }
   ],
   "source": [
    "fun2([4,5,6,7],[5,6,6,6,7], 5,54,5,84, a = 7 , b = 'gfgfgfg', m = [4,5,6,7])"
   ]
  },
  {
   "cell_type": "code",
   "execution_count": 150,
   "id": "022f6101",
   "metadata": {},
   "outputs": [],
   "source": [
    "def test18(**kwargs):\n",
    "    return kwargs"
   ]
  },
  {
   "cell_type": "code",
   "execution_count": 158,
   "id": "12cb1ba9",
   "metadata": {},
   "outputs": [
    {
     "data": {
      "text/plain": [
       "{'a': 6,\n",
       " 'b': [7, 5, 7, 8],\n",
       " 'd': [5, 54, 85, 4],\n",
       " 'e': ['prateek', (6+5j), 7.65]}"
      ]
     },
     "execution_count": 158,
     "metadata": {},
     "output_type": "execute_result"
    }
   ],
   "source": [
    "test18(a = 6 , b = [7,5,7,8], d = [5,54,85,4], e = ['prateek',6+5j,7.65])"
   ]
  },
  {
   "cell_type": "code",
   "execution_count": null,
   "id": "9eb1ce61",
   "metadata": {},
   "outputs": [],
   "source": []
  },
  {
   "cell_type": "code",
   "execution_count": 160,
   "id": "3555297e",
   "metadata": {},
   "outputs": [],
   "source": [
    "def test18(**kwargs):\n",
    "    for i in kwargs.items():\n",
    "        print(i)\n",
    "    return kwargs\n",
    "    "
   ]
  },
  {
   "cell_type": "code",
   "execution_count": 161,
   "id": "62930ab2",
   "metadata": {},
   "outputs": [
    {
     "name": "stdout",
     "output_type": "stream",
     "text": [
      "('a', 6)\n",
      "('b', [7, 5, 7, 8])\n",
      "('d', [5, 54, 85, 4])\n",
      "('e', ['prateek', (6+5j), 7.65])\n"
     ]
    },
    {
     "data": {
      "text/plain": [
       "{'a': 6,\n",
       " 'b': [7, 5, 7, 8],\n",
       " 'd': [5, 54, 85, 4],\n",
       " 'e': ['prateek', (6+5j), 7.65]}"
      ]
     },
     "execution_count": 161,
     "metadata": {},
     "output_type": "execute_result"
    }
   ],
   "source": [
    "test18(a = 6 , b = [7,5,7,8], d = [5,54,85,4], e = ['prateek',6+5j,7.65])"
   ]
  },
  {
   "cell_type": "code",
   "execution_count": 175,
   "id": "eacedbe2",
   "metadata": {},
   "outputs": [],
   "source": [
    "def test18(**kwargs):\n",
    "    for i in kwargs.items():\n",
    "        if type(i[1])== list :\n",
    "            if 'chaurasia' in i[1]:\n",
    "                print('i am not able to find your name into a input data')\n",
    "                print(i[1])\n",
    "                \n",
    "    return kwargs\n",
    "    "
   ]
  },
  {
   "cell_type": "code",
   "execution_count": 176,
   "id": "80300659",
   "metadata": {},
   "outputs": [
    {
     "data": {
      "text/plain": [
       "{'a': 6,\n",
       " 'b': [7, 5, 7, 8],\n",
       " 'd': [5, 54, 85, 4],\n",
       " 'e': ['prateek', (6+5j), 7.65]}"
      ]
     },
     "execution_count": 176,
     "metadata": {},
     "output_type": "execute_result"
    }
   ],
   "source": [
    "test18(a = 6 , b = [7,5,7,8], d = [5,54,85,4], e = ['prateek',6+5j,7.65])"
   ]
  },
  {
   "cell_type": "code",
   "execution_count": 186,
   "id": "da2ea290",
   "metadata": {},
   "outputs": [
    {
     "data": {
      "text/plain": [
       "{int: [1]}"
      ]
     },
     "execution_count": 186,
     "metadata": {},
     "output_type": "execute_result"
    }
   ],
   "source": [
    "def fun1(*args):\n",
    "  dt = {}\n",
    "  for i in args:\n",
    "    if type(i) in dt:\n",
    "       dt[type(i)].append(i)\n",
    "    else:\n",
    "       dt[type(i)] = [i]\n",
    "    return dt \n",
    "fun1(1,2,3,[5,6,7],'prat','kumm',6+6j)"
   ]
  },
  {
   "cell_type": "code",
   "execution_count": null,
   "id": "fc261381",
   "metadata": {},
   "outputs": [],
   "source": []
  }
 ],
 "metadata": {
  "kernelspec": {
   "display_name": "Python 3 (ipykernel)",
   "language": "python",
   "name": "python3"
  },
  "language_info": {
   "codemirror_mode": {
    "name": "ipython",
    "version": 3
   },
   "file_extension": ".py",
   "mimetype": "text/x-python",
   "name": "python",
   "nbconvert_exporter": "python",
   "pygments_lexer": "ipython3",
   "version": "3.9.7"
  }
 },
 "nbformat": 4,
 "nbformat_minor": 5
}
