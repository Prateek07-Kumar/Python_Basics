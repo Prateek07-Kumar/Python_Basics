{
 "cells": [
  {
   "cell_type": "code",
   "execution_count": 5,
   "id": "a5aa5e05",
   "metadata": {},
   "outputs": [],
   "source": [
    "t = ()"
   ]
  },
  {
   "cell_type": "code",
   "execution_count": 6,
   "id": "331c5e01",
   "metadata": {},
   "outputs": [
    {
     "data": {
      "text/plain": [
       "tuple"
      ]
     },
     "execution_count": 6,
     "metadata": {},
     "output_type": "execute_result"
    }
   ],
   "source": [
    "type(t)"
   ]
  },
  {
   "cell_type": "code",
   "execution_count": 7,
   "id": "b25e0b07",
   "metadata": {},
   "outputs": [],
   "source": [
    "t1 = (234,34,\"prateek\",3.45,True)"
   ]
  },
  {
   "cell_type": "code",
   "execution_count": 8,
   "id": "7c986a1a",
   "metadata": {},
   "outputs": [],
   "source": [
    "l1 = [234,34,\"prateek\",3.45,True]"
   ]
  },
  {
   "cell_type": "code",
   "execution_count": 9,
   "id": "4e752560",
   "metadata": {},
   "outputs": [
    {
     "data": {
      "text/plain": [
       "234"
      ]
     },
     "execution_count": 9,
     "metadata": {},
     "output_type": "execute_result"
    }
   ],
   "source": [
    "t1[0]"
   ]
  },
  {
   "cell_type": "code",
   "execution_count": 10,
   "id": "70e790f0",
   "metadata": {},
   "outputs": [
    {
     "data": {
      "text/plain": [
       "(234, 34, 'prateek', 3.45)"
      ]
     },
     "execution_count": 10,
     "metadata": {},
     "output_type": "execute_result"
    }
   ],
   "source": [
    "t1[0:4]"
   ]
  },
  {
   "cell_type": "code",
   "execution_count": 11,
   "id": "7a2faa2a",
   "metadata": {},
   "outputs": [
    {
     "data": {
      "text/plain": [
       "(True, 3.45, 'prateek', 34, 234)"
      ]
     },
     "execution_count": 11,
     "metadata": {},
     "output_type": "execute_result"
    }
   ],
   "source": [
    "t1[::-1]"
   ]
  },
  {
   "cell_type": "code",
   "execution_count": 12,
   "id": "6d48203c",
   "metadata": {},
   "outputs": [
    {
     "data": {
      "text/plain": [
       "True"
      ]
     },
     "execution_count": 12,
     "metadata": {},
     "output_type": "execute_result"
    }
   ],
   "source": [
    "t1[-1]"
   ]
  },
  {
   "cell_type": "code",
   "execution_count": 13,
   "id": "d092b1f2",
   "metadata": {},
   "outputs": [
    {
     "data": {
      "text/plain": [
       "234"
      ]
     },
     "execution_count": 13,
     "metadata": {},
     "output_type": "execute_result"
    }
   ],
   "source": [
    "l1[0]"
   ]
  },
  {
   "cell_type": "code",
   "execution_count": 14,
   "id": "e447ab68",
   "metadata": {},
   "outputs": [],
   "source": [
    "l1[0] = \"kumar\"    #change the value 234 is replace as \"kumar\""
   ]
  },
  {
   "cell_type": "code",
   "execution_count": 15,
   "id": "9171da82",
   "metadata": {},
   "outputs": [
    {
     "data": {
      "text/plain": [
       "['kumar', 34, 'prateek', 3.45, True]"
      ]
     },
     "execution_count": 15,
     "metadata": {},
     "output_type": "execute_result"
    }
   ],
   "source": [
    "l1"
   ]
  },
  {
   "cell_type": "code",
   "execution_count": 16,
   "id": "43780bfd",
   "metadata": {},
   "outputs": [
    {
     "data": {
      "text/plain": [
       "(234, 34, 'prateek', 3.45, True)"
      ]
     },
     "execution_count": 16,
     "metadata": {},
     "output_type": "execute_result"
    }
   ],
   "source": [
    "t1"
   ]
  },
  {
   "cell_type": "code",
   "execution_count": 17,
   "id": "a7427f36",
   "metadata": {},
   "outputs": [
    {
     "data": {
      "text/plain": [
       "234"
      ]
     },
     "execution_count": 17,
     "metadata": {},
     "output_type": "execute_result"
    }
   ],
   "source": [
    "t1[0]"
   ]
  },
  {
   "cell_type": "code",
   "execution_count": 18,
   "id": "48b1cbb5",
   "metadata": {},
   "outputs": [
    {
     "ename": "TypeError",
     "evalue": "'tuple' object does not support item assignment",
     "output_type": "error",
     "traceback": [
      "\u001b[1;31m---------------------------------------------------------------------------\u001b[0m",
      "\u001b[1;31mTypeError\u001b[0m                                 Traceback (most recent call last)",
      "\u001b[1;32mC:\\Users\\Public\\Documents\\iSkysoft\\CreatorTemp/ipykernel_12092/3403006058.py\u001b[0m in \u001b[0;36m<module>\u001b[1;34m\u001b[0m\n\u001b[1;32m----> 1\u001b[1;33m \u001b[0mt1\u001b[0m\u001b[1;33m[\u001b[0m\u001b[1;36m0\u001b[0m\u001b[1;33m]\u001b[0m \u001b[1;33m=\u001b[0m \u001b[1;34m\"dfdffs\"\u001b[0m   \u001b[1;31m#tuple is inmutable collection where as list is mutable\u001b[0m\u001b[1;33m\u001b[0m\u001b[1;33m\u001b[0m\u001b[0m\n\u001b[0m",
      "\u001b[1;31mTypeError\u001b[0m: 'tuple' object does not support item assignment"
     ]
    }
   ],
   "source": [
    "t1[0] = \"dfdffs\"   #tuple is inmutable collection where as list is mutable "
   ]
  },
  {
   "cell_type": "code",
   "execution_count": 19,
   "id": "2f34707b",
   "metadata": {},
   "outputs": [],
   "source": [
    "t2 = (234,34,54,565)"
   ]
  },
  {
   "cell_type": "code",
   "execution_count": 20,
   "id": "c8a6e4ba",
   "metadata": {},
   "outputs": [
    {
     "data": {
      "text/plain": [
       "(234, 34, 54, 565)"
      ]
     },
     "execution_count": 20,
     "metadata": {},
     "output_type": "execute_result"
    }
   ],
   "source": [
    "t2"
   ]
  },
  {
   "cell_type": "code",
   "execution_count": 21,
   "id": "f948a90f",
   "metadata": {},
   "outputs": [
    {
     "data": {
      "text/plain": [
       "(234, 34, 'prateek', 3.45, True, 234, 34, 54, 565)"
      ]
     },
     "execution_count": 21,
     "metadata": {},
     "output_type": "execute_result"
    }
   ],
   "source": [
    "t1+t2"
   ]
  },
  {
   "cell_type": "code",
   "execution_count": 22,
   "id": "2280ed68",
   "metadata": {},
   "outputs": [
    {
     "data": {
      "text/plain": [
       "(234,\n",
       " 34,\n",
       " 'prateek',\n",
       " 3.45,\n",
       " True,\n",
       " 234,\n",
       " 34,\n",
       " 'prateek',\n",
       " 3.45,\n",
       " True,\n",
       " 234,\n",
       " 34,\n",
       " 'prateek',\n",
       " 3.45,\n",
       " True,\n",
       " 234,\n",
       " 34,\n",
       " 'prateek',\n",
       " 3.45,\n",
       " True)"
      ]
     },
     "execution_count": 22,
     "metadata": {},
     "output_type": "execute_result"
    }
   ],
   "source": [
    "t1*4"
   ]
  },
  {
   "cell_type": "code",
   "execution_count": 23,
   "id": "c983f16e",
   "metadata": {},
   "outputs": [
    {
     "data": {
      "text/plain": [
       "(234, 34, 'prateek', 3.45, True)"
      ]
     },
     "execution_count": 23,
     "metadata": {},
     "output_type": "execute_result"
    }
   ],
   "source": [
    "t1"
   ]
  },
  {
   "cell_type": "code",
   "execution_count": 24,
   "id": "3dcdffe9",
   "metadata": {},
   "outputs": [
    {
     "data": {
      "text/plain": [
       "True"
      ]
     },
     "execution_count": 24,
     "metadata": {},
     "output_type": "execute_result"
    }
   ],
   "source": [
    "34 in t1"
   ]
  },
  {
   "cell_type": "code",
   "execution_count": 25,
   "id": "f850c82b",
   "metadata": {},
   "outputs": [
    {
     "data": {
      "text/plain": [
       "False"
      ]
     },
     "execution_count": 25,
     "metadata": {},
     "output_type": "execute_result"
    }
   ],
   "source": [
    "\"ffffd\" in t1"
   ]
  },
  {
   "cell_type": "code",
   "execution_count": 26,
   "id": "4ecc1e72",
   "metadata": {},
   "outputs": [
    {
     "data": {
      "text/plain": [
       "(234, 34, 'prateek', 3.45, True)"
      ]
     },
     "execution_count": 26,
     "metadata": {},
     "output_type": "execute_result"
    }
   ],
   "source": [
    "t1"
   ]
  },
  {
   "cell_type": "code",
   "execution_count": 27,
   "id": "0e392b24",
   "metadata": {},
   "outputs": [
    {
     "ename": "TypeError",
     "evalue": "'>' not supported between instances of 'str' and 'int'",
     "output_type": "error",
     "traceback": [
      "\u001b[1;31m---------------------------------------------------------------------------\u001b[0m",
      "\u001b[1;31mTypeError\u001b[0m                                 Traceback (most recent call last)",
      "\u001b[1;32mC:\\Users\\Public\\Documents\\iSkysoft\\CreatorTemp/ipykernel_12092/3099455752.py\u001b[0m in \u001b[0;36m<module>\u001b[1;34m\u001b[0m\n\u001b[1;32m----> 1\u001b[1;33m \u001b[0mmax\u001b[0m\u001b[1;33m(\u001b[0m\u001b[0mt1\u001b[0m\u001b[1;33m)\u001b[0m\u001b[1;33m\u001b[0m\u001b[1;33m\u001b[0m\u001b[0m\n\u001b[0m",
      "\u001b[1;31mTypeError\u001b[0m: '>' not supported between instances of 'str' and 'int'"
     ]
    }
   ],
   "source": [
    "max(t1)"
   ]
  },
  {
   "cell_type": "code",
   "execution_count": 28,
   "id": "f3eb127d",
   "metadata": {},
   "outputs": [],
   "source": [
    "t3 = (23,343,45,454,54)"
   ]
  },
  {
   "cell_type": "code",
   "execution_count": 29,
   "id": "2d70ab6b",
   "metadata": {},
   "outputs": [
    {
     "data": {
      "text/plain": [
       "454"
      ]
     },
     "execution_count": 29,
     "metadata": {},
     "output_type": "execute_result"
    }
   ],
   "source": [
    "max(t3)"
   ]
  },
  {
   "cell_type": "code",
   "execution_count": 30,
   "id": "2cb17e9a",
   "metadata": {},
   "outputs": [],
   "source": [
    "t4 = (\"dffsdf\",\"fdfd\",\"egff\")"
   ]
  },
  {
   "cell_type": "code",
   "execution_count": 31,
   "id": "9115e520",
   "metadata": {},
   "outputs": [
    {
     "data": {
      "text/plain": [
       "'fdfd'"
      ]
     },
     "execution_count": 31,
     "metadata": {},
     "output_type": "execute_result"
    }
   ],
   "source": [
    "max(t4)"
   ]
  },
  {
   "cell_type": "code",
   "execution_count": 32,
   "id": "25e20199",
   "metadata": {},
   "outputs": [
    {
     "data": {
      "text/plain": [
       "(234, 34, 'prateek', 3.45, True)"
      ]
     },
     "execution_count": 32,
     "metadata": {},
     "output_type": "execute_result"
    }
   ],
   "source": [
    "t1"
   ]
  },
  {
   "cell_type": "code",
   "execution_count": 33,
   "id": "0e4748f6",
   "metadata": {},
   "outputs": [
    {
     "data": {
      "text/plain": [
       "1"
      ]
     },
     "execution_count": 33,
     "metadata": {},
     "output_type": "execute_result"
    }
   ],
   "source": [
    "t1.index(34)"
   ]
  },
  {
   "cell_type": "code",
   "execution_count": 34,
   "id": "dfb3a35e",
   "metadata": {},
   "outputs": [
    {
     "ename": "ValueError",
     "evalue": "6 is not in list",
     "output_type": "error",
     "traceback": [
      "\u001b[1;31m---------------------------------------------------------------------------\u001b[0m",
      "\u001b[1;31mValueError\u001b[0m                                Traceback (most recent call last)",
      "\u001b[1;32mC:\\Users\\Public\\Documents\\iSkysoft\\CreatorTemp/ipykernel_12092/1337587508.py\u001b[0m in \u001b[0;36m<module>\u001b[1;34m\u001b[0m\n\u001b[1;32m----> 1\u001b[1;33m \u001b[0ml1\u001b[0m\u001b[1;33m.\u001b[0m\u001b[0mindex\u001b[0m\u001b[1;33m(\u001b[0m\u001b[1;36m6\u001b[0m\u001b[1;33m)\u001b[0m\u001b[1;33m\u001b[0m\u001b[1;33m\u001b[0m\u001b[0m\n\u001b[0m",
      "\u001b[1;31mValueError\u001b[0m: 6 is not in list"
     ]
    }
   ],
   "source": [
    "l1.index(6)"
   ]
  },
  {
   "cell_type": "code",
   "execution_count": 35,
   "id": "524fe2b9",
   "metadata": {},
   "outputs": [],
   "source": [
    "t1 = (234,34,\"prateek\",3.45,34,34,34,True)   #if data is repeated the same number then it will give only one value "
   ]
  },
  {
   "cell_type": "code",
   "execution_count": 36,
   "id": "f43ab981",
   "metadata": {},
   "outputs": [
    {
     "data": {
      "text/plain": [
       "1"
      ]
     },
     "execution_count": 36,
     "metadata": {},
     "output_type": "execute_result"
    }
   ],
   "source": [
    "t1.index(34)"
   ]
  },
  {
   "cell_type": "code",
   "execution_count": 37,
   "id": "a7355d10",
   "metadata": {},
   "outputs": [
    {
     "data": {
      "text/plain": [
       "4"
      ]
     },
     "execution_count": 37,
     "metadata": {},
     "output_type": "execute_result"
    }
   ],
   "source": [
    "t1.count(34)       #show the data 34 number in data"
   ]
  },
  {
   "cell_type": "code",
   "execution_count": 38,
   "id": "c429d2f4",
   "metadata": {},
   "outputs": [
    {
     "data": {
      "text/plain": [
       "(234, 34, 'prateek', 3.45, 34, 34, 34, True)"
      ]
     },
     "execution_count": 38,
     "metadata": {},
     "output_type": "execute_result"
    }
   ],
   "source": [
    "t1"
   ]
  },
  {
   "cell_type": "code",
   "execution_count": 1,
   "id": "e6465613",
   "metadata": {},
   "outputs": [
    {
     "ename": "NameError",
     "evalue": "name 't1' is not defined",
     "output_type": "error",
     "traceback": [
      "\u001b[1;31m---------------------------------------------------------------------------\u001b[0m",
      "\u001b[1;31mNameError\u001b[0m                                 Traceback (most recent call last)",
      "\u001b[1;32mC:\\Users\\Public\\Documents\\iSkysoft\\CreatorTemp/ipykernel_8300/1277130607.py\u001b[0m in \u001b[0;36m<module>\u001b[1;34m\u001b[0m\n\u001b[1;32m----> 1\u001b[1;33m \u001b[0mmin\u001b[0m\u001b[1;33m(\u001b[0m\u001b[0mt1\u001b[0m\u001b[1;33m)\u001b[0m\u001b[1;33m\u001b[0m\u001b[1;33m\u001b[0m\u001b[0m\n\u001b[0m",
      "\u001b[1;31mNameError\u001b[0m: name 't1' is not defined"
     ]
    }
   ],
   "source": [
    "min(t1)"
   ]
  },
  {
   "cell_type": "code",
   "execution_count": 40,
   "id": "12e52bd8",
   "metadata": {},
   "outputs": [
    {
     "data": {
      "text/plain": [
       "23"
      ]
     },
     "execution_count": 40,
     "metadata": {},
     "output_type": "execute_result"
    }
   ],
   "source": [
    "min(t3)"
   ]
  },
  {
   "cell_type": "code",
   "execution_count": 41,
   "id": "7cbf2e66",
   "metadata": {},
   "outputs": [
    {
     "data": {
      "text/plain": [
       "'dffsdf'"
      ]
     },
     "execution_count": 41,
     "metadata": {},
     "output_type": "execute_result"
    }
   ],
   "source": [
    "min(t4)"
   ]
  },
  {
   "cell_type": "code",
   "execution_count": 42,
   "id": "5f75da67",
   "metadata": {},
   "outputs": [
    {
     "data": {
      "text/plain": [
       "(234, 34, 'prateek', 3.45, 34, 34, 34, True)"
      ]
     },
     "execution_count": 42,
     "metadata": {},
     "output_type": "execute_result"
    }
   ],
   "source": [
    "t1"
   ]
  },
  {
   "cell_type": "code",
   "execution_count": 43,
   "id": "ab0bd8eb",
   "metadata": {},
   "outputs": [],
   "source": [
    "t5 = (90,45)"
   ]
  },
  {
   "cell_type": "code",
   "execution_count": 44,
   "id": "f106ce16",
   "metadata": {},
   "outputs": [
    {
     "data": {
      "text/plain": [
       "(234, 34, 'prateek', 3.45, 34, 34, 34, True, 90, 45)"
      ]
     },
     "execution_count": 44,
     "metadata": {},
     "output_type": "execute_result"
    }
   ],
   "source": [
    "t1+t5"
   ]
  },
  {
   "cell_type": "code",
   "execution_count": 45,
   "id": "b582a66b",
   "metadata": {},
   "outputs": [],
   "source": [
    "t6 = 56"
   ]
  },
  {
   "cell_type": "code",
   "execution_count": 46,
   "id": "ec87251f",
   "metadata": {},
   "outputs": [],
   "source": [
    "l5 = list(t1)             #convert this tuple data to list data"
   ]
  },
  {
   "cell_type": "code",
   "execution_count": 47,
   "id": "0dc6b807",
   "metadata": {},
   "outputs": [
    {
     "data": {
      "text/plain": [
       "[234, 34, 'prateek', 3.45, 34, 34, 34, True]"
      ]
     },
     "execution_count": 47,
     "metadata": {},
     "output_type": "execute_result"
    }
   ],
   "source": [
    "l5"
   ]
  },
  {
   "cell_type": "code",
   "execution_count": 48,
   "id": "ab245b71",
   "metadata": {},
   "outputs": [],
   "source": [
    "l5.insert(3,t6)         "
   ]
  },
  {
   "cell_type": "code",
   "execution_count": 49,
   "id": "2c412ea5",
   "metadata": {},
   "outputs": [
    {
     "data": {
      "text/plain": [
       "[234, 34, 'prateek', 56, 3.45, 34, 34, 34, True]"
      ]
     },
     "execution_count": 49,
     "metadata": {},
     "output_type": "execute_result"
    }
   ],
   "source": [
    "l5"
   ]
  },
  {
   "cell_type": "code",
   "execution_count": 50,
   "id": "df1e3e3a",
   "metadata": {},
   "outputs": [
    {
     "data": {
      "text/plain": [
       "(234, 34, 'prateek', 56, 3.45, 34, 34, 34, True)"
      ]
     },
     "execution_count": 50,
     "metadata": {},
     "output_type": "execute_result"
    }
   ],
   "source": [
    "tuple(l5)       #convert back this data as tuple"
   ]
  },
  {
   "cell_type": "code",
   "execution_count": 51,
   "id": "564abb9a",
   "metadata": {},
   "outputs": [],
   "source": [
    "t = ((3,4,5,6,7) , (\"sfsfsf\",45,45) , (\"456\",54) , 45,454,67 , [4,5,6,7,7])"
   ]
  },
  {
   "cell_type": "code",
   "execution_count": 52,
   "id": "201bcf66",
   "metadata": {},
   "outputs": [
    {
     "data": {
      "text/plain": [
       "[4, 5, 6, 7, 7]"
      ]
     },
     "execution_count": 52,
     "metadata": {},
     "output_type": "execute_result"
    }
   ],
   "source": [
    "t[6]"
   ]
  },
  {
   "cell_type": "code",
   "execution_count": 53,
   "id": "e115cbf3",
   "metadata": {},
   "outputs": [
    {
     "data": {
      "text/plain": [
       "list"
      ]
     },
     "execution_count": 53,
     "metadata": {},
     "output_type": "execute_result"
    }
   ],
   "source": [
    "type([6])"
   ]
  },
  {
   "cell_type": "code",
   "execution_count": 54,
   "id": "6b803936",
   "metadata": {},
   "outputs": [
    {
     "data": {
      "text/plain": [
       "5"
      ]
     },
     "execution_count": 54,
     "metadata": {},
     "output_type": "execute_result"
    }
   ],
   "source": [
    "t[6][1]"
   ]
  },
  {
   "cell_type": "code",
   "execution_count": 55,
   "id": "25b0a433",
   "metadata": {},
   "outputs": [
    {
     "data": {
      "text/plain": [
       "[5, 6, 7, 7]"
      ]
     },
     "execution_count": 55,
     "metadata": {},
     "output_type": "execute_result"
    }
   ],
   "source": [
    "t[6][1:5]"
   ]
  },
  {
   "cell_type": "code",
   "execution_count": 56,
   "id": "1945f3a5",
   "metadata": {},
   "outputs": [
    {
     "data": {
      "text/plain": [
       "('sfsfsf', 45, 45)"
      ]
     },
     "execution_count": 56,
     "metadata": {},
     "output_type": "execute_result"
    }
   ],
   "source": [
    "t[1]"
   ]
  },
  {
   "cell_type": "code",
   "execution_count": 57,
   "id": "2445aa5e",
   "metadata": {},
   "outputs": [
    {
     "data": {
      "text/plain": [
       "'sfsfsf'"
      ]
     },
     "execution_count": 57,
     "metadata": {},
     "output_type": "execute_result"
    }
   ],
   "source": [
    "t[1][0]"
   ]
  },
  {
   "cell_type": "code",
   "execution_count": 58,
   "id": "28c20010",
   "metadata": {},
   "outputs": [
    {
     "data": {
      "text/plain": [
       "((3, 4, 5, 6, 7),\n",
       " ('sfsfsf', 45, 45),\n",
       " ('456', 54),\n",
       " 45,\n",
       " 454,\n",
       " 67,\n",
       " [4, 5, 6, 7, 7])"
      ]
     },
     "execution_count": 58,
     "metadata": {},
     "output_type": "execute_result"
    }
   ],
   "source": [
    "t"
   ]
  },
  {
   "cell_type": "code",
   "execution_count": 59,
   "id": "92d3fee8",
   "metadata": {},
   "outputs": [
    {
     "name": "stdout",
     "output_type": "stream",
     "text": [
      "(3, 4, 5, 6, 7)\n",
      "('sfsfsf', 45, 45)\n",
      "('456', 54)\n",
      "45\n",
      "454\n",
      "67\n",
      "[4, 5, 6, 7, 7]\n"
     ]
    }
   ],
   "source": [
    "for i in t :\n",
    "    print(i)"
   ]
  },
  {
   "cell_type": "code",
   "execution_count": 60,
   "id": "8781d074",
   "metadata": {},
   "outputs": [
    {
     "name": "stdout",
     "output_type": "stream",
     "text": [
      "3\n",
      "sfsfsf\n",
      "456\n"
     ]
    }
   ],
   "source": [
    "for i in t:\n",
    "    if type(i) == tuple :\n",
    "        print(i[0])"
   ]
  },
  {
   "cell_type": "code",
   "execution_count": 61,
   "id": "c1f0b8ff",
   "metadata": {},
   "outputs": [
    {
     "data": {
      "text/plain": [
       "(234, 34, 'prateek', 3.45, 34, 34, 34, True)"
      ]
     },
     "execution_count": 61,
     "metadata": {},
     "output_type": "execute_result"
    }
   ],
   "source": [
    "t1"
   ]
  },
  {
   "cell_type": "code",
   "execution_count": 62,
   "id": "9145455e",
   "metadata": {},
   "outputs": [
    {
     "data": {
      "text/plain": [
       "(234, 34, 54, 565)"
      ]
     },
     "execution_count": 62,
     "metadata": {},
     "output_type": "execute_result"
    }
   ],
   "source": [
    "t2"
   ]
  },
  {
   "cell_type": "code",
   "execution_count": 63,
   "id": "e6511b62",
   "metadata": {},
   "outputs": [
    {
     "name": "stdout",
     "output_type": "stream",
     "text": [
      "not same\n"
     ]
    }
   ],
   "source": [
    "if len(t1) == len(t2):\n",
    "    print(\"its same\")\n",
    "else:\n",
    "    print(\"not same\")"
   ]
  },
  {
   "cell_type": "code",
   "execution_count": 64,
   "id": "3e1a4092",
   "metadata": {},
   "outputs": [],
   "source": [
    "t = (234, 34, 'prateek',3.45, 34, 34, 34, True, \"kumar\")\n",
    "\n"
   ]
  },
  {
   "cell_type": "code",
   "execution_count": null,
   "id": "dce15a4f",
   "metadata": {},
   "outputs": [],
   "source": [
    "i = input(\"take a user input\")\n",
    "\n",
    "if i in t :\n",
    "    print(\"yes your name is available\")\n",
    "else :\n",
    "    print(\"your name is not available\")"
   ]
  },
  {
   "cell_type": "code",
   "execution_count": 66,
   "id": "08b3692b",
   "metadata": {},
   "outputs": [
    {
     "data": {
      "text/plain": [
       "(234, 34, 'prateek', 3.45, 34, 34, 34, True, 'kumar')"
      ]
     },
     "execution_count": 66,
     "metadata": {},
     "output_type": "execute_result"
    }
   ],
   "source": [
    "t"
   ]
  },
  {
   "cell_type": "code",
   "execution_count": 67,
   "id": "2c072647",
   "metadata": {},
   "outputs": [
    {
     "data": {
      "text/plain": [
       "['kumar', 34, 'prateek', 3.45, True]"
      ]
     },
     "execution_count": 67,
     "metadata": {},
     "output_type": "execute_result"
    }
   ],
   "source": [
    "l1"
   ]
  },
  {
   "cell_type": "code",
   "execution_count": 7,
   "id": "b30b9081",
   "metadata": {},
   "outputs": [],
   "source": [
    "t = 34"
   ]
  },
  {
   "cell_type": "code",
   "execution_count": 8,
   "id": "4ad2f727",
   "metadata": {},
   "outputs": [],
   "source": [
    "del(t)              #'t' variable delete all the data "
   ]
  },
  {
   "cell_type": "code",
   "execution_count": 9,
   "id": "9d7aaa34",
   "metadata": {},
   "outputs": [
    {
     "ename": "NameError",
     "evalue": "name 't' is not defined",
     "output_type": "error",
     "traceback": [
      "\u001b[1;31m---------------------------------------------------------------------------\u001b[0m",
      "\u001b[1;31mNameError\u001b[0m                                 Traceback (most recent call last)",
      "\u001b[1;32mC:\\Users\\Public\\Documents\\iSkysoft\\CreatorTemp/ipykernel_8300/3790515489.py\u001b[0m in \u001b[0;36m<module>\u001b[1;34m\u001b[0m\n\u001b[1;32m----> 1\u001b[1;33m \u001b[0mt\u001b[0m\u001b[1;33m\u001b[0m\u001b[1;33m\u001b[0m\u001b[0m\n\u001b[0m",
      "\u001b[1;31mNameError\u001b[0m: name 't' is not defined"
     ]
    }
   ],
   "source": [
    "t"
   ]
  },
  {
   "cell_type": "code",
   "execution_count": 72,
   "id": "89a77bcb",
   "metadata": {},
   "outputs": [],
   "source": [
    "del(l1)"
   ]
  },
  {
   "cell_type": "code",
   "execution_count": 73,
   "id": "ff27e97f",
   "metadata": {},
   "outputs": [
    {
     "ename": "NameError",
     "evalue": "name 'l1' is not defined",
     "output_type": "error",
     "traceback": [
      "\u001b[1;31m---------------------------------------------------------------------------\u001b[0m",
      "\u001b[1;31mNameError\u001b[0m                                 Traceback (most recent call last)",
      "\u001b[1;32mC:\\Users\\Public\\Documents\\iSkysoft\\CreatorTemp/ipykernel_12092/2585568370.py\u001b[0m in \u001b[0;36m<module>\u001b[1;34m\u001b[0m\n\u001b[1;32m----> 1\u001b[1;33m \u001b[0ml1\u001b[0m\u001b[1;33m\u001b[0m\u001b[1;33m\u001b[0m\u001b[0m\n\u001b[0m",
      "\u001b[1;31mNameError\u001b[0m: name 'l1' is not defined"
     ]
    }
   ],
   "source": [
    "l1    # l1 is delete the data"
   ]
  },
  {
   "cell_type": "code",
   "execution_count": 74,
   "id": "57f04a80",
   "metadata": {},
   "outputs": [],
   "source": [
    "l = [324,343,343,34]"
   ]
  },
  {
   "cell_type": "code",
   "execution_count": 75,
   "id": "16d2330c",
   "metadata": {},
   "outputs": [
    {
     "data": {
      "text/plain": [
       "(234, 34, 54, 565)"
      ]
     },
     "execution_count": 75,
     "metadata": {},
     "output_type": "execute_result"
    }
   ],
   "source": [
    "t2"
   ]
  },
  {
   "cell_type": "markdown",
   "id": "1ecd4cfd",
   "metadata": {},
   "source": [
    "# Set"
   ]
  },
  {
   "cell_type": "code",
   "execution_count": 76,
   "id": "c2a7b904",
   "metadata": {},
   "outputs": [],
   "source": [
    "x = set()"
   ]
  },
  {
   "cell_type": "code",
   "execution_count": 77,
   "id": "135aa107",
   "metadata": {},
   "outputs": [
    {
     "data": {
      "text/plain": [
       "set"
      ]
     },
     "execution_count": 77,
     "metadata": {},
     "output_type": "execute_result"
    }
   ],
   "source": [
    "type(x)"
   ]
  },
  {
   "cell_type": "code",
   "execution_count": 78,
   "id": "6c6deb3b",
   "metadata": {},
   "outputs": [],
   "source": [
    "l = [34,45,45,45,45,67,34,56,78,\"prateek\",\"prateek\",\"prateek\",\"kumar\" ,45,4554454554,545,4545,545]"
   ]
  },
  {
   "cell_type": "code",
   "execution_count": 79,
   "id": "449329a4",
   "metadata": {},
   "outputs": [
    {
     "data": {
      "text/plain": [
       "{34, 45, 4545, 4554454554, 545, 56, 67, 78, 'kumar', 'prateek'}"
      ]
     },
     "execution_count": 79,
     "metadata": {},
     "output_type": "execute_result"
    }
   ],
   "source": [
    "set(l)"
   ]
  },
  {
   "cell_type": "code",
   "execution_count": 80,
   "id": "b67b6a65",
   "metadata": {},
   "outputs": [],
   "source": [
    "s = set(l)"
   ]
  },
  {
   "cell_type": "code",
   "execution_count": 81,
   "id": "732e15a1",
   "metadata": {},
   "outputs": [
    {
     "data": {
      "text/plain": [
       "{34, 45, 4545, 4554454554, 545, 56, 67, 78, 'kumar', 'prateek'}"
      ]
     },
     "execution_count": 81,
     "metadata": {},
     "output_type": "execute_result"
    }
   ],
   "source": [
    "s"
   ]
  },
  {
   "cell_type": "code",
   "execution_count": 82,
   "id": "cc4ef12b",
   "metadata": {},
   "outputs": [
    {
     "name": "stdout",
     "output_type": "stream",
     "text": [
      "kumar\n",
      "34\n",
      "67\n",
      "545\n",
      "4545\n",
      "45\n",
      "78\n",
      "prateek\n",
      "56\n",
      "4554454554\n"
     ]
    }
   ],
   "source": [
    "for i in s :\n",
    "    print(i)"
   ]
  },
  {
   "cell_type": "code",
   "execution_count": 83,
   "id": "c9c446d8",
   "metadata": {},
   "outputs": [
    {
     "data": {
      "text/plain": [
       "True"
      ]
     },
     "execution_count": 83,
     "metadata": {},
     "output_type": "execute_result"
    }
   ],
   "source": [
    "34 in s"
   ]
  },
  {
   "cell_type": "code",
   "execution_count": 84,
   "id": "7bf5d211",
   "metadata": {},
   "outputs": [
    {
     "data": {
      "text/plain": [
       "False"
      ]
     },
     "execution_count": 84,
     "metadata": {},
     "output_type": "execute_result"
    }
   ],
   "source": [
    "35 in s"
   ]
  },
  {
   "cell_type": "code",
   "execution_count": 85,
   "id": "8b4974e7",
   "metadata": {},
   "outputs": [
    {
     "ename": "TypeError",
     "evalue": "'set' object is not subscriptable",
     "output_type": "error",
     "traceback": [
      "\u001b[1;31m---------------------------------------------------------------------------\u001b[0m",
      "\u001b[1;31mTypeError\u001b[0m                                 Traceback (most recent call last)",
      "\u001b[1;32mC:\\Users\\Public\\Documents\\iSkysoft\\CreatorTemp/ipykernel_12092/212134452.py\u001b[0m in \u001b[0;36m<module>\u001b[1;34m\u001b[0m\n\u001b[1;32m----> 1\u001b[1;33m \u001b[0ms\u001b[0m\u001b[1;33m[\u001b[0m\u001b[1;36m0\u001b[0m\u001b[1;33m]\u001b[0m    \u001b[1;31m#s{0} invalid syntax\u001b[0m\u001b[1;33m\u001b[0m\u001b[1;33m\u001b[0m\u001b[0m\n\u001b[0m",
      "\u001b[1;31mTypeError\u001b[0m: 'set' object is not subscriptable"
     ]
    }
   ],
   "source": [
    "s[0]    #s{0} invalid syntax"
   ]
  },
  {
   "cell_type": "code",
   "execution_count": 86,
   "id": "97fb470f",
   "metadata": {},
   "outputs": [
    {
     "data": {
      "text/plain": [
       "set()"
      ]
     },
     "execution_count": 86,
     "metadata": {},
     "output_type": "execute_result"
    }
   ],
   "source": [
    "s = set()\n",
    "s"
   ]
  },
  {
   "cell_type": "code",
   "execution_count": 87,
   "id": "b45afcec",
   "metadata": {},
   "outputs": [],
   "source": [
    "s.add(45)"
   ]
  },
  {
   "cell_type": "code",
   "execution_count": 88,
   "id": "9c9bc8d7",
   "metadata": {},
   "outputs": [
    {
     "data": {
      "text/plain": [
       "{45}"
      ]
     },
     "execution_count": 88,
     "metadata": {},
     "output_type": "execute_result"
    }
   ],
   "source": [
    "s"
   ]
  },
  {
   "cell_type": "code",
   "execution_count": 89,
   "id": "aee5fec8",
   "metadata": {},
   "outputs": [],
   "source": [
    "s.add(\"prateek\")"
   ]
  },
  {
   "cell_type": "code",
   "execution_count": 90,
   "id": "c7f31a55",
   "metadata": {},
   "outputs": [
    {
     "data": {
      "text/plain": [
       "{45, 'prateek'}"
      ]
     },
     "execution_count": 90,
     "metadata": {},
     "output_type": "execute_result"
    }
   ],
   "source": [
    "s"
   ]
  },
  {
   "cell_type": "code",
   "execution_count": 91,
   "id": "40e67f20",
   "metadata": {},
   "outputs": [],
   "source": [
    "s.add(\"dfdff\")"
   ]
  },
  {
   "cell_type": "code",
   "execution_count": 92,
   "id": "abcee441",
   "metadata": {},
   "outputs": [
    {
     "data": {
      "text/plain": [
       "{45, 'dfdff', 'prateek'}"
      ]
     },
     "execution_count": 92,
     "metadata": {},
     "output_type": "execute_result"
    }
   ],
   "source": [
    "s"
   ]
  },
  {
   "cell_type": "code",
   "execution_count": 93,
   "id": "8ff4071d",
   "metadata": {},
   "outputs": [
    {
     "ename": "TypeError",
     "evalue": "set.add() takes exactly one argument (2 given)",
     "output_type": "error",
     "traceback": [
      "\u001b[1;31m---------------------------------------------------------------------------\u001b[0m",
      "\u001b[1;31mTypeError\u001b[0m                                 Traceback (most recent call last)",
      "\u001b[1;32mC:\\Users\\Public\\Documents\\iSkysoft\\CreatorTemp/ipykernel_12092/2899058499.py\u001b[0m in \u001b[0;36m<module>\u001b[1;34m\u001b[0m\n\u001b[1;32m----> 1\u001b[1;33m \u001b[0ms\u001b[0m\u001b[1;33m.\u001b[0m\u001b[0madd\u001b[0m\u001b[1;33m(\u001b[0m\u001b[1;36m245412\u001b[0m\u001b[1;33m,\u001b[0m\u001b[1;36m454\u001b[0m\u001b[1;33m)\u001b[0m\u001b[1;33m\u001b[0m\u001b[1;33m\u001b[0m\u001b[0m\n\u001b[0m",
      "\u001b[1;31mTypeError\u001b[0m: set.add() takes exactly one argument (2 given)"
     ]
    }
   ],
   "source": [
    "s.add(245412,454)"
   ]
  },
  {
   "cell_type": "code",
   "execution_count": 94,
   "id": "f6e23665",
   "metadata": {},
   "outputs": [],
   "source": [
    "s.add(45)"
   ]
  },
  {
   "cell_type": "code",
   "execution_count": 95,
   "id": "0cbf7330",
   "metadata": {},
   "outputs": [
    {
     "data": {
      "text/plain": [
       "{45, 'dfdff', 'prateek'}"
      ]
     },
     "execution_count": 95,
     "metadata": {},
     "output_type": "execute_result"
    }
   ],
   "source": [
    "s            #this is not repeate the data "
   ]
  },
  {
   "cell_type": "code",
   "execution_count": 96,
   "id": "ad4263df",
   "metadata": {},
   "outputs": [],
   "source": [
    "s.remove(45)"
   ]
  },
  {
   "cell_type": "code",
   "execution_count": 97,
   "id": "b3f48fbd",
   "metadata": {},
   "outputs": [
    {
     "data": {
      "text/plain": [
       "{'dfdff', 'prateek'}"
      ]
     },
     "execution_count": 97,
     "metadata": {},
     "output_type": "execute_result"
    }
   ],
   "source": [
    "s                 #remove your data "
   ]
  },
  {
   "cell_type": "code",
   "execution_count": 98,
   "id": "fbf080b4",
   "metadata": {},
   "outputs": [
    {
     "data": {
      "text/plain": [
       "False"
      ]
     },
     "execution_count": 98,
     "metadata": {},
     "output_type": "execute_result"
    }
   ],
   "source": [
    "45 in s                  #data is not available "
   ]
  },
  {
   "cell_type": "code",
   "execution_count": 99,
   "id": "d1952fc0",
   "metadata": {},
   "outputs": [],
   "source": [
    "s.clear()"
   ]
  },
  {
   "cell_type": "code",
   "execution_count": 100,
   "id": "d7e8057a",
   "metadata": {},
   "outputs": [
    {
     "data": {
      "text/plain": [
       "set()"
      ]
     },
     "execution_count": 100,
     "metadata": {},
     "output_type": "execute_result"
    }
   ],
   "source": [
    "s"
   ]
  },
  {
   "cell_type": "code",
   "execution_count": 101,
   "id": "822fd373",
   "metadata": {},
   "outputs": [],
   "source": [
    "s.add(\"fggfg\")"
   ]
  },
  {
   "cell_type": "code",
   "execution_count": 102,
   "id": "62468117",
   "metadata": {},
   "outputs": [],
   "source": [
    "s.add(234)"
   ]
  },
  {
   "cell_type": "code",
   "execution_count": 103,
   "id": "8ceda255",
   "metadata": {},
   "outputs": [],
   "source": [
    "s.add(\"wer\")"
   ]
  },
  {
   "cell_type": "code",
   "execution_count": 104,
   "id": "5a2e2007",
   "metadata": {},
   "outputs": [],
   "source": [
    "s.add(345)"
   ]
  },
  {
   "cell_type": "code",
   "execution_count": 105,
   "id": "2b5416d7",
   "metadata": {},
   "outputs": [
    {
     "data": {
      "text/plain": [
       "{234, 345, 'fggfg', 'wer'}"
      ]
     },
     "execution_count": 105,
     "metadata": {},
     "output_type": "execute_result"
    }
   ],
   "source": [
    "s"
   ]
  },
  {
   "cell_type": "code",
   "execution_count": 106,
   "id": "48d4adbf",
   "metadata": {},
   "outputs": [],
   "source": [
    "s1 = set(l)"
   ]
  },
  {
   "cell_type": "code",
   "execution_count": 107,
   "id": "bce6e1bb",
   "metadata": {},
   "outputs": [],
   "source": [
    "l = [345,546545,546545,6546,4556,645,6]"
   ]
  },
  {
   "cell_type": "code",
   "execution_count": 108,
   "id": "f86a2d7e",
   "metadata": {},
   "outputs": [
    {
     "data": {
      "text/plain": [
       "{34, 45, 4545, 4554454554, 545, 56, 67, 78, 'kumar', 'prateek'}"
      ]
     },
     "execution_count": 108,
     "metadata": {},
     "output_type": "execute_result"
    }
   ],
   "source": [
    "s1"
   ]
  },
  {
   "cell_type": "code",
   "execution_count": 109,
   "id": "f5f51043",
   "metadata": {},
   "outputs": [
    {
     "ename": "TypeError",
     "evalue": "unsupported operand type(s) for +: 'set' and 'set'",
     "output_type": "error",
     "traceback": [
      "\u001b[1;31m---------------------------------------------------------------------------\u001b[0m",
      "\u001b[1;31mTypeError\u001b[0m                                 Traceback (most recent call last)",
      "\u001b[1;32mC:\\Users\\Public\\Documents\\iSkysoft\\CreatorTemp/ipykernel_12092/2184606050.py\u001b[0m in \u001b[0;36m<module>\u001b[1;34m\u001b[0m\n\u001b[1;32m----> 1\u001b[1;33m \u001b[0ms\u001b[0m \u001b[1;33m+\u001b[0m \u001b[0ms1\u001b[0m\u001b[1;33m\u001b[0m\u001b[1;33m\u001b[0m\u001b[0m\n\u001b[0m",
      "\u001b[1;31mTypeError\u001b[0m: unsupported operand type(s) for +: 'set' and 'set'"
     ]
    }
   ],
   "source": [
    "s + s1"
   ]
  },
  {
   "cell_type": "code",
   "execution_count": 110,
   "id": "7f3f3ad0",
   "metadata": {},
   "outputs": [
    {
     "ename": "TypeError",
     "evalue": "unsupported operand type(s) for *: 'set' and 'int'",
     "output_type": "error",
     "traceback": [
      "\u001b[1;31m---------------------------------------------------------------------------\u001b[0m",
      "\u001b[1;31mTypeError\u001b[0m                                 Traceback (most recent call last)",
      "\u001b[1;32mC:\\Users\\Public\\Documents\\iSkysoft\\CreatorTemp/ipykernel_12092/1903456257.py\u001b[0m in \u001b[0;36m<module>\u001b[1;34m\u001b[0m\n\u001b[1;32m----> 1\u001b[1;33m \u001b[0ms\u001b[0m \u001b[1;33m*\u001b[0m \u001b[1;36m4\u001b[0m\u001b[1;33m\u001b[0m\u001b[1;33m\u001b[0m\u001b[0m\n\u001b[0m",
      "\u001b[1;31mTypeError\u001b[0m: unsupported operand type(s) for *: 'set' and 'int'"
     ]
    }
   ],
   "source": [
    "s * 4"
   ]
  },
  {
   "cell_type": "code",
   "execution_count": 111,
   "id": "4088ba7f",
   "metadata": {},
   "outputs": [
    {
     "data": {
      "text/plain": [
       "{234, 345, 'fggfg', 'wer'}"
      ]
     },
     "execution_count": 111,
     "metadata": {},
     "output_type": "execute_result"
    }
   ],
   "source": [
    "s "
   ]
  },
  {
   "cell_type": "code",
   "execution_count": 112,
   "id": "0bf85176",
   "metadata": {},
   "outputs": [
    {
     "data": {
      "text/plain": [
       "[345, 'fggfg', 234, 'wer']"
      ]
     },
     "execution_count": 112,
     "metadata": {},
     "output_type": "execute_result"
    }
   ],
   "source": [
    "list(s)"
   ]
  },
  {
   "cell_type": "code",
   "execution_count": 113,
   "id": "e85a0ca3",
   "metadata": {},
   "outputs": [],
   "source": [
    "l4 = list(s)"
   ]
  },
  {
   "cell_type": "code",
   "execution_count": 114,
   "id": "8bb37905",
   "metadata": {},
   "outputs": [
    {
     "data": {
      "text/plain": [
       "[345, 'fggfg', 234, 'wer']"
      ]
     },
     "execution_count": 114,
     "metadata": {},
     "output_type": "execute_result"
    }
   ],
   "source": [
    "l4"
   ]
  },
  {
   "cell_type": "code",
   "execution_count": 115,
   "id": "583eccc1",
   "metadata": {},
   "outputs": [],
   "source": [
    "l4.append(345)"
   ]
  },
  {
   "cell_type": "code",
   "execution_count": 116,
   "id": "3c64a532",
   "metadata": {},
   "outputs": [
    {
     "data": {
      "text/plain": [
       "[345, 'fggfg', 234, 'wer', 345]"
      ]
     },
     "execution_count": 116,
     "metadata": {},
     "output_type": "execute_result"
    }
   ],
   "source": [
    "l4                    "
   ]
  },
  {
   "cell_type": "code",
   "execution_count": 117,
   "id": "9c8b9810",
   "metadata": {},
   "outputs": [
    {
     "data": {
      "text/plain": [
       "(345, 'fggfg', 234, 'wer')"
      ]
     },
     "execution_count": 117,
     "metadata": {},
     "output_type": "execute_result"
    }
   ],
   "source": [
    "tuple(s)                   #convert tuple into a set"
   ]
  },
  {
   "cell_type": "code",
   "execution_count": 118,
   "id": "51c82172",
   "metadata": {},
   "outputs": [],
   "source": [
    "t4 = tuple(s)           "
   ]
  },
  {
   "cell_type": "code",
   "execution_count": 119,
   "id": "2c76e4f5",
   "metadata": {},
   "outputs": [
    {
     "data": {
      "text/plain": [
       "{234, 345, 'fggfg', 'wer'}"
      ]
     },
     "execution_count": 119,
     "metadata": {},
     "output_type": "execute_result"
    }
   ],
   "source": [
    "set(t4)     #set to tuples       "
   ]
  },
  {
   "cell_type": "code",
   "execution_count": null,
   "id": "0c83c17f",
   "metadata": {},
   "outputs": [],
   "source": []
  },
  {
   "cell_type": "markdown",
   "id": "f403f636",
   "metadata": {},
   "source": [
    "# Dictionary"
   ]
  },
  {
   "cell_type": "code",
   "execution_count": 120,
   "id": "142fcb70",
   "metadata": {},
   "outputs": [],
   "source": [
    "x = {}"
   ]
  },
  {
   "cell_type": "code",
   "execution_count": 121,
   "id": "4d1937f3",
   "metadata": {},
   "outputs": [
    {
     "data": {
      "text/plain": [
       "dict"
      ]
     },
     "execution_count": 121,
     "metadata": {},
     "output_type": "execute_result"
    }
   ],
   "source": [
    "type(x)"
   ]
  },
  {
   "cell_type": "code",
   "execution_count": 122,
   "id": "0995754a",
   "metadata": {},
   "outputs": [],
   "source": [
    "x1 = {34,56}"
   ]
  },
  {
   "cell_type": "code",
   "execution_count": 123,
   "id": "b8327672",
   "metadata": {},
   "outputs": [
    {
     "data": {
      "text/plain": [
       "set"
      ]
     },
     "execution_count": 123,
     "metadata": {},
     "output_type": "execute_result"
    }
   ],
   "source": [
    "type(x1)"
   ]
  },
  {
   "cell_type": "code",
   "execution_count": 124,
   "id": "0af6e5ba",
   "metadata": {},
   "outputs": [],
   "source": [
    "x = {\"name \" :\"prateek\" , \"age\": 3455}"
   ]
  },
  {
   "cell_type": "code",
   "execution_count": 125,
   "id": "9f77b979",
   "metadata": {},
   "outputs": [
    {
     "data": {
      "text/plain": [
       "dict"
      ]
     },
     "execution_count": 125,
     "metadata": {},
     "output_type": "execute_result"
    }
   ],
   "source": [
    "type(x)"
   ]
  },
  {
   "cell_type": "code",
   "execution_count": 126,
   "id": "052eae6a",
   "metadata": {},
   "outputs": [],
   "source": [
    "x1 = {\"name \" :\"prateek\" , \"age\": 3455 ,True : \"fsdfs\" , \"key\" : False , 34554 : 456 , \"sdffds\" : 5435}"
   ]
  },
  {
   "cell_type": "code",
   "execution_count": 127,
   "id": "9e358172",
   "metadata": {},
   "outputs": [
    {
     "data": {
      "text/plain": [
       "{'name ': 'prateek',\n",
       " 'age': 3455,\n",
       " True: 'fsdfs',\n",
       " 'key': False,\n",
       " 34554: 456,\n",
       " 'sdffds': 5435}"
      ]
     },
     "execution_count": 127,
     "metadata": {},
     "output_type": "execute_result"
    }
   ],
   "source": [
    "x1                     #not working like %,_ these kind of symbol"
   ]
  },
  {
   "cell_type": "code",
   "execution_count": 128,
   "id": "809a6393",
   "metadata": {},
   "outputs": [],
   "source": [
    "x1 = {\"name \" :\"prateek\" , \"age\": 3455 ,True : \"fsdfs\" , \"key\" : False , 34554:456 , \"sdffds\" : [34,45,456,54,545]}"
   ]
  },
  {
   "cell_type": "code",
   "execution_count": 129,
   "id": "8ecb5425",
   "metadata": {},
   "outputs": [
    {
     "data": {
      "text/plain": [
       "{'name ': 'prateek',\n",
       " 'age': 3455,\n",
       " True: 'fsdfs',\n",
       " 'key': False,\n",
       " 34554: 456,\n",
       " 'sdffds': [34, 45, 456, 54, 545]}"
      ]
     },
     "execution_count": 129,
     "metadata": {},
     "output_type": "execute_result"
    }
   ],
   "source": [
    "x1         #you have to stored collection"
   ]
  },
  {
   "cell_type": "code",
   "execution_count": 130,
   "id": "b887ddc9",
   "metadata": {},
   "outputs": [],
   "source": [
    "x1 = {\"name \" :\"prateek\" , \"age\": 3455 ,True : \"fsdfs\" , \"key\" : False , 34554:(45,45,45,45) , \"sdffds\" : [34,45,456,54,545]}"
   ]
  },
  {
   "cell_type": "code",
   "execution_count": 131,
   "id": "16f7fd9f",
   "metadata": {},
   "outputs": [
    {
     "data": {
      "text/plain": [
       "{'name ': 'prateek',\n",
       " 'age': 3455,\n",
       " True: 'fsdfs',\n",
       " 'key': False,\n",
       " 34554: (45, 45, 45, 45),\n",
       " 'sdffds': [34, 45, 456, 54, 545]}"
      ]
     },
     "execution_count": 131,
     "metadata": {},
     "output_type": "execute_result"
    }
   ],
   "source": [
    "x1               #tuple you have to created "
   ]
  },
  {
   "cell_type": "code",
   "execution_count": 132,
   "id": "7f7e30ce",
   "metadata": {},
   "outputs": [],
   "source": [
    "x1 = {\"name \" :\"prateek\" , \"age\": 3455 ,True : {45,3454,454,54} , \"key\" : False , 34554:456 , \"sdffds\" : [34,45,456,54,545]}"
   ]
  },
  {
   "cell_type": "code",
   "execution_count": 133,
   "id": "b6e2ae87",
   "metadata": {},
   "outputs": [
    {
     "data": {
      "text/plain": [
       "{'name ': 'prateek',\n",
       " 'age': 3455,\n",
       " True: {45, 54, 454, 3454},\n",
       " 'key': False,\n",
       " 34554: 456,\n",
       " 'sdffds': [34, 45, 456, 54, 545]}"
      ]
     },
     "execution_count": 133,
     "metadata": {},
     "output_type": "execute_result"
    }
   ],
   "source": [
    "x1                               #value wise you have created "
   ]
  },
  {
   "cell_type": "code",
   "execution_count": 134,
   "id": "03b2d6e1",
   "metadata": {},
   "outputs": [],
   "source": [
    "'x2 = {\"name \" :{\"k1\":\"wer\",\"k4\" :[345,534535,534,]} , \"age\": 3455 ,True : {45,3454,454,54} , \"key\" : False , 34554:456 , \"sdffds\" : [34,45,456,54,545]}'"
   ]
  },
  {
   "cell_type": "code",
   "execution_count": 135,
   "id": "904424b8",
   "metadata": {},
   "outputs": [
    {
     "data": {
      "text/plain": [
       "{'name ': {'k1': 'wer', 'k4': [345, 534535, 534]},\n",
       " 'age': 3455,\n",
       " True: {45, 54, 454, 3454},\n",
       " 'key': False,\n",
       " 34554: 456,\n",
       " 'sdffds': [34, 45, 456, 54, 545]}"
      ]
     },
     "execution_count": 135,
     "metadata": {},
     "output_type": "execute_result"
    }
   ],
   "source": [
    "x2"
   ]
  },
  {
   "cell_type": "code",
   "execution_count": 136,
   "id": "93a2bc30",
   "metadata": {},
   "outputs": [],
   "source": [
    "x3 = {5:\"wer\",'k4' :[345,534535,534,]}"
   ]
  },
  {
   "cell_type": "code",
   "execution_count": 137,
   "id": "de9d3c04",
   "metadata": {},
   "outputs": [
    {
     "data": {
      "text/plain": [
       "{5: 'wer', 'k4': [345, 534535, 534]}"
      ]
     },
     "execution_count": 137,
     "metadata": {},
     "output_type": "execute_result"
    }
   ],
   "source": [
    "x3"
   ]
  },
  {
   "cell_type": "code",
   "execution_count": 138,
   "id": "f4975c66",
   "metadata": {},
   "outputs": [
    {
     "data": {
      "text/plain": [
       "4"
      ]
     },
     "execution_count": 138,
     "metadata": {},
     "output_type": "execute_result"
    }
   ],
   "source": [
    "l = [34,45,4,54]\n",
    "l[2]"
   ]
  },
  {
   "cell_type": "code",
   "execution_count": 139,
   "id": "e035208f",
   "metadata": {},
   "outputs": [
    {
     "data": {
      "text/plain": [
       "False"
      ]
     },
     "execution_count": 139,
     "metadata": {},
     "output_type": "execute_result"
    }
   ],
   "source": [
    "x2[\"key\"]"
   ]
  },
  {
   "cell_type": "code",
   "execution_count": 140,
   "id": "d333fc5d",
   "metadata": {},
   "outputs": [
    {
     "data": {
      "text/plain": [
       "[34, 45, 456, 54, 545]"
      ]
     },
     "execution_count": 140,
     "metadata": {},
     "output_type": "execute_result"
    }
   ],
   "source": [
    "x2['sdffds']"
   ]
  },
  {
   "cell_type": "code",
   "execution_count": 141,
   "id": "f4b02053",
   "metadata": {},
   "outputs": [
    {
     "data": {
      "text/plain": [
       "list"
      ]
     },
     "execution_count": 141,
     "metadata": {},
     "output_type": "execute_result"
    }
   ],
   "source": [
    "type(x2['sdffds'])"
   ]
  },
  {
   "cell_type": "code",
   "execution_count": 142,
   "id": "248fc8ac",
   "metadata": {},
   "outputs": [
    {
     "data": {
      "text/plain": [
       "54"
      ]
     },
     "execution_count": 142,
     "metadata": {},
     "output_type": "execute_result"
    }
   ],
   "source": [
    "x2['sdffds'][3]       #you have to extract the data number wise"
   ]
  },
  {
   "cell_type": "code",
   "execution_count": 143,
   "id": "cccabd41",
   "metadata": {},
   "outputs": [
    {
     "data": {
      "text/plain": [
       "{'k1': 'wer', 'k4': [345, 534535, 534]}"
      ]
     },
     "execution_count": 143,
     "metadata": {},
     "output_type": "execute_result"
    }
   ],
   "source": [
    "x2[\"name \"]"
   ]
  },
  {
   "cell_type": "code",
   "execution_count": 144,
   "id": "03518ba0",
   "metadata": {},
   "outputs": [
    {
     "data": {
      "text/plain": [
       "dict"
      ]
     },
     "execution_count": 144,
     "metadata": {},
     "output_type": "execute_result"
    }
   ],
   "source": [
    "type(x2[\"name \"])"
   ]
  },
  {
   "cell_type": "code",
   "execution_count": 145,
   "id": "da667cc4",
   "metadata": {},
   "outputs": [
    {
     "data": {
      "text/plain": [
       "[345, 534535, 534]"
      ]
     },
     "execution_count": 145,
     "metadata": {},
     "output_type": "execute_result"
    }
   ],
   "source": [
    "x2[\"name \"]['k4']        #you have to extract the data like position wise"
   ]
  },
  {
   "cell_type": "code",
   "execution_count": 146,
   "id": "3c8067f7",
   "metadata": {},
   "outputs": [
    {
     "data": {
      "text/plain": [
       "534"
      ]
     },
     "execution_count": 146,
     "metadata": {},
     "output_type": "execute_result"
    }
   ],
   "source": [
    "x2[\"name \"]['k4'][2]        #you have to extract the data number wise"
   ]
  },
  {
   "cell_type": "code",
   "execution_count": 147,
   "id": "b8368b61",
   "metadata": {},
   "outputs": [],
   "source": [
    "x3 = {5:\"wer\",'k4' :[345,534535,534,]}"
   ]
  },
  {
   "cell_type": "code",
   "execution_count": 148,
   "id": "9ac4a136",
   "metadata": {},
   "outputs": [],
   "source": [
    "x4 = {\"k4\" : \"fsdfs\"}"
   ]
  },
  {
   "cell_type": "code",
   "execution_count": 149,
   "id": "93896730",
   "metadata": {},
   "outputs": [
    {
     "ename": "TypeError",
     "evalue": "unsupported operand type(s) for +: 'dict' and 'dict'",
     "output_type": "error",
     "traceback": [
      "\u001b[1;31m---------------------------------------------------------------------------\u001b[0m",
      "\u001b[1;31mTypeError\u001b[0m                                 Traceback (most recent call last)",
      "\u001b[1;32mC:\\Users\\Public\\Documents\\iSkysoft\\CreatorTemp/ipykernel_12092/1011359099.py\u001b[0m in \u001b[0;36m<module>\u001b[1;34m\u001b[0m\n\u001b[1;32m----> 1\u001b[1;33m \u001b[0mx3\u001b[0m\u001b[1;33m+\u001b[0m\u001b[0mx4\u001b[0m\u001b[1;33m\u001b[0m\u001b[1;33m\u001b[0m\u001b[0m\n\u001b[0m",
      "\u001b[1;31mTypeError\u001b[0m: unsupported operand type(s) for +: 'dict' and 'dict'"
     ]
    }
   ],
   "source": [
    "x3+x4"
   ]
  },
  {
   "cell_type": "code",
   "execution_count": 150,
   "id": "06668a0b",
   "metadata": {},
   "outputs": [
    {
     "ename": "TypeError",
     "evalue": "unsupported operand type(s) for *: 'dict' and 'int'",
     "output_type": "error",
     "traceback": [
      "\u001b[1;31m---------------------------------------------------------------------------\u001b[0m",
      "\u001b[1;31mTypeError\u001b[0m                                 Traceback (most recent call last)",
      "\u001b[1;32mC:\\Users\\Public\\Documents\\iSkysoft\\CreatorTemp/ipykernel_12092/1377237647.py\u001b[0m in \u001b[0;36m<module>\u001b[1;34m\u001b[0m\n\u001b[1;32m----> 1\u001b[1;33m \u001b[0mx3\u001b[0m \u001b[1;33m*\u001b[0m \u001b[1;36m3\u001b[0m\u001b[1;33m\u001b[0m\u001b[1;33m\u001b[0m\u001b[0m\n\u001b[0m",
      "\u001b[1;31mTypeError\u001b[0m: unsupported operand type(s) for *: 'dict' and 'int'"
     ]
    }
   ],
   "source": [
    "x3 * 3 "
   ]
  },
  {
   "cell_type": "code",
   "execution_count": 151,
   "id": "30f74dd1",
   "metadata": {},
   "outputs": [
    {
     "data": {
      "text/plain": [
       "{5: 'wer', 'k4': [345, 534535, 534]}"
      ]
     },
     "execution_count": 151,
     "metadata": {},
     "output_type": "execute_result"
    }
   ],
   "source": [
    "x3"
   ]
  },
  {
   "cell_type": "code",
   "execution_count": 152,
   "id": "6b7b0989",
   "metadata": {},
   "outputs": [],
   "source": [
    "x3[\"k4\"] = \"prateek\"     #you have to replace the assignment for other value "
   ]
  },
  {
   "cell_type": "code",
   "execution_count": 153,
   "id": "b79909b3",
   "metadata": {},
   "outputs": [
    {
     "data": {
      "text/plain": [
       "{5: 'wer', 'k4': 'prateek'}"
      ]
     },
     "execution_count": 153,
     "metadata": {},
     "output_type": "execute_result"
    }
   ],
   "source": [
    "x3"
   ]
  },
  {
   "cell_type": "code",
   "execution_count": 154,
   "id": "e3a9232f",
   "metadata": {},
   "outputs": [],
   "source": [
    "x3[\"k4\"] = 456           #replace the name as number "
   ]
  },
  {
   "cell_type": "code",
   "execution_count": 155,
   "id": "10de5193",
   "metadata": {},
   "outputs": [
    {
     "data": {
      "text/plain": [
       "{5: 'wer', 'k4': 456}"
      ]
     },
     "execution_count": 155,
     "metadata": {},
     "output_type": "execute_result"
    }
   ],
   "source": [
    "x3"
   ]
  },
  {
   "cell_type": "code",
   "execution_count": 156,
   "id": "354a6d92",
   "metadata": {},
   "outputs": [],
   "source": [
    "x3[\"k4\"] -= 10            #substract the 456 - 10 "
   ]
  },
  {
   "cell_type": "code",
   "execution_count": 157,
   "id": "bce340e8",
   "metadata": {},
   "outputs": [
    {
     "data": {
      "text/plain": [
       "{5: 'wer', 'k4': 446}"
      ]
     },
     "execution_count": 157,
     "metadata": {},
     "output_type": "execute_result"
    }
   ],
   "source": [
    "x3"
   ]
  },
  {
   "cell_type": "code",
   "execution_count": 158,
   "id": "44628716",
   "metadata": {},
   "outputs": [],
   "source": [
    "x3[\"k4\"] = x3[\"k4\"] - 10        #this is also a same code like substract"
   ]
  },
  {
   "cell_type": "code",
   "execution_count": 159,
   "id": "80071498",
   "metadata": {},
   "outputs": [
    {
     "data": {
      "text/plain": [
       "{5: 'wer', 'k4': 436}"
      ]
     },
     "execution_count": 159,
     "metadata": {},
     "output_type": "execute_result"
    }
   ],
   "source": [
    "x3"
   ]
  },
  {
   "cell_type": "code",
   "execution_count": 160,
   "id": "fa4abd45",
   "metadata": {},
   "outputs": [
    {
     "data": {
      "text/plain": [
       "{5: 'wer', 'k4': 436}"
      ]
     },
     "execution_count": 160,
     "metadata": {},
     "output_type": "execute_result"
    }
   ],
   "source": [
    "x3"
   ]
  },
  {
   "cell_type": "code",
   "execution_count": 161,
   "id": "11be5698",
   "metadata": {},
   "outputs": [
    {
     "data": {
      "text/plain": [
       "dict_keys([5, 'k4'])"
      ]
     },
     "execution_count": 161,
     "metadata": {},
     "output_type": "execute_result"
    }
   ],
   "source": [
    "x3.keys()                       #fine the keys "
   ]
  },
  {
   "cell_type": "code",
   "execution_count": 162,
   "id": "0ce55a00",
   "metadata": {},
   "outputs": [
    {
     "data": {
      "text/plain": [
       "True"
      ]
     },
     "execution_count": 162,
     "metadata": {},
     "output_type": "execute_result"
    }
   ],
   "source": [
    "'k4' in x3.keys()"
   ]
  },
  {
   "cell_type": "code",
   "execution_count": 163,
   "id": "abf6cf2e",
   "metadata": {},
   "outputs": [
    {
     "ename": "IndentationError",
     "evalue": "unexpected indent (CreatorTemp/ipykernel_12092/2963633290.py, line 2)",
     "output_type": "error",
     "traceback": [
      "\u001b[1;36m  File \u001b[1;32m\"C:\\Users\\Public\\Documents\\iSkysoft\\CreatorTemp/ipykernel_12092/2963633290.py\"\u001b[1;36m, line \u001b[1;32m2\u001b[0m\n\u001b[1;33m    print(i)\u001b[0m\n\u001b[1;37m    ^\u001b[0m\n\u001b[1;31mIndentationError\u001b[0m\u001b[1;31m:\u001b[0m unexpected indent\n"
     ]
    }
   ],
   "source": [
    "#for i in x3:\n",
    "    print(i)"
   ]
  },
  {
   "cell_type": "code",
   "execution_count": 164,
   "id": "79c3ac92",
   "metadata": {},
   "outputs": [
    {
     "data": {
      "text/plain": [
       "{5: 'wer', 'k4': 436}"
      ]
     },
     "execution_count": 164,
     "metadata": {},
     "output_type": "execute_result"
    }
   ],
   "source": [
    "x3"
   ]
  },
  {
   "cell_type": "code",
   "execution_count": 165,
   "id": "fa8d81d2",
   "metadata": {},
   "outputs": [
    {
     "ename": "IndentationError",
     "evalue": "unexpected indent (CreatorTemp/ipykernel_12092/2392603163.py, line 2)",
     "output_type": "error",
     "traceback": [
      "\u001b[1;36m  File \u001b[1;32m\"C:\\Users\\Public\\Documents\\iSkysoft\\CreatorTemp/ipykernel_12092/2392603163.py\"\u001b[1;36m, line \u001b[1;32m2\u001b[0m\n\u001b[1;33m    print(x3[i])\u001b[0m\n\u001b[1;37m    ^\u001b[0m\n\u001b[1;31mIndentationError\u001b[0m\u001b[1;31m:\u001b[0m unexpected indent\n"
     ]
    }
   ],
   "source": [
    "#for i in x3.keys() :\n",
    "    print(x3[i])"
   ]
  },
  {
   "cell_type": "code",
   "execution_count": 166,
   "id": "3cd7ea0a",
   "metadata": {},
   "outputs": [
    {
     "data": {
      "text/plain": [
       "{'name ': {'k1': 'wer', 'k4': [345, 534535, 534]},\n",
       " 'age': 3455,\n",
       " True: {45, 54, 454, 3454},\n",
       " 'key': False,\n",
       " 34554: 456,\n",
       " 'sdffds': [34, 45, 456, 54, 545]}"
      ]
     },
     "execution_count": 166,
     "metadata": {},
     "output_type": "execute_result"
    }
   ],
   "source": [
    "x2"
   ]
  },
  {
   "cell_type": "code",
   "execution_count": 167,
   "id": "1082f708",
   "metadata": {},
   "outputs": [
    {
     "data": {
      "text/plain": [
       "dict_keys(['name ', 'age', True, 'key', 34554, 'sdffds'])"
      ]
     },
     "execution_count": 167,
     "metadata": {},
     "output_type": "execute_result"
    }
   ],
   "source": [
    "x2.keys()"
   ]
  },
  {
   "cell_type": "code",
   "execution_count": 168,
   "id": "16b20680",
   "metadata": {},
   "outputs": [
    {
     "name": "stdout",
     "output_type": "stream",
     "text": [
      "{'k1': 'wer', 'k4': [345, 534535, 534]}\n",
      "3455\n",
      "{3454, 45, 454, 54}\n",
      "False\n",
      "456\n",
      "[34, 45, 456, 54, 545]\n"
     ]
    }
   ],
   "source": [
    "for i in x2.keys() :\n",
    "    print(x2[i])"
   ]
  },
  {
   "cell_type": "code",
   "execution_count": 169,
   "id": "f9f9094c",
   "metadata": {},
   "outputs": [
    {
     "name": "stdout",
     "output_type": "stream",
     "text": [
      "<class 'dict'>\n",
      "<class 'int'>\n",
      "<class 'set'>\n",
      "<class 'bool'>\n",
      "<class 'int'>\n",
      "<class 'list'>\n"
     ]
    }
   ],
   "source": [
    "for i in x2.keys() :\n",
    "    print(type(x2[i]))"
   ]
  },
  {
   "cell_type": "code",
   "execution_count": 170,
   "id": "3a47d9c7",
   "metadata": {},
   "outputs": [
    {
     "data": {
      "text/plain": [
       "dict_items([('name ', {'k1': 'wer', 'k4': [345, 534535, 534]}), ('age', 3455), (True, {3454, 45, 454, 54}), ('key', False), (34554, 456), ('sdffds', [34, 45, 456, 54, 545])])"
      ]
     },
     "execution_count": 170,
     "metadata": {},
     "output_type": "execute_result"
    }
   ],
   "source": [
    "x2.items()"
   ]
  },
  {
   "cell_type": "code",
   "execution_count": 171,
   "id": "f46da287",
   "metadata": {},
   "outputs": [
    {
     "name": "stdout",
     "output_type": "stream",
     "text": [
      "('name ', {'k1': 'wer', 'k4': [345, 534535, 534]})\n",
      "('age', 3455)\n",
      "(True, {3454, 45, 454, 54})\n",
      "('key', False)\n",
      "(34554, 456)\n",
      "('sdffds', [34, 45, 456, 54, 545])\n"
     ]
    }
   ],
   "source": [
    "for i in x2.items():\n",
    "    print(i)"
   ]
  },
  {
   "cell_type": "code",
   "execution_count": 172,
   "id": "63fbf622",
   "metadata": {},
   "outputs": [
    {
     "name": "stdout",
     "output_type": "stream",
     "text": [
      "name \n",
      "age\n",
      "True\n",
      "key\n",
      "34554\n",
      "sdffds\n"
     ]
    }
   ],
   "source": [
    "for i in x2.items():\n",
    "    print(i[0])                  #all the key extract out of this one"
   ]
  },
  {
   "cell_type": "code",
   "execution_count": 173,
   "id": "0d182e4e",
   "metadata": {},
   "outputs": [],
   "source": [
    "x5 = {(35,56,56) : \"fdddsggd\"}"
   ]
  },
  {
   "cell_type": "code",
   "execution_count": 174,
   "id": "bd830785",
   "metadata": {},
   "outputs": [
    {
     "data": {
      "text/plain": [
       "{(35, 56, 56): 'fdddsggd'}"
      ]
     },
     "execution_count": 174,
     "metadata": {},
     "output_type": "execute_result"
    }
   ],
   "source": [
    "x5"
   ]
  },
  {
   "cell_type": "code",
   "execution_count": 175,
   "id": "daa620a6",
   "metadata": {},
   "outputs": [
    {
     "data": {
      "text/plain": [
       "'fdddsggd'"
      ]
     },
     "execution_count": 175,
     "metadata": {},
     "output_type": "execute_result"
    }
   ],
   "source": [
    "x5[(35,56,56)]       #excess the extractive data "
   ]
  },
  {
   "cell_type": "code",
   "execution_count": 176,
   "id": "9f8f7015",
   "metadata": {},
   "outputs": [
    {
     "data": {
      "text/plain": [
       "{'name ': {'k1': 'wer', 'k4': [345, 534535, 534]},\n",
       " 'age': 3455,\n",
       " True: {45, 54, 454, 3454},\n",
       " 'key': False,\n",
       " 34554: 456,\n",
       " 'sdffds': [34, 45, 456, 54, 545]}"
      ]
     },
     "execution_count": 176,
     "metadata": {},
     "output_type": "execute_result"
    }
   ],
   "source": [
    "x2"
   ]
  },
  {
   "cell_type": "code",
   "execution_count": 177,
   "id": "bf1b785d",
   "metadata": {},
   "outputs": [
    {
     "data": {
      "text/plain": [
       "6"
      ]
     },
     "execution_count": 177,
     "metadata": {},
     "output_type": "execute_result"
    }
   ],
   "source": [
    "len(x2)"
   ]
  },
  {
   "cell_type": "code",
   "execution_count": 178,
   "id": "e8c8368f",
   "metadata": {},
   "outputs": [],
   "source": [
    "#(0) take input as paragraph by using input function.\n",
    "\n",
    "#(1) convert all of this input into list of words.\n",
    "#(2) remove all the duplicate elements from your list.\n",
    "#(3) use above distince elements as a key for dictionay and assign your name as a value of all the key for dictionary.\n",
    "#(4) try to print tuple of all the values \n",
    "#(5) try to print list of all the key."
   ]
  },
  {
   "cell_type": "code",
   "execution_count": null,
   "id": "db94bac5",
   "metadata": {},
   "outputs": [],
   "source": [
    "paragraph = input(\"Enter your value\")\n",
    "l1 = paragraph(\"enter yoy value\")\n",
    "s1 = set(l1)\n",
    "dict1 = dict.keys(s1, 'prateek') \n",
    "t1 = tuple(dict1.key())\n",
    "l2 = list(dict1.values())"
   ]
  },
  {
   "cell_type": "code",
   "execution_count": 198,
   "id": "70726367",
   "metadata": {},
   "outputs": [],
   "source": [
    "d = {\"compant\" :\"ineuron\",\"course\":\"full stake data science\" , \"year\": 2021}"
   ]
  },
  {
   "cell_type": "code",
   "execution_count": 204,
   "id": "990d68e6",
   "metadata": {},
   "outputs": [
    {
     "name": "stdout",
     "output_type": "stream",
     "text": [
      " print a key  :  compant  ;  value wise :  ineuron\n",
      " print a key  :  course  ;  value wise :  full stake data science\n",
      " print a key  :  year  ;  value wise :  2021\n"
     ]
    }
   ],
   "source": [
    "for i in d:\n",
    "    print(\" print a key  : \",i , \" ; \", \"value wise : \" , d[i])"
   ]
  },
  {
   "cell_type": "code",
   "execution_count": 205,
   "id": "f6a3fdce",
   "metadata": {},
   "outputs": [
    {
     "data": {
      "text/plain": [
       "True"
      ]
     },
     "execution_count": 205,
     "metadata": {},
     "output_type": "execute_result"
    }
   ],
   "source": [
    "\"course\" in d"
   ]
  },
  {
   "cell_type": "code",
   "execution_count": 206,
   "id": "7a700791",
   "metadata": {},
   "outputs": [],
   "source": [
    "for i in d :\n",
    "    if i == 'year':\n",
    "        if d[i] > 2021:\n",
    "            print(\"year is fine\")\n",
    "        else:\n",
    "            d[i] = 2022"
   ]
  },
  {
   "cell_type": "code",
   "execution_count": 207,
   "id": "2aae16ec",
   "metadata": {},
   "outputs": [
    {
     "data": {
      "text/plain": [
       "{'compant': 'ineuron', 'course': 'full stake data science', 'year': 2022}"
      ]
     },
     "execution_count": 207,
     "metadata": {},
     "output_type": "execute_result"
    }
   ],
   "source": [
    "d"
   ]
  },
  {
   "cell_type": "code",
   "execution_count": 208,
   "id": "b3054791",
   "metadata": {},
   "outputs": [],
   "source": [
    "my_dict ={}\n",
    "for i in range(10):\n",
    "    my_dict[i] = i *i\n"
   ]
  },
  {
   "cell_type": "code",
   "execution_count": 209,
   "id": "25ad100d",
   "metadata": {},
   "outputs": [
    {
     "data": {
      "text/plain": [
       "{0: 0, 1: 1, 2: 4, 3: 9, 4: 16, 5: 25, 6: 36, 7: 49, 8: 64, 9: 81}"
      ]
     },
     "execution_count": 209,
     "metadata": {},
     "output_type": "execute_result"
    }
   ],
   "source": [
    "my_dict"
   ]
  },
  {
   "cell_type": "code",
   "execution_count": 211,
   "id": "1467fb31",
   "metadata": {},
   "outputs": [
    {
     "data": {
      "text/plain": [
       "{0: 0, 1: 1, 2: 4, 3: 9, 4: 16, 5: 25, 6: 36, 7: 49, 8: 64, 9: 81}"
      ]
     },
     "execution_count": 211,
     "metadata": {},
     "output_type": "execute_result"
    }
   ],
   "source": [
    "{i:i*i for i in range(10)}             #same concept "
   ]
  },
  {
   "cell_type": "code",
   "execution_count": 214,
   "id": "614e5360",
   "metadata": {},
   "outputs": [
    {
     "data": {
      "text/plain": [
       "{0: 0, 2: 4, 4: 16, 6: 36, 8: 64}"
      ]
     },
     "execution_count": 214,
     "metadata": {},
     "output_type": "execute_result"
    }
   ],
   "source": [
    "{i:i*i for i in range(0,10,2)}           #even number "
   ]
  },
  {
   "cell_type": "code",
   "execution_count": 216,
   "id": "a55fcbb5",
   "metadata": {},
   "outputs": [
    {
     "data": {
      "text/plain": [
       "{0: 0, 3: 9, 6: 36, 9: 81}"
      ]
     },
     "execution_count": 216,
     "metadata": {},
     "output_type": "execute_result"
    }
   ],
   "source": [
    "{i:i*i for i in range(0,10,3)}            #odd number"
   ]
  },
  {
   "cell_type": "code",
   "execution_count": null,
   "id": "5e6c1bde",
   "metadata": {},
   "outputs": [],
   "source": []
  }
 ],
 "metadata": {
  "kernelspec": {
   "display_name": "Python 3 (ipykernel)",
   "language": "python",
   "name": "python3"
  },
  "language_info": {
   "codemirror_mode": {
    "name": "ipython",
    "version": 3
   },
   "file_extension": ".py",
   "mimetype": "text/x-python",
   "name": "python",
   "nbconvert_exporter": "python",
   "pygments_lexer": "ipython3",
   "version": "3.9.7"
  }
 },
 "nbformat": 4,
 "nbformat_minor": 5
}
