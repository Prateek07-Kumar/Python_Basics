{
 "cells": [
  {
   "cell_type": "code",
   "execution_count": 79,
   "id": "5e14ab4d",
   "metadata": {},
   "outputs": [],
   "source": [
    "f = open(\"test1.txt\",\"w\")"
   ]
  },
  {
   "cell_type": "code",
   "execution_count": 80,
   "id": "ec5f3e76",
   "metadata": {},
   "outputs": [
    {
     "data": {
      "text/plain": [
       "41"
      ]
     },
     "execution_count": 80,
     "metadata": {},
     "output_type": "execute_result"
    }
   ],
   "source": [
    "f.write(r\"dfdfsfsffdfdfd fdggfsfsff dfdfd fdsf asf \")"
   ]
  },
  {
   "cell_type": "code",
   "execution_count": 81,
   "id": "bf5c3417",
   "metadata": {},
   "outputs": [],
   "source": [
    "f.close()"
   ]
  },
  {
   "cell_type": "code",
   "execution_count": 89,
   "id": "c4000f21",
   "metadata": {},
   "outputs": [],
   "source": [
    "f = open(\"test1.txt\")                         # you have to open your file"
   ]
  },
  {
   "cell_type": "code",
   "execution_count": 90,
   "id": "6c07b3e2",
   "metadata": {},
   "outputs": [
    {
     "data": {
      "text/plain": [
       "'dfdfsfsffdfdfd fdggfsfsff dfdfd fdsf asf \\ndshh\\nfdff\\ndf\\nfa\\nfad\\nfa\\nfdf\\naf\\na\\nf\\ndfa\\ndf'"
      ]
     },
     "execution_count": 90,
     "metadata": {},
     "output_type": "execute_result"
    }
   ],
   "source": [
    "f.read()"
   ]
  },
  {
   "cell_type": "code",
   "execution_count": 64,
   "id": "180c9751",
   "metadata": {},
   "outputs": [],
   "source": [
    "f.close()"
   ]
  },
  {
   "cell_type": "code",
   "execution_count": 91,
   "id": "c87b5fe4",
   "metadata": {},
   "outputs": [
    {
     "data": {
      "text/plain": [
       "''"
      ]
     },
     "execution_count": 91,
     "metadata": {},
     "output_type": "execute_result"
    }
   ],
   "source": [
    "f.read()              # "
   ]
  },
  {
   "cell_type": "code",
   "execution_count": 97,
   "id": "8c10e58b",
   "metadata": {},
   "outputs": [
    {
     "data": {
      "text/plain": [
       "5"
      ]
     },
     "execution_count": 97,
     "metadata": {},
     "output_type": "execute_result"
    }
   ],
   "source": [
    "f.seek(5)         # the seek start from 5 possition in test.txt                 "
   ]
  },
  {
   "cell_type": "code",
   "execution_count": 98,
   "id": "a517fe6c",
   "metadata": {},
   "outputs": [
    {
     "data": {
      "text/plain": [
       "'fsffdfdfd fdggfsfsff dfdfd fdsf asf \\ndshh\\nfdff\\ndf\\nfa\\nfad\\nfa\\nfdf\\naf\\na\\nf\\ndfa\\ndf'"
      ]
     },
     "execution_count": 98,
     "metadata": {},
     "output_type": "execute_result"
    }
   ],
   "source": [
    "f.read()"
   ]
  },
  {
   "cell_type": "code",
   "execution_count": 99,
   "id": "3a5815c7",
   "metadata": {},
   "outputs": [
    {
     "data": {
      "text/plain": [
       "''"
      ]
     },
     "execution_count": 99,
     "metadata": {},
     "output_type": "execute_result"
    }
   ],
   "source": [
    "f.read()"
   ]
  },
  {
   "cell_type": "code",
   "execution_count": 100,
   "id": "c56ab4ce",
   "metadata": {},
   "outputs": [
    {
     "data": {
      "text/plain": [
       "0"
      ]
     },
     "execution_count": 100,
     "metadata": {},
     "output_type": "execute_result"
    }
   ],
   "source": [
    "f.seek(0)"
   ]
  },
  {
   "cell_type": "code",
   "execution_count": 101,
   "id": "06ce5ffa",
   "metadata": {},
   "outputs": [
    {
     "data": {
      "text/plain": [
       "'dfdfsfsffdfdfd fdggfsfsff dfdfd fdsf asf \\ndshh\\nfdff\\ndf\\nfa\\nfad\\nfa\\nfdf\\naf\\na\\nf\\ndfa\\ndf'"
      ]
     },
     "execution_count": 101,
     "metadata": {},
     "output_type": "execute_result"
    }
   ],
   "source": [
    "f.read()"
   ]
  },
  {
   "cell_type": "code",
   "execution_count": 102,
   "id": "d3c60ab6",
   "metadata": {},
   "outputs": [],
   "source": [
    "f = open('test1.txt','r')"
   ]
  },
  {
   "cell_type": "code",
   "execution_count": 1,
   "id": "2fd795a8",
   "metadata": {},
   "outputs": [],
   "source": [
    "# f.write('dsdfdd')"
   ]
  },
  {
   "cell_type": "code",
   "execution_count": 104,
   "id": "ce66962e",
   "metadata": {},
   "outputs": [
    {
     "data": {
      "text/plain": [
       "'dfdfsfsffdfdfd fdggfsfsff dfdfd fdsf asf \\ndshh\\nfdff\\ndf\\nfa\\nfad\\nfa\\nfdf\\naf\\na\\nf\\ndfa\\ndf'"
      ]
     },
     "execution_count": 104,
     "metadata": {},
     "output_type": "execute_result"
    }
   ],
   "source": [
    "f.read()"
   ]
  },
  {
   "cell_type": "code",
   "execution_count": 105,
   "id": "1abc3dd7",
   "metadata": {},
   "outputs": [
    {
     "data": {
      "text/plain": [
       "''"
      ]
     },
     "execution_count": 105,
     "metadata": {},
     "output_type": "execute_result"
    }
   ],
   "source": [
    "f.read()"
   ]
  },
  {
   "cell_type": "code",
   "execution_count": 106,
   "id": "54a31ab1",
   "metadata": {},
   "outputs": [
    {
     "data": {
      "text/plain": [
       "0"
      ]
     },
     "execution_count": 106,
     "metadata": {},
     "output_type": "execute_result"
    }
   ],
   "source": [
    "f.seek(0)                           #"
   ]
  },
  {
   "cell_type": "code",
   "execution_count": 107,
   "id": "554aaa2c",
   "metadata": {},
   "outputs": [
    {
     "data": {
      "text/plain": [
       "'dfdfsfsffdfdfd fdggfsfsff'"
      ]
     },
     "execution_count": 107,
     "metadata": {},
     "output_type": "execute_result"
    }
   ],
   "source": [
    "f.read(25)                              # take a character in your data "
   ]
  },
  {
   "cell_type": "code",
   "execution_count": 108,
   "id": "42270379",
   "metadata": {},
   "outputs": [],
   "source": [
    "f.close()                                # file is close"
   ]
  },
  {
   "cell_type": "code",
   "execution_count": 2,
   "id": "daa1287f",
   "metadata": {},
   "outputs": [
    {
     "ename": "NameError",
     "evalue": "name 'f' is not defined",
     "output_type": "error",
     "traceback": [
      "\u001b[1;31m---------------------------------------------------------------------------\u001b[0m",
      "\u001b[1;31mNameError\u001b[0m                                 Traceback (most recent call last)",
      "\u001b[1;32mC:\\Users\\Public\\Documents\\iSkysoft\\CreatorTemp/ipykernel_9324/3059900045.py\u001b[0m in \u001b[0;36m<module>\u001b[1;34m\u001b[0m\n\u001b[1;32m----> 1\u001b[1;33m \u001b[0mf\u001b[0m\u001b[1;33m.\u001b[0m\u001b[0mread\u001b[0m\u001b[1;33m(\u001b[0m\u001b[1;33m)\u001b[0m\u001b[1;33m\u001b[0m\u001b[1;33m\u001b[0m\u001b[0m\n\u001b[0m",
      "\u001b[1;31mNameError\u001b[0m: name 'f' is not defined"
     ]
    }
   ],
   "source": [
    "f.read()"
   ]
  },
  {
   "cell_type": "code",
   "execution_count": 110,
   "id": "69d9cfca",
   "metadata": {},
   "outputs": [
    {
     "data": {
      "text/plain": [
       "<_io.TextIOWrapper name='text1.txt' mode='w' encoding='cp1252'>"
      ]
     },
     "execution_count": 110,
     "metadata": {},
     "output_type": "execute_result"
    }
   ],
   "source": [
    "open('text1.txt' , 'w')                       # the data is clean in jupyter test file"
   ]
  },
  {
   "cell_type": "code",
   "execution_count": 111,
   "id": "4bde8cad",
   "metadata": {},
   "outputs": [],
   "source": [
    "f = open('test1.txt' , 'w')"
   ]
  },
  {
   "cell_type": "code",
   "execution_count": 112,
   "id": "29a97369",
   "metadata": {},
   "outputs": [
    {
     "data": {
      "text/plain": [
       "35"
      ]
     },
     "execution_count": 112,
     "metadata": {},
     "output_type": "execute_result"
    }
   ],
   "source": [
    "f.write('fffdfdd gfgf bdkb ghfgh bjdvdh lffd' )"
   ]
  },
  {
   "cell_type": "code",
   "execution_count": 85,
   "id": "9dbf9b21",
   "metadata": {},
   "outputs": [],
   "source": [
    "f.close()"
   ]
  },
  {
   "cell_type": "code",
   "execution_count": 114,
   "id": "864dc779",
   "metadata": {},
   "outputs": [],
   "source": [
    "f = open('test1.txt' , 'a')              #you have to operate any character"
   ]
  },
  {
   "cell_type": "code",
   "execution_count": 115,
   "id": "9c37ea68",
   "metadata": {},
   "outputs": [
    {
     "data": {
      "text/plain": [
       "19"
      ]
     },
     "execution_count": 115,
     "metadata": {},
     "output_type": "execute_result"
    }
   ],
   "source": [
    "f.write('hsdfdfbfdgf fgdhgfh')"
   ]
  },
  {
   "cell_type": "code",
   "execution_count": 86,
   "id": "db644c63",
   "metadata": {},
   "outputs": [],
   "source": [
    "f.close()"
   ]
  },
  {
   "cell_type": "code",
   "execution_count": 117,
   "id": "6687f7f7",
   "metadata": {},
   "outputs": [],
   "source": [
    "f = open('test2.txt' , 'wb')"
   ]
  },
  {
   "cell_type": "code",
   "execution_count": 3,
   "id": "a4834fea",
   "metadata": {},
   "outputs": [
    {
     "ename": "NameError",
     "evalue": "name 'f' is not defined",
     "output_type": "error",
     "traceback": [
      "\u001b[1;31m---------------------------------------------------------------------------\u001b[0m",
      "\u001b[1;31mNameError\u001b[0m                                 Traceback (most recent call last)",
      "\u001b[1;32mC:\\Users\\Public\\Documents\\iSkysoft\\CreatorTemp/ipykernel_9324/4012401554.py\u001b[0m in \u001b[0;36m<module>\u001b[1;34m\u001b[0m\n\u001b[1;32m----> 1\u001b[1;33m \u001b[0mf\u001b[0m\u001b[1;33m.\u001b[0m\u001b[0mwrite\u001b[0m\u001b[1;33m(\u001b[0m\u001b[1;34m\"fdgfdgsfgdsfvhl\"\u001b[0m\u001b[1;33m)\u001b[0m\u001b[1;33m\u001b[0m\u001b[1;33m\u001b[0m\u001b[0m\n\u001b[0m",
      "\u001b[1;31mNameError\u001b[0m: name 'f' is not defined"
     ]
    }
   ],
   "source": [
    "f.write(\"fdgfdgsfgdsfvhl\")"
   ]
  },
  {
   "cell_type": "code",
   "execution_count": 119,
   "id": "152a3902",
   "metadata": {},
   "outputs": [
    {
     "data": {
      "text/plain": [
       "15"
      ]
     },
     "execution_count": 119,
     "metadata": {},
     "output_type": "execute_result"
    }
   ],
   "source": [
    "f.write(b\"fdgfdgsfgdsfvhl\")         # 'b' is a notation of binary"
   ]
  },
  {
   "cell_type": "code",
   "execution_count": 120,
   "id": "b3e79d44",
   "metadata": {},
   "outputs": [],
   "source": [
    "f.close()"
   ]
  },
  {
   "cell_type": "code",
   "execution_count": 131,
   "id": "1382ad89",
   "metadata": {},
   "outputs": [],
   "source": [
    "f = open('test2.txt' , 'rb')"
   ]
  },
  {
   "cell_type": "code",
   "execution_count": 132,
   "id": "11b63694",
   "metadata": {},
   "outputs": [
    {
     "data": {
      "text/plain": [
       "b'fdgfdgsfgdsfvhl'"
      ]
     },
     "execution_count": 132,
     "metadata": {},
     "output_type": "execute_result"
    }
   ],
   "source": [
    "f.read()"
   ]
  },
  {
   "cell_type": "code",
   "execution_count": 133,
   "id": "6c9dd994",
   "metadata": {},
   "outputs": [
    {
     "data": {
      "text/plain": [
       "2"
      ]
     },
     "execution_count": 133,
     "metadata": {},
     "output_type": "execute_result"
    }
   ],
   "source": [
    "f.seek(2)"
   ]
  },
  {
   "cell_type": "code",
   "execution_count": 134,
   "id": "c51a06e1",
   "metadata": {},
   "outputs": [
    {
     "data": {
      "text/plain": [
       "b'g'"
      ]
     },
     "execution_count": 134,
     "metadata": {},
     "output_type": "execute_result"
    }
   ],
   "source": [
    "f.read(1)"
   ]
  },
  {
   "cell_type": "code",
   "execution_count": 135,
   "id": "52ce15bf",
   "metadata": {},
   "outputs": [
    {
     "data": {
      "text/plain": [
       "b'f'"
      ]
     },
     "execution_count": 135,
     "metadata": {},
     "output_type": "execute_result"
    }
   ],
   "source": [
    "f.read(1)"
   ]
  },
  {
   "cell_type": "code",
   "execution_count": 142,
   "id": "eeba7df1",
   "metadata": {},
   "outputs": [
    {
     "data": {
      "text/plain": [
       "11"
      ]
     },
     "execution_count": 142,
     "metadata": {},
     "output_type": "execute_result"
    }
   ],
   "source": [
    "f.seek(-4 , 2)              # it is bite mode take data wise "
   ]
  },
  {
   "cell_type": "code",
   "execution_count": 145,
   "id": "9e46b9af",
   "metadata": {},
   "outputs": [],
   "source": [
    "f = open('test3.txt' , 'w')"
   ]
  },
  {
   "cell_type": "code",
   "execution_count": 147,
   "id": "2348665b",
   "metadata": {},
   "outputs": [
    {
     "data": {
      "text/plain": [
       "51"
      ]
     },
     "execution_count": 147,
     "metadata": {},
     "output_type": "execute_result"
    }
   ],
   "source": [
    "f.write('f jdghdgh fghdf hadvh hdahhad hddba dsd sdssdd dsdf')"
   ]
  },
  {
   "cell_type": "code",
   "execution_count": 148,
   "id": "82c4814a",
   "metadata": {},
   "outputs": [],
   "source": [
    "f.close()"
   ]
  },
  {
   "cell_type": "code",
   "execution_count": 152,
   "id": "ecbe4f51",
   "metadata": {},
   "outputs": [],
   "source": [
    "f = open('test3.txt' , 'r')"
   ]
  },
  {
   "cell_type": "code",
   "execution_count": 153,
   "id": "ed15e53f",
   "metadata": {},
   "outputs": [
    {
     "data": {
      "text/plain": [
       "'f jdghdgh fghdf hadvh hdahhad hddba dsd sdssdd dsdff jdghdgh fghdf hadvh hdahhad hddba dsd sdssdd dsdf\\ngsfgs\\ngfsgf\\nfgf\\ngsfg\\ng\\ngfg\\ngsf\\ngs\\ngsg\\ngs\\ngdsg\\ngg\\ngsg\\nfg\\ngsgg\\ng\\nprak'"
      ]
     },
     "execution_count": 153,
     "metadata": {},
     "output_type": "execute_result"
    }
   ],
   "source": [
    "f.read()"
   ]
  },
  {
   "cell_type": "code",
   "execution_count": 154,
   "id": "74517664",
   "metadata": {},
   "outputs": [
    {
     "data": {
      "text/plain": [
       "0"
      ]
     },
     "execution_count": 154,
     "metadata": {},
     "output_type": "execute_result"
    }
   ],
   "source": [
    "f.seek(0)"
   ]
  },
  {
   "cell_type": "code",
   "execution_count": 155,
   "id": "704fcdd3",
   "metadata": {},
   "outputs": [
    {
     "data": {
      "text/plain": [
       "'f jdghdgh fghdf hadvh hdahhad hddba dsd sdssdd dsdff jdghdgh fghdf hadvh hdahhad hddba dsd sdssdd dsdf\\n'"
      ]
     },
     "execution_count": 155,
     "metadata": {},
     "output_type": "execute_result"
    }
   ],
   "source": [
    "f.readline()                  # what you have menction in test3 they show the data "
   ]
  },
  {
   "cell_type": "code",
   "execution_count": 158,
   "id": "75bf6e93",
   "metadata": {},
   "outputs": [
    {
     "data": {
      "text/plain": [
       "'fgf\\n'"
      ]
     },
     "execution_count": 158,
     "metadata": {},
     "output_type": "execute_result"
    }
   ],
   "source": [
    "f.readline(9)           "
   ]
  },
  {
   "cell_type": "code",
   "execution_count": 159,
   "id": "76befe0a",
   "metadata": {},
   "outputs": [],
   "source": [
    "f.close()"
   ]
  },
  {
   "cell_type": "code",
   "execution_count": 1,
   "id": "c5fd764f",
   "metadata": {},
   "outputs": [],
   "source": [
    "f = open('test3.txt' , 'r')"
   ]
  },
  {
   "cell_type": "code",
   "execution_count": 2,
   "id": "19e8679a",
   "metadata": {},
   "outputs": [
    {
     "name": "stdout",
     "output_type": "stream",
     "text": [
      "f jdghdgh fghdf hadvh hdahhad hddba dsd sdssdd dsdff jdghdgh fghdf hadvh hdahhad hddba dsd sdssdd dsdf\n",
      " gsfgs\n",
      " gfsgf\n",
      " fgf\n",
      " gsfg\n",
      " g\n",
      " gfg\n",
      " gsf\n",
      " gs\n",
      " gsg\n",
      " gs\n",
      " gdsg\n",
      " gg\n",
      " gsg\n",
      " fg\n",
      " gsgg\n",
      " g\n",
      " prakdfjdjfdnccvghchhahj hghaddfjdjfdnccvghchhahj hghaddfjdjfdnccvghchhahj fdddfsdffeeefffddggddddgg fdddfsdff "
     ]
    }
   ],
   "source": [
    "for i in f:\n",
    "    print(i, end = \" \")"
   ]
  },
  {
   "cell_type": "code",
   "execution_count": 173,
   "id": "fa450b30",
   "metadata": {},
   "outputs": [],
   "source": [
    "f.close()"
   ]
  },
  {
   "cell_type": "code",
   "execution_count": 176,
   "id": "bb1cbbe1",
   "metadata": {},
   "outputs": [],
   "source": [
    "f = open('test3.txt' , 'r')"
   ]
  },
  {
   "cell_type": "code",
   "execution_count": 177,
   "id": "ac93cd63",
   "metadata": {},
   "outputs": [
    {
     "data": {
      "text/plain": [
       "['f jdghdgh fghdf hadvh hdahhad hddba dsd sdssdd dsdff jdghdgh fghdf hadvh hdahhad hddba dsd sdssdd dsdf\\n',\n",
       " 'gsfgs\\n',\n",
       " 'gfsgf\\n',\n",
       " 'fgf\\n',\n",
       " 'gsfg\\n',\n",
       " 'g\\n',\n",
       " 'gfg\\n',\n",
       " 'gsf\\n',\n",
       " 'gs\\n',\n",
       " 'gsg\\n',\n",
       " 'gs\\n',\n",
       " 'gdsg\\n',\n",
       " 'gg\\n',\n",
       " 'gsg\\n',\n",
       " 'fg\\n',\n",
       " 'gsgg\\n',\n",
       " 'g\\n',\n",
       " 'prak']"
      ]
     },
     "execution_count": 177,
     "metadata": {},
     "output_type": "execute_result"
    }
   ],
   "source": [
    "list(f)"
   ]
  },
  {
   "cell_type": "code",
   "execution_count": 197,
   "id": "4cc96a58",
   "metadata": {},
   "outputs": [],
   "source": [
    "f = open('test3.txt' , 'r+')"
   ]
  },
  {
   "cell_type": "code",
   "execution_count": 198,
   "id": "38a2b2c7",
   "metadata": {},
   "outputs": [
    {
     "data": {
      "text/plain": [
       "['f jdghdgh fghdf hadvh hdahhad hddba dsd sdssdd dsdff jdghdgh fghdf hadvh hdahhad hddba dsd sdssdd dsdf\\n',\n",
       " 'gsfgs\\n',\n",
       " 'gfsgf\\n',\n",
       " 'fgf\\n',\n",
       " 'gsfg\\n',\n",
       " 'g\\n',\n",
       " 'gfg\\n',\n",
       " 'gsf\\n',\n",
       " 'gs\\n',\n",
       " 'gsg\\n',\n",
       " 'gs\\n',\n",
       " 'gdsg\\n',\n",
       " 'gg\\n',\n",
       " 'gsg\\n',\n",
       " 'fg\\n',\n",
       " 'gsgg\\n',\n",
       " 'g\\n',\n",
       " 'prakdfjdjfdnccvghchhahj hghaddfjdjfdnccvghchhahj hghaddfjdjfdnccvghchhahj fdddfsdffeeefffddggddddgg fdddfsdff']"
      ]
     },
     "execution_count": 198,
     "metadata": {},
     "output_type": "execute_result"
    }
   ],
   "source": [
    "list(f)"
   ]
  },
  {
   "cell_type": "code",
   "execution_count": 199,
   "id": "cb313659",
   "metadata": {},
   "outputs": [
    {
     "data": {
      "text/plain": [
       "28"
      ]
     },
     "execution_count": 199,
     "metadata": {},
     "output_type": "execute_result"
    }
   ],
   "source": [
    "f.write('eeefffddggddddgg hghhjhjaaaa') "
   ]
  },
  {
   "cell_type": "code",
   "execution_count": 196,
   "id": "201bf6a8",
   "metadata": {},
   "outputs": [],
   "source": [
    "f.close()"
   ]
  },
  {
   "cell_type": "code",
   "execution_count": 26,
   "id": "c6106694",
   "metadata": {},
   "outputs": [],
   "source": [
    "f = open('test3.txt' , 'r+')"
   ]
  },
  {
   "cell_type": "code",
   "execution_count": 27,
   "id": "c0f48c1b",
   "metadata": {},
   "outputs": [],
   "source": [
    "f.writelines('dfhgd ffg sdfj jd')"
   ]
  },
  {
   "cell_type": "code",
   "execution_count": 30,
   "id": "73fc64ac",
   "metadata": {},
   "outputs": [],
   "source": [
    "f.close()"
   ]
  },
  {
   "cell_type": "code",
   "execution_count": 28,
   "id": "84c45e4d",
   "metadata": {},
   "outputs": [
    {
     "data": {
      "text/plain": [
       "210"
      ]
     },
     "execution_count": 28,
     "metadata": {},
     "output_type": "execute_result"
    }
   ],
   "source": [
    "f.seek(210)"
   ]
  },
  {
   "cell_type": "code",
   "execution_count": 31,
   "id": "497179f9",
   "metadata": {},
   "outputs": [
    {
     "ename": "ValueError",
     "evalue": "I/O operation on closed file",
     "output_type": "error",
     "traceback": [
      "\u001b[1;31m---------------------------------------------------------------------------\u001b[0m",
      "\u001b[1;31mValueError\u001b[0m                                Traceback (most recent call last)",
      "\u001b[1;32mC:\\Users\\Public\\Documents\\iSkysoft\\CreatorTemp/ipykernel_6288/2575569948.py\u001b[0m in \u001b[0;36m<module>\u001b[1;34m\u001b[0m\n\u001b[1;32m----> 1\u001b[1;33m \u001b[0mf\u001b[0m\u001b[1;33m.\u001b[0m\u001b[0mfileno\u001b[0m\u001b[1;33m(\u001b[0m\u001b[1;33m)\u001b[0m\u001b[1;33m\u001b[0m\u001b[1;33m\u001b[0m\u001b[0m\n\u001b[0m",
      "\u001b[1;31mValueError\u001b[0m: I/O operation on closed file"
     ]
    }
   ],
   "source": [
    "f.fileno()"
   ]
  },
  {
   "cell_type": "code",
   "execution_count": 39,
   "id": "32f6b17d",
   "metadata": {},
   "outputs": [],
   "source": [
    "f = open('test3.txt' , 'r+')"
   ]
  },
  {
   "cell_type": "code",
   "execution_count": 40,
   "id": "af2326bd",
   "metadata": {},
   "outputs": [
    {
     "data": {
      "text/plain": [
       "5"
      ]
     },
     "execution_count": 40,
     "metadata": {},
     "output_type": "execute_result"
    }
   ],
   "source": [
    "f.fileno()"
   ]
  },
  {
   "cell_type": "code",
   "execution_count": 41,
   "id": "f180a4ed",
   "metadata": {},
   "outputs": [
    {
     "name": "stdout",
     "output_type": "stream",
     "text": [
      "Writing test5.txt\n"
     ]
    }
   ],
   "source": [
    "%%writefile test5.txt                    # this is called command\n",
    "my name is prateek"
   ]
  },
  {
   "cell_type": "code",
   "execution_count": 2,
   "id": "ab93d398",
   "metadata": {},
   "outputs": [],
   "source": [
    "import os"
   ]
  },
  {
   "cell_type": "code",
   "execution_count": 3,
   "id": "8b3d78d0",
   "metadata": {},
   "outputs": [
    {
     "data": {
      "text/plain": [
       "'C:\\\\Users\\\\Prateek\\\\Desktop\\\\pythonprojects'"
      ]
     },
     "execution_count": 3,
     "metadata": {},
     "output_type": "execute_result"
    }
   ],
   "source": [
    "pwd()             # it is showing 'present working directory' of notebook"
   ]
  },
  {
   "cell_type": "code",
   "execution_count": 4,
   "id": "60dcf651",
   "metadata": {
    "scrolled": true
   },
   "outputs": [
    {
     "data": {
      "text/plain": [
       "'C:\\\\Users\\\\Prateek\\\\Desktop\\\\pythonprojects'"
      ]
     },
     "execution_count": 4,
     "metadata": {},
     "output_type": "execute_result"
    }
   ],
   "source": [
    "os.getcwd()"
   ]
  },
  {
   "cell_type": "code",
   "execution_count": 47,
   "id": "bf93ff11",
   "metadata": {},
   "outputs": [
    {
     "data": {
      "text/plain": [
       "['.ipynb_checkpoints',\n",
       " '1.ipynb',\n",
       " '2.ipynb',\n",
       " 'conditional & loops.ipynb',\n",
       " 'Functions, Generators File Handling.ipynb',\n",
       " 'List Manipulation.ipynb',\n",
       " 'Part - II functions, Generators File Handling.ipynb',\n",
       " 'test1.txt',\n",
       " 'test2.txt',\n",
       " 'test3.txt',\n",
       " 'test5.txt',\n",
       " 'text.txt',\n",
       " 'text1.txt',\n",
       " 'Tuple, Set Dictionary.ipynb',\n",
       " 'Untitled.ipynb',\n",
       " 'Untitled1.ipynb',\n",
       " 'Untitled2.ipynb',\n",
       " 'Untitled4.ipynb',\n",
       " 'Untitled5.ipynb',\n",
       " 'Working with Functions.ipynb',\n",
       " 'Working with Loops.ipynb',\n",
       " 'Working with Strings & Lists.ipynb']"
      ]
     },
     "execution_count": 47,
     "metadata": {},
     "output_type": "execute_result"
    }
   ],
   "source": [
    "os.listdir()                              # show you jupyter notebook files"
   ]
  },
  {
   "cell_type": "code",
   "execution_count": 5,
   "id": "ec96651c",
   "metadata": {},
   "outputs": [
    {
     "data": {
      "text/plain": [
       "['.conda',\n",
       " '.condarc',\n",
       " '.continuum',\n",
       " '.idlerc',\n",
       " '.ipynb_checkpoints',\n",
       " '.ipython',\n",
       " '.jupyter',\n",
       " '.ms-ad',\n",
       " '.python_history',\n",
       " '.spss',\n",
       " '3D Objects',\n",
       " 'anaconda3',\n",
       " 'AppData',\n",
       " 'Application Data',\n",
       " 'cd',\n",
       " 'Conditionals & Loops.ipynb',\n",
       " 'Contacts',\n",
       " 'Cookies',\n",
       " 'Desktop',\n",
       " 'Documents',\n",
       " 'Downloads',\n",
       " 'Favorites',\n",
       " 'IntelGraphicsProfiles',\n",
       " 'Links',\n",
       " 'Local Settings',\n",
       " 'MicrosoftEdgeBackups',\n",
       " 'Music',\n",
       " 'My Documents',\n",
       " 'NetHood',\n",
       " 'NTUSER.DAT',\n",
       " 'ntuser.dat.LOG1',\n",
       " 'ntuser.dat.LOG2',\n",
       " 'NTUSER.DAT{846ceaac-cc72-11eb-9093-fe6acbc26063}.TM.blf',\n",
       " 'NTUSER.DAT{846ceaac-cc72-11eb-9093-fe6acbc26063}.TMContainer00000000000000000001.regtrans-ms',\n",
       " 'NTUSER.DAT{846ceaac-cc72-11eb-9093-fe6acbc26063}.TMContainer00000000000000000002.regtrans-ms',\n",
       " 'ntuser.ini',\n",
       " 'OneDrive',\n",
       " 'Pictures',\n",
       " 'PrintHood',\n",
       " 'PycharmProjects',\n",
       " 'python',\n",
       " 'Recent',\n",
       " 'Saved Games',\n",
       " 'Searches',\n",
       " 'SendTo',\n",
       " 'Start Menu',\n",
       " 'Templates',\n",
       " 'test4.txt',\n",
       " 'Untitled.ipynb',\n",
       " 'Untitled1.ipynb',\n",
       " 'Videos',\n",
       " 'Working with Loops.ipynb']"
      ]
     },
     "execution_count": 5,
     "metadata": {},
     "output_type": "execute_result"
    }
   ],
   "source": [
    "os.listdir('C:\\\\Users\\\\Prateek')"
   ]
  },
  {
   "cell_type": "code",
   "execution_count": 66,
   "id": "865bae64",
   "metadata": {},
   "outputs": [],
   "source": [
    "os.chdir('C:\\\\Users\\\\Prateek')"
   ]
  },
  {
   "cell_type": "code",
   "execution_count": 67,
   "id": "abe21fa8",
   "metadata": {},
   "outputs": [
    {
     "data": {
      "text/plain": [
       "'C:\\\\Users\\\\Prateek'"
      ]
     },
     "execution_count": 67,
     "metadata": {},
     "output_type": "execute_result"
    }
   ],
   "source": [
    "pwd()"
   ]
  },
  {
   "cell_type": "code",
   "execution_count": 68,
   "id": "b3a0a986",
   "metadata": {},
   "outputs": [],
   "source": [
    "#os.chdir()"
   ]
  },
  {
   "cell_type": "code",
   "execution_count": 70,
   "id": "3407e3ac",
   "metadata": {},
   "outputs": [
    {
     "ename": "FileExistsError",
     "evalue": "[WinError 183] Cannot create a file when that file already exists: 'prateek'",
     "output_type": "error",
     "traceback": [
      "\u001b[1;31m---------------------------------------------------------------------------\u001b[0m",
      "\u001b[1;31mFileExistsError\u001b[0m                           Traceback (most recent call last)",
      "\u001b[1;32mC:\\Users\\Public\\Documents\\iSkysoft\\CreatorTemp/ipykernel_6288/543112253.py\u001b[0m in \u001b[0;36m<module>\u001b[1;34m\u001b[0m\n\u001b[1;32m----> 1\u001b[1;33m \u001b[0mos\u001b[0m\u001b[1;33m.\u001b[0m\u001b[0mmkdir\u001b[0m\u001b[1;33m(\u001b[0m\u001b[1;34m'prateek'\u001b[0m\u001b[1;33m)\u001b[0m\u001b[1;33m\u001b[0m\u001b[1;33m\u001b[0m\u001b[0m\n\u001b[0m",
      "\u001b[1;31mFileExistsError\u001b[0m: [WinError 183] Cannot create a file when that file already exists: 'prateek'"
     ]
    }
   ],
   "source": [
    "os.mkdir('prateek')"
   ]
  },
  {
   "cell_type": "code",
   "execution_count": 6,
   "id": "93ac53f6",
   "metadata": {},
   "outputs": [
    {
     "name": "stdout",
     "output_type": "stream",
     "text": [
      "my file is available in this dir\n",
      "fffdfdd gfgf bdkb ghfgh bjdvdh lffdhsdfdfbfdgf fgdhgfh\n"
     ]
    }
   ],
   "source": [
    "if 'test1.txt' in os.listdir():\n",
    "    print('my file is available in this dir')\n",
    "    f = open('test1.txt' , 'r+')\n",
    "    for i in f :\n",
    "        print(i)\n",
    "\n",
    "else:\n",
    "    print('no file is not avaliable in current dir')\n",
    "        "
   ]
  },
  {
   "cell_type": "code",
   "execution_count": 92,
   "id": "8518f61f",
   "metadata": {},
   "outputs": [
    {
     "ename": "FileExistsError",
     "evalue": "[WinError 183] Cannot create a file when that file already exists: 'prateek'",
     "output_type": "error",
     "traceback": [
      "\u001b[1;31m---------------------------------------------------------------------------\u001b[0m",
      "\u001b[1;31mFileExistsError\u001b[0m                           Traceback (most recent call last)",
      "\u001b[1;32mC:\\Users\\Public\\Documents\\iSkysoft\\CreatorTemp/ipykernel_6288/543112253.py\u001b[0m in \u001b[0;36m<module>\u001b[1;34m\u001b[0m\n\u001b[1;32m----> 1\u001b[1;33m \u001b[0mos\u001b[0m\u001b[1;33m.\u001b[0m\u001b[0mmkdir\u001b[0m\u001b[1;33m(\u001b[0m\u001b[1;34m'prateek'\u001b[0m\u001b[1;33m)\u001b[0m\u001b[1;33m\u001b[0m\u001b[1;33m\u001b[0m\u001b[0m\n\u001b[0m",
      "\u001b[1;31mFileExistsError\u001b[0m: [WinError 183] Cannot create a file when that file already exists: 'prateek'"
     ]
    }
   ],
   "source": [
    "os.mkdir('prateek')"
   ]
  },
  {
   "cell_type": "code",
   "execution_count": 93,
   "id": "76c3bac8",
   "metadata": {},
   "outputs": [],
   "source": [
    "if not os.path.isdir('prateek'):               # this is a false condition even false condition we can't execute this os.mkdir code\n",
    "    os.mkdir('prateek')"
   ]
  },
  {
   "cell_type": "code",
   "execution_count": 94,
   "id": "03713531",
   "metadata": {},
   "outputs": [
    {
     "ename": "FileNotFoundError",
     "evalue": "[WinError 2] The system cannot find the file specified: 'test1.txt' -> 'xyz.txt'",
     "output_type": "error",
     "traceback": [
      "\u001b[1;31m---------------------------------------------------------------------------\u001b[0m",
      "\u001b[1;31mFileNotFoundError\u001b[0m                         Traceback (most recent call last)",
      "\u001b[1;32mC:\\Users\\Public\\Documents\\iSkysoft\\CreatorTemp/ipykernel_6288/3916127714.py\u001b[0m in \u001b[0;36m<module>\u001b[1;34m\u001b[0m\n\u001b[1;32m----> 1\u001b[1;33m \u001b[0mos\u001b[0m\u001b[1;33m.\u001b[0m\u001b[0mrename\u001b[0m\u001b[1;33m(\u001b[0m\u001b[1;34m'test1.txt'\u001b[0m \u001b[1;33m,\u001b[0m \u001b[1;34m'xyz.txt'\u001b[0m\u001b[1;33m)\u001b[0m\u001b[1;33m\u001b[0m\u001b[1;33m\u001b[0m\u001b[0m\n\u001b[0m",
      "\u001b[1;31mFileNotFoundError\u001b[0m: [WinError 2] The system cannot find the file specified: 'test1.txt' -> 'xyz.txt'"
     ]
    }
   ],
   "source": [
    "os.rename('test1.txt' , 'xyz.txt')"
   ]
  },
  {
   "cell_type": "code",
   "execution_count": 97,
   "id": "b5e066f4",
   "metadata": {},
   "outputs": [
    {
     "ename": "FileNotFoundError",
     "evalue": "[Errno 2] No such file or directory: 'test1.txt'",
     "output_type": "error",
     "traceback": [
      "\u001b[1;31m---------------------------------------------------------------------------\u001b[0m",
      "\u001b[1;31mFileNotFoundError\u001b[0m                         Traceback (most recent call last)",
      "\u001b[1;32mC:\\Users\\Public\\Documents\\iSkysoft\\CreatorTemp/ipykernel_6288/803443974.py\u001b[0m in \u001b[0;36m<module>\u001b[1;34m\u001b[0m\n\u001b[1;32m----> 1\u001b[1;33m \u001b[0mf\u001b[0m \u001b[1;33m=\u001b[0m \u001b[0mopen\u001b[0m\u001b[1;33m(\u001b[0m\u001b[1;34m'test1.txt'\u001b[0m \u001b[1;33m,\u001b[0m \u001b[1;34m'r+'\u001b[0m\u001b[1;33m)\u001b[0m\u001b[1;33m\u001b[0m\u001b[1;33m\u001b[0m\u001b[0m\n\u001b[0m\u001b[0;32m      2\u001b[0m \u001b[0mf\u001b[0m\u001b[1;33m.\u001b[0m\u001b[0mclose\u001b[0m\u001b[1;33m(\u001b[0m\u001b[1;33m)\u001b[0m\u001b[1;33m\u001b[0m\u001b[1;33m\u001b[0m\u001b[0m\n",
      "\u001b[1;31mFileNotFoundError\u001b[0m: [Errno 2] No such file or directory: 'test1.txt'"
     ]
    }
   ],
   "source": [
    "f = open('test1.txt' , 'r+')\n",
    "f.close()"
   ]
  },
  {
   "cell_type": "code",
   "execution_count": 98,
   "id": "5c58aa03",
   "metadata": {},
   "outputs": [],
   "source": [
    "os.rmdir('prateek')                         # it is remove your name"
   ]
  },
  {
   "cell_type": "code",
   "execution_count": 99,
   "id": "d2ede2c9",
   "metadata": {},
   "outputs": [],
   "source": [
    "# create a directory\n",
    "# create 10 txt file and write some data in all txt at a time \n",
    "# read all the data from this dir/ file print in console \n",
    "# hold all the data in a list \n",
    "# write all the data in a new file from list \n",
    "# keeping only a new file in present directory and move rest in new directory "
   ]
  },
  {
   "cell_type": "code",
   "execution_count": 146,
   "id": "72dafd21",
   "metadata": {},
   "outputs": [],
   "source": [
    "f = open('test4.txt' , 'w' )"
   ]
  },
  {
   "cell_type": "code",
   "execution_count": 147,
   "id": "cc8525ca",
   "metadata": {},
   "outputs": [
    {
     "data": {
      "text/plain": [
       "32"
      ]
     },
     "execution_count": 147,
     "metadata": {},
     "output_type": "execute_result"
    }
   ],
   "source": [
    "f.write(r'dgfkhdlgffjk hfhdgf gf gf dd dvd')"
   ]
  },
  {
   "cell_type": "code",
   "execution_count": 148,
   "id": "0bf30c86",
   "metadata": {},
   "outputs": [],
   "source": [
    "f.close()"
   ]
  },
  {
   "cell_type": "code",
   "execution_count": 151,
   "id": "234b5e77",
   "metadata": {},
   "outputs": [],
   "source": [
    "f = open('test4.txt')\n"
   ]
  },
  {
   "cell_type": "code",
   "execution_count": 152,
   "id": "ea7af24a",
   "metadata": {},
   "outputs": [
    {
     "data": {
      "text/plain": [
       "'dgfkhdlgffjk hfhdgf gf gf dd dvd\\ndsds\\ndsds\\nfasfsa\\nssf\\nssf\\nsfsf\\nff\\ngsg\\ndf'"
      ]
     },
     "execution_count": 152,
     "metadata": {},
     "output_type": "execute_result"
    }
   ],
   "source": [
    "f.read()"
   ]
  },
  {
   "cell_type": "code",
   "execution_count": 153,
   "id": "73f4d325",
   "metadata": {},
   "outputs": [
    {
     "name": "stdout",
     "output_type": "stream",
     "text": [
      "my file is available in this dir\n",
      "dgfkhdlgffjk hfhdgf gf gf dd dvd\n",
      "\n",
      "dsds\n",
      "\n",
      "dsds\n",
      "\n",
      "fasfsa\n",
      "\n",
      "ssf\n",
      "\n",
      "ssf\n",
      "\n",
      "sfsf\n",
      "\n",
      "ff\n",
      "\n",
      "gsg\n",
      "\n",
      "df\n"
     ]
    }
   ],
   "source": [
    "if 'test4.txt' in os.listdir():\n",
    "    print('my file is available in this dir')\n",
    "    f = open('test4.txt' , 'r+')\n",
    "    for i in f :\n",
    "        print(i)\n",
    "\n",
    "else:\n",
    "    print('no file is not avaliable in current dir')"
   ]
  },
  {
   "cell_type": "code",
   "execution_count": 154,
   "id": "4795ab1f",
   "metadata": {},
   "outputs": [],
   "source": [
    "f = open('test4.txt')"
   ]
  },
  {
   "cell_type": "code",
   "execution_count": 155,
   "id": "265ec030",
   "metadata": {},
   "outputs": [
    {
     "data": {
      "text/plain": [
       "['dgfkhdlgffjk hfhdgf gf gf dd dvd\\n',\n",
       " 'dsds\\n',\n",
       " 'dsds\\n',\n",
       " 'fasfsa\\n',\n",
       " 'ssf\\n',\n",
       " 'ssf\\n',\n",
       " 'sfsf\\n',\n",
       " 'ff\\n',\n",
       " 'gsg\\n',\n",
       " 'df']"
      ]
     },
     "execution_count": 155,
     "metadata": {},
     "output_type": "execute_result"
    }
   ],
   "source": [
    "list(f)"
   ]
  },
  {
   "cell_type": "code",
   "execution_count": 1,
   "id": "4fd64915",
   "metadata": {},
   "outputs": [],
   "source": []
  },
  {
   "cell_type": "code",
   "execution_count": null,
   "id": "272ea5c6",
   "metadata": {},
   "outputs": [],
   "source": []
  }
 ],
 "metadata": {
  "kernelspec": {
   "display_name": "Python 3 (ipykernel)",
   "language": "python",
   "name": "python3"
  },
  "language_info": {
   "codemirror_mode": {
    "name": "ipython",
    "version": 3
   },
   "file_extension": ".py",
   "mimetype": "text/x-python",
   "name": "python",
   "nbconvert_exporter": "python",
   "pygments_lexer": "ipython3",
   "version": "3.9.7"
  }
 },
 "nbformat": 4,
 "nbformat_minor": 5
}
