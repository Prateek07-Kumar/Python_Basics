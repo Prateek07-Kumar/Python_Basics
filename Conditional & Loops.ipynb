{
 "cells": [
  {
   "cell_type": "code",
   "execution_count": 1,
   "id": "db44eeac",
   "metadata": {},
   "outputs": [
    {
     "name": "stdout",
     "output_type": "stream",
     "text": [
      "this is a valid statement\n"
     ]
    }
   ],
   "source": [
    "a = 10\n",
    "b = 20\n",
    "\n",
    "if a== 10 and b == 20:\n",
    "    print(\"this is a valid statement\")"
   ]
  },
  {
   "cell_type": "code",
   "execution_count": 2,
   "id": "c7a0fe73",
   "metadata": {},
   "outputs": [
    {
     "data": {
      "text/plain": [
       "True"
      ]
     },
     "execution_count": 2,
     "metadata": {},
     "output_type": "execute_result"
    }
   ],
   "source": [
    "a == 10 and b == 20\n"
   ]
  },
  {
   "cell_type": "code",
   "execution_count": 3,
   "id": "57a80a70",
   "metadata": {},
   "outputs": [
    {
     "data": {
      "text/plain": [
       "True"
      ]
     },
     "execution_count": 3,
     "metadata": {},
     "output_type": "execute_result"
    }
   ],
   "source": [
    "a == 10"
   ]
  },
  {
   "cell_type": "code",
   "execution_count": 4,
   "id": "c160da9a",
   "metadata": {},
   "outputs": [
    {
     "data": {
      "text/plain": [
       "True"
      ]
     },
     "execution_count": 4,
     "metadata": {},
     "output_type": "execute_result"
    }
   ],
   "source": [
    "b == 20"
   ]
  },
  {
   "cell_type": "code",
   "execution_count": 5,
   "id": "ffd9b7cb",
   "metadata": {},
   "outputs": [
    {
     "name": "stdout",
     "output_type": "stream",
     "text": [
      "condition is not valid\n"
     ]
    }
   ],
   "source": [
    "a = 10\n",
    "b = 20\n",
    "\n",
    "if a== 10 and b > 20:\n",
    "    print(\"this is a valid statement\")\n",
    "else:\n",
    "    print(\"condition is not valid\")"
   ]
  },
  {
   "cell_type": "code",
   "execution_count": 8,
   "id": "89af506b",
   "metadata": {},
   "outputs": [
    {
     "name": "stdout",
     "output_type": "stream",
     "text": [
      "this statement is valid inside elif\n"
     ]
    }
   ],
   "source": [
    "a = 10\n",
    "b = 20\n",
    "\n",
    "if a == 10 and b > 20:\n",
    "    print(\"this is a valid statement\")\n",
    "elif a == 10 and b<30:\n",
    "    print(\"this statement is valid inside elif\")\n",
    "else:\n",
    "    print(\"condition is not valid\")"
   ]
  },
  {
   "cell_type": "code",
   "execution_count": 27,
   "id": "14ac791e",
   "metadata": {},
   "outputs": [
    {
     "name": "stdout",
     "output_type": "stream",
     "text": [
      "this statement is valid inside elif\n"
     ]
    }
   ],
   "source": [
    "a = 10\n",
    "b = 20\n",
    "\n",
    "if a== 10 and b > 20:\n",
    "    print(\"this is a valid statement\")\n",
    "elif a == 10 and b<=20 :\n",
    "    print(\"this statement is valid inside elif\")\n",
    "else:\n",
    "    print(\"condition is not valid\")"
   ]
  },
  {
   "cell_type": "markdown",
   "id": "3d1ddff5",
   "metadata": {},
   "source": [
    "OR Statement"
   ]
  },
  {
   "cell_type": "code",
   "execution_count": 10,
   "id": "ae09f87b",
   "metadata": {},
   "outputs": [
    {
     "name": "stdout",
     "output_type": "stream",
     "text": [
      "this is a valid statement\n"
     ]
    }
   ],
   "source": [
    "a = 10\n",
    "b = 20\n",
    "\n",
    "if a== 10 or b >20:\n",
    "    print(\"this is a valid statement\")\n",
    "elif a == 10 or b < 10:\n",
    "    print(\"this statement is valid inside elif\")\n",
    "else:\n",
    "    print(\"condition is not valid\")"
   ]
  },
  {
   "cell_type": "markdown",
   "id": "3fb6175d",
   "metadata": {},
   "source": [
    "While loops"
   ]
  },
  {
   "cell_type": "code",
   "execution_count": 4,
   "id": "406acaa2",
   "metadata": {},
   "outputs": [
    {
     "name": "stdout",
     "output_type": "stream",
     "text": [
      "this is my speed\n",
      "this is my speed\n",
      "this is my speed\n",
      "this is my speed\n",
      "this is my speed\n",
      "this is my speed\n",
      "this is my speed\n",
      "this is my speed\n",
      "this is my speed\n"
     ]
    }
   ],
   "source": [
    "initial_speed = 0\n",
    "final_speed = 100\n",
    "count = 1\n",
    "while initial_speed< final_speed:\n",
    "    print(\"this is my speed\")\n",
    "    count = count +1\n",
    "    if count == 10 :\n",
    "        break"
   ]
  },
  {
   "cell_type": "code",
   "execution_count": 36,
   "id": "d1104bc6",
   "metadata": {},
   "outputs": [
    {
     "name": "stdout",
     "output_type": "stream",
     "text": [
      "1\n",
      "2\n",
      "3\n",
      "4\n"
     ]
    }
   ],
   "source": [
    "i = 1\n",
    "j = 5\n",
    "while i <j :\n",
    "    print(i)\n",
    "    i = i +1"
   ]
  },
  {
   "cell_type": "code",
   "execution_count": 31,
   "id": "8c345e49",
   "metadata": {},
   "outputs": [
    {
     "name": "stdout",
     "output_type": "stream",
     "text": [
      "Enter an integer: 12\n",
      "12 x 1 = 12\n",
      "12 x 2 = 24\n",
      "12 x 3 = 36\n",
      "12 x 4 = 48\n",
      "12 x 5 = 60\n",
      "12 x 6 = 72\n",
      "12 x 7 = 84\n",
      "12 x 8 = 96\n",
      "12 x 9 = 108\n",
      "12 x 10 = 120\n"
     ]
    }
   ],
   "source": [
    "number = int(input(\"Enter an integer: \"))\n",
    " \n",
    "for count in range(1, 11):\n",
    "    product = number * count\n",
    "    print(number, \"x\", count, \"=\", product)"
   ]
  },
  {
   "cell_type": "code",
   "execution_count": 36,
   "id": "6d4520a8",
   "metadata": {},
   "outputs": [
    {
     "name": "stdout",
     "output_type": "stream",
     "text": [
      "this is a valid statement\n"
     ]
    }
   ],
   "source": [
    "a = 1\n",
    "b = 5\n",
    "if a == 1 or b > 5:\n",
    "    print(\"this is a valid statement\")\n",
    "elif a == 1 or b > 6:\n",
    "    print(\"this is a valid inside statement\")\n",
    "else:\n",
    "    print(\"this is not valid\")"
   ]
  },
  {
   "cell_type": "code",
   "execution_count": null,
   "id": "084c473e",
   "metadata": {},
   "outputs": [],
   "source": []
  }
 ],
 "metadata": {
  "kernelspec": {
   "display_name": "Python 3 (ipykernel)",
   "language": "python",
   "name": "python3"
  },
  "language_info": {
   "codemirror_mode": {
    "name": "ipython",
    "version": 3
   },
   "file_extension": ".py",
   "mimetype": "text/x-python",
   "name": "python",
   "nbconvert_exporter": "python",
   "pygments_lexer": "ipython3",
   "version": "3.9.7"
  }
 },
 "nbformat": 4,
 "nbformat_minor": 5
}
