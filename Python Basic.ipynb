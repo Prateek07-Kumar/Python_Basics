{
 "cells": [
  {
   "cell_type": "code",
   "execution_count": 1,
   "id": "1fbbb412",
   "metadata": {},
   "outputs": [
    {
     "name": "stdout",
     "output_type": "stream",
     "text": [
      "this is my first python program\n"
     ]
    }
   ],
   "source": [
    "#this is my first prog\n",
    "print('this is my first python program')"
   ]
  },
  {
   "cell_type": "code",
   "execution_count": 11,
   "id": "0240545e",
   "metadata": {},
   "outputs": [
    {
     "data": {
      "text/plain": [
       "78"
      ]
     },
     "execution_count": 11,
     "metadata": {},
     "output_type": "execute_result"
    }
   ],
   "source": [
    "#my name is prateek\n",
    "\"\"\"FAFASFSAFSAFASFASFASFSDFASF\n",
    "ASDFASF\n",
    "ASDFASDF\n",
    "\"\"\"\n",
    "a = 78\n",
    "a"
   ]
  },
  {
   "cell_type": "code",
   "execution_count": 12,
   "id": "23e80d37",
   "metadata": {},
   "outputs": [
    {
     "data": {
      "text/plain": [
       "int"
      ]
     },
     "execution_count": 12,
     "metadata": {},
     "output_type": "execute_result"
    }
   ],
   "source": [
    "type(a)"
   ]
  },
  {
   "cell_type": "code",
   "execution_count": 3,
   "id": "dbfd52d6",
   "metadata": {},
   "outputs": [
    {
     "data": {
      "text/plain": [
       "'print(\"fsdfsdfs\")\\nprint(\"Fsdfsfs\\\\FSDFSAFASFASDDF)\\nprint(\"sdfsfsdf\")'"
      ]
     },
     "execution_count": 3,
     "metadata": {},
     "output_type": "execute_result"
    }
   ],
   "source": [
    "\"\"\"print(\"fsdfsdfs\")\n",
    "print(\"Fsdfsfs\\FSDFSAFASFASDDF)\n",
    "print(\"sdfsfsdf\")\"\"\""
   ]
  },
  {
   "cell_type": "code",
   "execution_count": 6,
   "id": "84db4cce",
   "metadata": {},
   "outputs": [
    {
     "data": {
      "text/plain": [
       "10"
      ]
     },
     "execution_count": 6,
     "metadata": {},
     "output_type": "execute_result"
    }
   ],
   "source": [
    "afsdf = 10 \n",
    "afsdf"
   ]
  },
  {
   "cell_type": "code",
   "execution_count": 7,
   "id": "1a5a0fcd",
   "metadata": {},
   "outputs": [
    {
     "data": {
      "text/plain": [
       "'34554sudh 45345fgf sgsd sdfg sh sghf h dhdfh df'"
      ]
     },
     "execution_count": 7,
     "metadata": {},
     "output_type": "execute_result"
    }
   ],
   "source": [
    "b = '34554sudh 45345fgf sgsd sdfg sh sghf h dhdfh df'\n",
    "b"
   ]
  },
  {
   "cell_type": "code",
   "execution_count": 8,
   "id": "54387b06",
   "metadata": {},
   "outputs": [
    {
     "data": {
      "text/plain": [
       "str"
      ]
     },
     "execution_count": 8,
     "metadata": {},
     "output_type": "execute_result"
    }
   ],
   "source": [
    "type(b)"
   ]
  },
  {
   "cell_type": "code",
   "execution_count": 13,
   "id": "c96ecf87",
   "metadata": {},
   "outputs": [
    {
     "name": "stdout",
     "output_type": "stream",
     "text": [
      "34554sudh 45345fgf sgsd sdfg sh sghf h dhdfh df 78 Fsdfsfsd\n"
     ]
    }
   ],
   "source": [
    "print(b , a ,\"Fsdfsfsd\")"
   ]
  },
  {
   "cell_type": "code",
   "execution_count": 14,
   "id": "1328ab9d",
   "metadata": {},
   "outputs": [],
   "source": [
    "a = 45\n",
    "b = \"prateek\""
   ]
  },
  {
   "cell_type": "code",
   "execution_count": 15,
   "id": "ea67776d",
   "metadata": {},
   "outputs": [
    {
     "data": {
      "text/plain": [
       "45"
      ]
     },
     "execution_count": 15,
     "metadata": {},
     "output_type": "execute_result"
    }
   ],
   "source": [
    "a"
   ]
  },
  {
   "cell_type": "code",
   "execution_count": 2,
   "id": "9a1fcca5",
   "metadata": {},
   "outputs": [
    {
     "data": {
      "text/plain": [
       "56"
      ]
     },
     "execution_count": 2,
     "metadata": {},
     "output_type": "execute_result"
    }
   ],
   "source": [
    "a"
   ]
  },
  {
   "cell_type": "code",
   "execution_count": 21,
   "id": "ff8e506d",
   "metadata": {},
   "outputs": [],
   "source": [
    "name = \"prateek\"\n",
    "userid = \"IN001\"\n",
    "password = \"fsfsfsd\"\n",
    "mail = \"prateek@ienru.ai\""
   ]
  },
  {
   "cell_type": "code",
   "execution_count": 22,
   "id": "1e215ce0",
   "metadata": {},
   "outputs": [
    {
     "data": {
      "text/plain": [
       "'prateek@ienru.ai'"
      ]
     },
     "execution_count": 22,
     "metadata": {},
     "output_type": "execute_result"
    }
   ],
   "source": [
    "name\n",
    "userid\n",
    "password\n",
    "mail"
   ]
  },
  {
   "cell_type": "code",
   "execution_count": 23,
   "id": "1f7bfd79",
   "metadata": {},
   "outputs": [],
   "source": [
    "a = 1.6423424242243434234234"
   ]
  },
  {
   "cell_type": "code",
   "execution_count": 24,
   "id": "137ba952",
   "metadata": {},
   "outputs": [
    {
     "data": {
      "text/plain": [
       "float"
      ]
     },
     "execution_count": 24,
     "metadata": {},
     "output_type": "execute_result"
    }
   ],
   "source": [
    "type(a)"
   ]
  },
  {
   "cell_type": "code",
   "execution_count": 25,
   "id": "138efac6",
   "metadata": {},
   "outputs": [
    {
     "name": "stdout",
     "output_type": "stream",
     "text": [
      "4\n",
      "0\n"
     ]
    }
   ],
   "source": [
    "print(True + True + True + False + True  )\n",
    "print(False - True+ True ) "
   ]
  },
  {
   "cell_type": "code",
   "execution_count": 28,
   "id": "bdbafbc3",
   "metadata": {},
   "outputs": [
    {
     "data": {
      "text/plain": [
       "(56+8j)"
      ]
     },
     "execution_count": 28,
     "metadata": {},
     "output_type": "execute_result"
    }
   ],
   "source": [
    "n  = 45 + 6j\n",
    "m = 56 + 8j\n",
    "n\n",
    "m"
   ]
  },
  {
   "cell_type": "code",
   "execution_count": 33,
   "id": "4482a92a",
   "metadata": {},
   "outputs": [
    {
     "name": "stdout",
     "output_type": "stream",
     "text": [
      "input a number lesser then 34 --2\n"
     ]
    }
   ],
   "source": [
    "a = int(input(\"input a number lesser then 34 --\"))"
   ]
  },
  {
   "cell_type": "code",
   "execution_count": 29,
   "id": "0523c658",
   "metadata": {},
   "outputs": [],
   "source": [
    "if a <34 :\n",
    "    pass"
   ]
  },
  {
   "cell_type": "code",
   "execution_count": 30,
   "id": "59934182",
   "metadata": {},
   "outputs": [
    {
     "name": "stdout",
     "output_type": "stream",
     "text": [
      "\n"
     ]
    }
   ],
   "source": [
    "if a <34 :\n",
    "    print()"
   ]
  },
  {
   "cell_type": "code",
   "execution_count": 34,
   "id": "e8f451ec",
   "metadata": {},
   "outputs": [
    {
     "name": "stdout",
     "output_type": "stream",
     "text": [
      "input a number6\n",
      "data input is lesser then 34 i am fine with it \n"
     ]
    }
   ],
   "source": [
    "a = int(input(\"input a number\"))\n",
    "if a <34 :\n",
    "    print(\"data input is lesser then 34 i am fine with it \")\n",
    "else:\n",
    "    print ( \"user input is not lesser then 34\")\n",
    "        "
   ]
  },
  {
   "cell_type": "code",
   "execution_count": 31,
   "id": "d414f1a1",
   "metadata": {},
   "outputs": [
    {
     "name": "stdout",
     "output_type": "stream",
     "text": [
      "input a number23\n",
      "data input lesser tehn 34 i am fine with it \n"
     ]
    }
   ],
   "source": [
    "a = int(input(\"input a number\"))\n",
    "if a <34 :\n",
    "    print(\"data input lesser tehn 34 i am fine with it \")"
   ]
  },
  {
   "cell_type": "code",
   "execution_count": 35,
   "id": "39da1ba5",
   "metadata": {},
   "outputs": [
    {
     "name": "stdout",
     "output_type": "stream",
     "text": [
      "input a number54\n",
      " my data is lesse then 100\n"
     ]
    }
   ],
   "source": [
    "a = int(input(\"input a number\"))\n",
    "if a <34 :\n",
    "    print(\"data input is lesser then 34 i am fine with it \")\n",
    "elif a < 100:\n",
    "    print(\" my data is lesse then 100\")\n",
    "\n",
    "else:\n",
    "    print ( \"user input is not lesser then 34\")\n",
    "        "
   ]
  },
  {
   "cell_type": "code",
   "execution_count": 36,
   "id": "df2a0bb9",
   "metadata": {},
   "outputs": [
    {
     "name": "stdout",
     "output_type": "stream",
     "text": [
      "enter your salary23\n",
      "i will buy a car\n"
     ]
    }
   ],
   "source": [
    "salary = int(input(\"enter your salary\"))\n",
    "if salary < 1000:\n",
    "    print(\"i will buy a car\")\n",
    "elif salary < 500:\n",
    "    print (\"i will go for bike\")\n",
    "elif salary < 100:\n",
    "    print (\"i will not buy anything\")\n",
    "else :\n",
    "    print (\"i will go for saving\")"
   ]
  },
  {
   "cell_type": "code",
   "execution_count": 38,
   "id": "49a80fb9",
   "metadata": {},
   "outputs": [
    {
     "name": "stdout",
     "output_type": "stream",
     "text": [
      "enter your salary556\n",
      "i will go for bike\n"
     ]
    }
   ],
   "source": [
    "salary = int(input(\"enter your salary\"))\n",
    "if( salary > 1000):\n",
    "    print(\"your salary is good\")\n",
    "    if salary > 5000:\n",
    "        print(\"i will go with a car nano\")\n",
    "        if True:\n",
    "            print(\"false code\")\n",
    "        elif slary >10000:\n",
    "            print(\"i will go with maruti\")\n",
    "        elif salary > 50000:\n",
    "            print(\"i will go with toyota\")\n",
    "        else :\n",
    "            print(\"i will rent a car\")\n",
    "elif salary > 500:\n",
    "    print (\"i will go for bike\")\n",
    "elif salary > 100:\n",
    "    print (\"i will not buy anything\")\n",
    "else :\n",
    "    print (\"i will go for saving\")"
   ]
  },
  {
   "cell_type": "code",
   "execution_count": 39,
   "id": "e97a9b2b",
   "metadata": {},
   "outputs": [],
   "source": [
    "def test(name = str  , test = int):\n",
    "    name = \"fsfds\"\n",
    "    test= \"fsdfs\"\n",
    "    print(name, test)"
   ]
  },
  {
   "cell_type": "code",
   "execution_count": 40,
   "id": "c530f27a",
   "metadata": {},
   "outputs": [
    {
     "data": {
      "text/plain": [
       "'prateek'"
      ]
     },
     "execution_count": 40,
     "metadata": {},
     "output_type": "execute_result"
    }
   ],
   "source": [
    "name"
   ]
  },
  {
   "cell_type": "code",
   "execution_count": 41,
   "id": "25f4f44e",
   "metadata": {},
   "outputs": [
    {
     "data": {
      "text/plain": [
       "<function __main__.test(name=<class 'str'>, test=<class 'int'>)>"
      ]
     },
     "execution_count": 41,
     "metadata": {},
     "output_type": "execute_result"
    }
   ],
   "source": [
    "test"
   ]
  },
  {
   "cell_type": "code",
   "execution_count": 42,
   "id": "85bd78cc",
   "metadata": {},
   "outputs": [],
   "source": [
    "def test1(name , id1):\n",
    "    \n",
    "    print(test(),name , id1)"
   ]
  },
  {
   "cell_type": "code",
   "execution_count": 43,
   "id": "e4bf8ee4",
   "metadata": {},
   "outputs": [
    {
     "data": {
      "text/plain": [
       "'prateek'"
      ]
     },
     "execution_count": 43,
     "metadata": {},
     "output_type": "execute_result"
    }
   ],
   "source": [
    "name"
   ]
  },
  {
   "cell_type": "code",
   "execution_count": null,
   "id": "b045eb88",
   "metadata": {},
   "outputs": [],
   "source": []
  }
 ],
 "metadata": {
  "kernelspec": {
   "display_name": "Python 3 (ipykernel)",
   "language": "python",
   "name": "python3"
  },
  "language_info": {
   "codemirror_mode": {
    "name": "ipython",
    "version": 3
   },
   "file_extension": ".py",
   "mimetype": "text/x-python",
   "name": "python",
   "nbconvert_exporter": "python",
   "pygments_lexer": "ipython3",
   "version": "3.9.7"
  }
 },
 "nbformat": 4,
 "nbformat_minor": 5
}
