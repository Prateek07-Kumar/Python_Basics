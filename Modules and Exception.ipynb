{
 "cells": [
  {
   "cell_type": "code",
   "execution_count": 1,
   "id": "6b4c85c7",
   "metadata": {},
   "outputs": [],
   "source": [
    "import math"
   ]
  },
  {
   "cell_type": "code",
   "execution_count": 2,
   "id": "9ce50cb4",
   "metadata": {},
   "outputs": [
    {
     "data": {
      "text/plain": [
       "2.0"
      ]
     },
     "execution_count": 2,
     "metadata": {},
     "output_type": "execute_result"
    }
   ],
   "source": [
    "math.sqrt(4)"
   ]
  },
  {
   "cell_type": "code",
   "execution_count": 3,
   "id": "e1e0c4eb",
   "metadata": {},
   "outputs": [],
   "source": [
    "from math import sqrt"
   ]
  },
  {
   "cell_type": "code",
   "execution_count": 4,
   "id": "b7d8df12",
   "metadata": {},
   "outputs": [
    {
     "data": {
      "text/plain": [
       "2.23606797749979"
      ]
     },
     "execution_count": 4,
     "metadata": {},
     "output_type": "execute_result"
    }
   ],
   "source": [
    "sqrt(5)"
   ]
  },
  {
   "cell_type": "code",
   "execution_count": 5,
   "id": "cd6efbe6",
   "metadata": {},
   "outputs": [],
   "source": [
    "from math import sqrt, pi"
   ]
  },
  {
   "cell_type": "code",
   "execution_count": 6,
   "id": "3b4f7e1d",
   "metadata": {},
   "outputs": [
    {
     "data": {
      "text/plain": [
       "3.141592653589793"
      ]
     },
     "execution_count": 6,
     "metadata": {},
     "output_type": "execute_result"
    }
   ],
   "source": [
    "pi"
   ]
  },
  {
   "cell_type": "code",
   "execution_count": 7,
   "id": "b92bf117",
   "metadata": {},
   "outputs": [],
   "source": [
    "from math import *"
   ]
  },
  {
   "cell_type": "code",
   "execution_count": 8,
   "id": "b085c690",
   "metadata": {},
   "outputs": [
    {
     "data": {
      "text/plain": [
       "0.0"
      ]
     },
     "execution_count": 8,
     "metadata": {},
     "output_type": "execute_result"
    }
   ],
   "source": [
    "sin(0)"
   ]
  },
  {
   "cell_type": "code",
   "execution_count": 9,
   "id": "54f2e56c",
   "metadata": {},
   "outputs": [
    {
     "data": {
      "text/plain": [
       "2.6457513110645907"
      ]
     },
     "execution_count": 9,
     "metadata": {},
     "output_type": "execute_result"
    }
   ],
   "source": [
    "sqrt(7)"
   ]
  },
  {
   "cell_type": "code",
   "execution_count": 10,
   "id": "84489bf3",
   "metadata": {},
   "outputs": [
    {
     "data": {
      "text/plain": [
       "3.141592653589793"
      ]
     },
     "execution_count": 10,
     "metadata": {},
     "output_type": "execute_result"
    }
   ],
   "source": [
    "pi"
   ]
  },
  {
   "cell_type": "code",
   "execution_count": 11,
   "id": "656695db",
   "metadata": {},
   "outputs": [
    {
     "data": {
      "text/plain": [
       "'C:\\\\Users\\\\Prateek\\\\Desktop\\\\pythonprojects'"
      ]
     },
     "execution_count": 11,
     "metadata": {},
     "output_type": "execute_result"
    }
   ],
   "source": [
    "pwd()"
   ]
  },
  {
   "cell_type": "code",
   "execution_count": 12,
   "id": "5f08f059",
   "metadata": {},
   "outputs": [
    {
     "name": "stdout",
     "output_type": "stream",
     "text": [
      "this is my first ever module\n"
     ]
    }
   ],
   "source": [
    "import test1"
   ]
  },
  {
   "cell_type": "code",
   "execution_count": 13,
   "id": "12808972",
   "metadata": {},
   "outputs": [],
   "source": [
    "import test1                 # they give you one time data not many time if you have create a file extention in jupyter notebook"
   ]
  },
  {
   "cell_type": "code",
   "execution_count": 14,
   "id": "8da5a68c",
   "metadata": {},
   "outputs": [],
   "source": [
    "import imp"
   ]
  },
  {
   "cell_type": "code",
   "execution_count": 15,
   "id": "9b953f26",
   "metadata": {},
   "outputs": [
    {
     "name": "stdout",
     "output_type": "stream",
     "text": [
      "this is my first ever module\n"
     ]
    },
    {
     "data": {
      "text/plain": [
       "<module 'test1' from 'C:\\\\Users\\\\Prateek\\\\Desktop\\\\pythonprojects\\\\test1.py'>"
      ]
     },
     "execution_count": 15,
     "metadata": {},
     "output_type": "execute_result"
    }
   ],
   "source": [
    "imp.reload(test1)           # if you imp the code give you your save data in file extention"
   ]
  },
  {
   "cell_type": "code",
   "execution_count": 16,
   "id": "4d3dc743",
   "metadata": {},
   "outputs": [],
   "source": [
    "import addition"
   ]
  },
  {
   "cell_type": "code",
   "execution_count": 17,
   "id": "c4a99b31",
   "metadata": {},
   "outputs": [
    {
     "data": {
      "text/plain": [
       "9"
      ]
     },
     "execution_count": 17,
     "metadata": {},
     "output_type": "execute_result"
    }
   ],
   "source": [
    "addition.addition1(4,5)      # if you create a file extention and menction a,b for addition they give you ans"
   ]
  },
  {
   "cell_type": "code",
   "execution_count": 18,
   "id": "9d833248",
   "metadata": {},
   "outputs": [],
   "source": [
    "import test5"
   ]
  },
  {
   "cell_type": "code",
   "execution_count": 19,
   "id": "aa45f73b",
   "metadata": {},
   "outputs": [
    {
     "data": {
      "text/plain": [
       "9"
      ]
     },
     "execution_count": 19,
     "metadata": {},
     "output_type": "execute_result"
    }
   ],
   "source": [
    "test5.addition(4,5)"
   ]
  },
  {
   "cell_type": "code",
   "execution_count": 20,
   "id": "d1750eb1",
   "metadata": {},
   "outputs": [
    {
     "data": {
      "text/plain": [
       "30"
      ]
     },
     "execution_count": 20,
     "metadata": {},
     "output_type": "execute_result"
    }
   ],
   "source": [
    "test5.mul(5,6)"
   ]
  },
  {
   "cell_type": "code",
   "execution_count": 21,
   "id": "9862c080",
   "metadata": {},
   "outputs": [
    {
     "data": {
      "text/plain": [
       "5764801"
      ]
     },
     "execution_count": 21,
     "metadata": {},
     "output_type": "execute_result"
    }
   ],
   "source": [
    "test5.power(7,8)"
   ]
  },
  {
   "cell_type": "code",
   "execution_count": 22,
   "id": "8a12e0f1",
   "metadata": {},
   "outputs": [],
   "source": [
    "import test6"
   ]
  },
  {
   "cell_type": "code",
   "execution_count": 23,
   "id": "626e5f94",
   "metadata": {},
   "outputs": [
    {
     "data": {
      "text/plain": [
       "'this is my class '"
      ]
     },
     "execution_count": 23,
     "metadata": {},
     "output_type": "execute_result"
    }
   ],
   "source": [
    "test6.msg()"
   ]
  },
  {
   "cell_type": "code",
   "execution_count": 24,
   "id": "d4624624",
   "metadata": {},
   "outputs": [
    {
     "data": {
      "text/plain": [
       "['ml', 'dL', 'py', 'stats', 'cv']"
      ]
     },
     "execution_count": 24,
     "metadata": {},
     "output_type": "execute_result"
    }
   ],
   "source": [
    "test6.get_course()"
   ]
  },
  {
   "cell_type": "code",
   "execution_count": 2,
   "id": "8fbe732b",
   "metadata": {},
   "outputs": [],
   "source": [
    "data = {\n",
    "    \"name\" : \"sudh\",\n",
    "    \"course\" : [\"ml\", \"dL\",\"py\",\"stats\",\"cv\"],\n",
    "    \"msg\":\"this is my class \"\n",
    "}\n",
    "\n",
    "def get_course():\n",
    "    return data[\"course\"]\n",
    "\n",
    "\n",
    "def msg():\n",
    "    return data[\"msg\"]"
   ]
  },
  {
   "cell_type": "code",
   "execution_count": 4,
   "id": "468445e2",
   "metadata": {},
   "outputs": [],
   "source": [
    "from test6 import get_course "
   ]
  },
  {
   "cell_type": "code",
   "execution_count": null,
   "id": "a2e0355f",
   "metadata": {},
   "outputs": [],
   "source": []
  }
 ],
 "metadata": {
  "kernelspec": {
   "display_name": "Python 3 (ipykernel)",
   "language": "python",
   "name": "python3"
  },
  "language_info": {
   "codemirror_mode": {
    "name": "ipython",
    "version": 3
   },
   "file_extension": ".py",
   "mimetype": "text/x-python",
   "name": "python",
   "nbconvert_exporter": "python",
   "pygments_lexer": "ipython3",
   "version": "3.9.7"
  }
 },
 "nbformat": 4,
 "nbformat_minor": 5
}
